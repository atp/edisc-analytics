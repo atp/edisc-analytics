{
 "cells": [
  {
   "cell_type": "markdown",
   "id": "republican-restaurant",
   "metadata": {},
   "source": [
    "# **Análise de engajamento dos alunos.**\n",
    "**Este notebook tem como objetivo demonstrar a quantidade de cliques em cada função da disicplina 4300459.**"
   ]
  },
  {
   "cell_type": "markdown",
   "id": "affiliated-cigarette",
   "metadata": {},
   "source": [
    "**O intuito para esse notebook é completa-lo com a adição de novas disicplinas.**"
   ]
  },
  {
   "cell_type": "code",
   "execution_count": 12,
   "id": "proud-spotlight",
   "metadata": {},
   "outputs": [],
   "source": [
    "import numpy as np\n",
    "import pandas as pd\n",
    "import matplotlib.pyplot as plt\n",
    "import seaborn as sns\n",
    "import plotly.offline as py\n",
    "import plotly.graph_objs as go"
   ]
  },
  {
   "cell_type": "code",
   "execution_count": 13,
   "id": "compliant-sharing",
   "metadata": {},
   "outputs": [
    {
     "data": {
      "text/html": [
       "<div>\n",
       "<style scoped>\n",
       "    .dataframe tbody tr th:only-of-type {\n",
       "        vertical-align: middle;\n",
       "    }\n",
       "\n",
       "    .dataframe tbody tr th {\n",
       "        vertical-align: top;\n",
       "    }\n",
       "\n",
       "    .dataframe thead th {\n",
       "        text-align: right;\n",
       "    }\n",
       "</style>\n",
       "<table border=\"1\" class=\"dataframe\">\n",
       "  <thead>\n",
       "    <tr style=\"text-align: right;\">\n",
       "      <th></th>\n",
       "      <th>id</th>\n",
       "      <th>eventname</th>\n",
       "      <th>component</th>\n",
       "      <th>action</th>\n",
       "      <th>target</th>\n",
       "      <th>objecttable</th>\n",
       "      <th>objectid</th>\n",
       "      <th>crud</th>\n",
       "      <th>edulevel</th>\n",
       "      <th>contextid</th>\n",
       "      <th>...</th>\n",
       "      <th>contextinstanceid</th>\n",
       "      <th>userid</th>\n",
       "      <th>courseid</th>\n",
       "      <th>relateduserid</th>\n",
       "      <th>anonymous</th>\n",
       "      <th>other</th>\n",
       "      <th>timecreated</th>\n",
       "      <th>origin</th>\n",
       "      <th>ip</th>\n",
       "      <th>realuserid</th>\n",
       "    </tr>\n",
       "  </thead>\n",
       "  <tbody>\n",
       "  </tbody>\n",
       "</table>\n",
       "<p>0 rows × 21 columns</p>\n",
       "</div>"
      ],
      "text/plain": [
       "Empty DataFrame\n",
       "Columns: [id, eventname, component, action, target, objecttable, objectid, crud, edulevel, contextid, contextlevel, contextinstanceid, userid, courseid, relateduserid, anonymous, other, timecreated, origin, ip, realuserid]\n",
       "Index: []\n",
       "\n",
       "[0 rows x 21 columns]"
      ]
     },
     "execution_count": 13,
     "metadata": {},
     "output_type": "execute_result"
    }
   ],
   "source": [
    "tabela = pd.read_table('logs-4300459-2021.csv', sep=',')\n",
    "tabela.sample(0)"
   ]
  },
  {
   "cell_type": "code",
   "execution_count": 14,
   "id": "proof-signal",
   "metadata": {},
   "outputs": [],
   "source": [
    "#filtrado = pd.read_table('logs-para-programa-em-python.csv', sep=',')\n",
    "#filtrado.sample(0)"
   ]
  },
  {
   "cell_type": "markdown",
   "id": "flush-choir",
   "metadata": {},
   "source": [
    "# Primeiramente temos a quantidade de cliques ao todo em cada recurso da disicplina."
   ]
  },
  {
   "cell_type": "code",
   "execution_count": 15,
   "id": "subject-marsh",
   "metadata": {},
   "outputs": [
    {
     "name": "stdout",
     "output_type": "stream",
     "text": [
      "core                           24202\n",
      "mod_forum                       4994\n",
      "mod_quiz                        4281\n",
      "mod_assign                      3412\n",
      "mod_checklist                   2460\n",
      "mod_attendance                  2061\n",
      "mod_bigbluebuttonbn             1967\n",
      "mod_data                        1502\n",
      "mod_page                        1346\n",
      "mod_url                          954\n",
      "mod_workshop                     933\n",
      "mod_choicegroup                  546\n",
      "mod_studentquiz                  452\n",
      "mod_choice                       427\n",
      "mod_questionnaire                320\n",
      "gradereport_user                 300\n",
      "mod_resource                     299\n",
      "mod_hvp                          273\n",
      "assignsubmission_onlinetext      270\n",
      "mod_chat                         242\n",
      "mod_folder                       186\n",
      "mod_feedback                     155\n",
      "assignsubmission_file            124\n",
      "mod_glossary                      37\n",
      "gradereport_grader                32\n",
      "tool_recyclebin                   26\n",
      "gradereport_overview              24\n",
      "mod_pdfannotator                  10\n",
      "mod_scorm                          7\n",
      "report_log                         7\n",
      "mod_lti                            6\n",
      "gradereport_singleview             5\n",
      "tool_usertours                     5\n",
      "report_outline                     4\n",
      "mod_poster                         3\n",
      "gradeexport_usp                    1\n",
      "Name: component, dtype: int64\n"
     ]
    }
   ],
   "source": [
    "N=60\n",
    "resources = tabela['component'].value_counts(dropna=True)[:N]\n",
    "print(resources)"
   ]
  },
  {
   "cell_type": "markdown",
   "id": "agreed-council",
   "metadata": {},
   "source": [
    "# Gráfico com a quantidade de ações em cada recurso sem o \"core\"."
   ]
  },
  {
   "cell_type": "code",
   "execution_count": 120,
   "id": "choice-gossip",
   "metadata": {},
   "outputs": [
    {
     "data": {
      "text/plain": [
       "<AxesSubplot:xlabel='count', ylabel='component'>"
      ]
     },
     "execution_count": 120,
     "metadata": {},
     "output_type": "execute_result"
    },
    {
     "data": {
      "image/png": "[encoded data removed]",
      "text/plain": [
       "<Figure size 720x864 with 1 Axes>"
      ]
     },
     "metadata": {
      "needs_background": "light"
     },
     "output_type": "display_data"
    }
   ],
   "source": [
    "gra2 = plt.subplots(figsize=(10, 12))\n",
    "sns.countplot(y=\"component\", data=actions.query(\"component != 'core'\"), color=\"g\")"
   ]
  },
  {
   "cell_type": "markdown",
   "id": "educational-failure",
   "metadata": {},
   "source": [
    " # Quantas interações com a disicplina cada aluno teve?"
   ]
  },
  {
   "cell_type": "code",
   "execution_count": 16,
   "id": "comfortable-manor",
   "metadata": {},
   "outputs": [],
   "source": [
    "#N=60\n",
    "#intera=filtrado.groupby(by=['Indice']).agg({'Acessos':'sum'})\n",
    "#intera.sort_values(by='Acessos',ascending=False)[:N]"
   ]
  },
  {
   "cell_type": "code",
   "execution_count": 17,
   "id": "centered-sailing",
   "metadata": {},
   "outputs": [],
   "source": [
    "#N=20\n",
    "#grafintera = intera.groupby(by=['Indice']).agg({'Acessos':'sum'})\n",
    "#intera.sort_values(by='Acessos',ascending=False)[:N].plot(kind='barh')"
   ]
  },
  {
   "cell_type": "code",
   "execution_count": 18,
   "id": "early-advocacy",
   "metadata": {},
   "outputs": [
    {
     "data": {
      "text/html": [
       "<div>\n",
       "<style scoped>\n",
       "    .dataframe tbody tr th:only-of-type {\n",
       "        vertical-align: middle;\n",
       "    }\n",
       "\n",
       "    .dataframe tbody tr th {\n",
       "        vertical-align: top;\n",
       "    }\n",
       "\n",
       "    .dataframe thead th {\n",
       "        text-align: right;\n",
       "    }\n",
       "</style>\n",
       "<table border=\"1\" class=\"dataframe\">\n",
       "  <thead>\n",
       "    <tr style=\"text-align: right;\">\n",
       "      <th></th>\n",
       "      <th>Acessos</th>\n",
       "    </tr>\n",
       "  </thead>\n",
       "  <tbody>\n",
       "    <tr>\n",
       "      <th>18</th>\n",
       "      <td>1353</td>\n",
       "    </tr>\n",
       "    <tr>\n",
       "      <th>14</th>\n",
       "      <td>1277</td>\n",
       "    </tr>\n",
       "    <tr>\n",
       "      <th>45</th>\n",
       "      <td>1257</td>\n",
       "    </tr>\n",
       "    <tr>\n",
       "      <th>37</th>\n",
       "      <td>1252</td>\n",
       "    </tr>\n",
       "    <tr>\n",
       "      <th>57</th>\n",
       "      <td>1246</td>\n",
       "    </tr>\n",
       "    <tr>\n",
       "      <th>23</th>\n",
       "      <td>1163</td>\n",
       "    </tr>\n",
       "    <tr>\n",
       "      <th>12</th>\n",
       "      <td>1141</td>\n",
       "    </tr>\n",
       "    <tr>\n",
       "      <th>40</th>\n",
       "      <td>1114</td>\n",
       "    </tr>\n",
       "    <tr>\n",
       "      <th>39</th>\n",
       "      <td>1105</td>\n",
       "    </tr>\n",
       "    <tr>\n",
       "      <th>60</th>\n",
       "      <td>1100</td>\n",
       "    </tr>\n",
       "    <tr>\n",
       "      <th>59</th>\n",
       "      <td>1079</td>\n",
       "    </tr>\n",
       "    <tr>\n",
       "      <th>41</th>\n",
       "      <td>1079</td>\n",
       "    </tr>\n",
       "    <tr>\n",
       "      <th>36</th>\n",
       "      <td>1073</td>\n",
       "    </tr>\n",
       "    <tr>\n",
       "      <th>31</th>\n",
       "      <td>1071</td>\n",
       "    </tr>\n",
       "    <tr>\n",
       "      <th>25</th>\n",
       "      <td>1050</td>\n",
       "    </tr>\n",
       "    <tr>\n",
       "      <th>4</th>\n",
       "      <td>1029</td>\n",
       "    </tr>\n",
       "    <tr>\n",
       "      <th>53</th>\n",
       "      <td>1004</td>\n",
       "    </tr>\n",
       "    <tr>\n",
       "      <th>32</th>\n",
       "      <td>981</td>\n",
       "    </tr>\n",
       "    <tr>\n",
       "      <th>17</th>\n",
       "      <td>908</td>\n",
       "    </tr>\n",
       "    <tr>\n",
       "      <th>13</th>\n",
       "      <td>886</td>\n",
       "    </tr>\n",
       "    <tr>\n",
       "      <th>46</th>\n",
       "      <td>872</td>\n",
       "    </tr>\n",
       "    <tr>\n",
       "      <th>10</th>\n",
       "      <td>866</td>\n",
       "    </tr>\n",
       "    <tr>\n",
       "      <th>27</th>\n",
       "      <td>827</td>\n",
       "    </tr>\n",
       "    <tr>\n",
       "      <th>49</th>\n",
       "      <td>824</td>\n",
       "    </tr>\n",
       "    <tr>\n",
       "      <th>33</th>\n",
       "      <td>798</td>\n",
       "    </tr>\n",
       "    <tr>\n",
       "      <th>16</th>\n",
       "      <td>766</td>\n",
       "    </tr>\n",
       "    <tr>\n",
       "      <th>43</th>\n",
       "      <td>749</td>\n",
       "    </tr>\n",
       "    <tr>\n",
       "      <th>50</th>\n",
       "      <td>697</td>\n",
       "    </tr>\n",
       "    <tr>\n",
       "      <th>52</th>\n",
       "      <td>697</td>\n",
       "    </tr>\n",
       "    <tr>\n",
       "      <th>47</th>\n",
       "      <td>681</td>\n",
       "    </tr>\n",
       "    <tr>\n",
       "      <th>6</th>\n",
       "      <td>647</td>\n",
       "    </tr>\n",
       "    <tr>\n",
       "      <th>19</th>\n",
       "      <td>634</td>\n",
       "    </tr>\n",
       "    <tr>\n",
       "      <th>56</th>\n",
       "      <td>628</td>\n",
       "    </tr>\n",
       "    <tr>\n",
       "      <th>3</th>\n",
       "      <td>617</td>\n",
       "    </tr>\n",
       "    <tr>\n",
       "      <th>28</th>\n",
       "      <td>604</td>\n",
       "    </tr>\n",
       "    <tr>\n",
       "      <th>15</th>\n",
       "      <td>598</td>\n",
       "    </tr>\n",
       "    <tr>\n",
       "      <th>54</th>\n",
       "      <td>584</td>\n",
       "    </tr>\n",
       "    <tr>\n",
       "      <th>64</th>\n",
       "      <td>497</td>\n",
       "    </tr>\n",
       "    <tr>\n",
       "      <th>9</th>\n",
       "      <td>441</td>\n",
       "    </tr>\n",
       "    <tr>\n",
       "      <th>11</th>\n",
       "      <td>354</td>\n",
       "    </tr>\n",
       "    <tr>\n",
       "      <th>30</th>\n",
       "      <td>350</td>\n",
       "    </tr>\n",
       "    <tr>\n",
       "      <th>1</th>\n",
       "      <td>315</td>\n",
       "    </tr>\n",
       "    <tr>\n",
       "      <th>38</th>\n",
       "      <td>299</td>\n",
       "    </tr>\n",
       "    <tr>\n",
       "      <th>2</th>\n",
       "      <td>194</td>\n",
       "    </tr>\n",
       "    <tr>\n",
       "      <th>34</th>\n",
       "      <td>186</td>\n",
       "    </tr>\n",
       "    <tr>\n",
       "      <th>22</th>\n",
       "      <td>176</td>\n",
       "    </tr>\n",
       "    <tr>\n",
       "      <th>7</th>\n",
       "      <td>174</td>\n",
       "    </tr>\n",
       "    <tr>\n",
       "      <th>5</th>\n",
       "      <td>139</td>\n",
       "    </tr>\n",
       "    <tr>\n",
       "      <th>35</th>\n",
       "      <td>135</td>\n",
       "    </tr>\n",
       "    <tr>\n",
       "      <th>51</th>\n",
       "      <td>130</td>\n",
       "    </tr>\n",
       "    <tr>\n",
       "      <th>21</th>\n",
       "      <td>111</td>\n",
       "    </tr>\n",
       "    <tr>\n",
       "      <th>29</th>\n",
       "      <td>108</td>\n",
       "    </tr>\n",
       "    <tr>\n",
       "      <th>0</th>\n",
       "      <td>22</td>\n",
       "    </tr>\n",
       "    <tr>\n",
       "      <th>48</th>\n",
       "      <td>6</td>\n",
       "    </tr>\n",
       "    <tr>\n",
       "      <th>58</th>\n",
       "      <td>4</td>\n",
       "    </tr>\n",
       "    <tr>\n",
       "      <th>44</th>\n",
       "      <td>4</td>\n",
       "    </tr>\n",
       "    <tr>\n",
       "      <th>42</th>\n",
       "      <td>4</td>\n",
       "    </tr>\n",
       "    <tr>\n",
       "      <th>20</th>\n",
       "      <td>3</td>\n",
       "    </tr>\n",
       "    <tr>\n",
       "      <th>26</th>\n",
       "      <td>3</td>\n",
       "    </tr>\n",
       "    <tr>\n",
       "      <th>62</th>\n",
       "      <td>3</td>\n",
       "    </tr>\n",
       "  </tbody>\n",
       "</table>\n",
       "</div>"
      ],
      "text/plain": [
       "    Acessos\n",
       "18     1353\n",
       "14     1277\n",
       "45     1257\n",
       "37     1252\n",
       "57     1246\n",
       "23     1163\n",
       "12     1141\n",
       "40     1114\n",
       "39     1105\n",
       "60     1100\n",
       "59     1079\n",
       "41     1079\n",
       "36     1073\n",
       "31     1071\n",
       "25     1050\n",
       "4      1029\n",
       "53     1004\n",
       "32      981\n",
       "17      908\n",
       "13      886\n",
       "46      872\n",
       "10      866\n",
       "27      827\n",
       "49      824\n",
       "33      798\n",
       "16      766\n",
       "43      749\n",
       "50      697\n",
       "52      697\n",
       "47      681\n",
       "6       647\n",
       "19      634\n",
       "56      628\n",
       "3       617\n",
       "28      604\n",
       "15      598\n",
       "54      584\n",
       "64      497\n",
       "9       441\n",
       "11      354\n",
       "30      350\n",
       "1       315\n",
       "38      299\n",
       "2       194\n",
       "34      186\n",
       "22      176\n",
       "7       174\n",
       "5       139\n",
       "35      135\n",
       "51      130\n",
       "21      111\n",
       "29      108\n",
       "0        22\n",
       "48        6\n",
       "58        4\n",
       "44        4\n",
       "42        4\n",
       "20        3\n",
       "26        3\n",
       "62        3"
      ]
     },
     "execution_count": 18,
     "metadata": {},
     "output_type": "execute_result"
    }
   ],
   "source": [
    "filtrado1 = tabela.groupby(by=['userid']).size()\n",
    "filtro_tabela = filtrado1.drop(-1)\n",
    "filtro_tabela2 = filtro_tabela.drop(2)\n",
    "filtro_tabela3 = filtro_tabela2.drop(6)\n",
    "filtro_tabela3.to_csv('filtro_3.csv')\n",
    "filtrado2 = pd.read_table('filtro_3.csv', sep=',')\n",
    "filtrado3 = filtrado2.drop(columns=['userid'])\n",
    "filtrado3.columns = ['Acessos']\n",
    "N=60\n",
    "filtrado3.index\n",
    "filtrado3.sort_values(by='Acessos',ascending=False)[:N]"
   ]
  },
  {
   "cell_type": "markdown",
   "id": "integrated-literacy",
   "metadata": {},
   "source": [
    "# Qual o aluno com mais clics?\n",
    "\n",
    "**O gráfico abaixo nos mostra o aluno que possui a maior interação com a disciplina e os outros 20 com as maiores interações.**"
   ]
  },
  {
   "cell_type": "code",
   "execution_count": 19,
   "id": "antique-agreement",
   "metadata": {},
   "outputs": [
    {
     "data": {
      "text/plain": [
       "<AxesSubplot:>"
      ]
     },
     "execution_count": 19,
     "metadata": {},
     "output_type": "execute_result"
    },
    {
     "data": {
      "image/png": "[encoded data removed]",
      "text/plain": [
       "<Figure size 432x288 with 1 Axes>"
      ]
     },
     "metadata": {
      "needs_background": "light"
     },
     "output_type": "display_data"
    }
   ],
   "source": [
    "N=20\n",
    "filtrado3.sort_values(by='Acessos',ascending=False)[:N].plot(kind='barh')"
   ]
  },
  {
   "cell_type": "markdown",
   "id": "formed-convention",
   "metadata": {},
   "source": [
    "**De uma forma similar podemos ver uma distribuição total dos alunos e seus clics onde barra mais alta é o aluno 18.**"
   ]
  },
  {
   "cell_type": "code",
   "execution_count": 20,
   "id": "confident-spice",
   "metadata": {},
   "outputs": [
    {
     "data": {
      "text/plain": [
       "Text(0, 0.5, 'Acessos')"
      ]
     },
     "execution_count": 20,
     "metadata": {},
     "output_type": "execute_result"
    },
    {
     "data": {
      "image/png": "[encoded data removed]",
      "text/plain": [
       "<Figure size 1080x720 with 1 Axes>"
      ]
     },
     "metadata": {
      "needs_background": "light"
     },
     "output_type": "display_data"
    }
   ],
   "source": [
    "clics = filtrado3['Acessos']\n",
    "x = clics.index\n",
    "y = clics\n",
    "plt.figure(figsize=(15, 10))\n",
    "plt.bar(x, y)\n",
    "plt.title('Quantidade de clics de cada aluno')\n",
    "plt.xlabel('Alunos')\n",
    "plt.ylabel('Acessos')"
   ]
  },
  {
   "cell_type": "markdown",
   "id": "bearing-attention",
   "metadata": {},
   "source": [
    "# Já neste gráfico é possível ver quantos alunos tem a quantidade de clics, que esta disposta no eixo X."
   ]
  },
  {
   "cell_type": "code",
   "execution_count": 21,
   "id": "accredited-buyer",
   "metadata": {},
   "outputs": [],
   "source": [
    "# histograma com numero de clics no eixo X e eixo y um range de usuarios com clics"
   ]
  },
  {
   "cell_type": "code",
   "execution_count": 22,
   "id": "atmospheric-tucson",
   "metadata": {},
   "outputs": [
    {
     "data": {
      "text/plain": [
       "Text(0, 0.5, 'Alunos')"
      ]
     },
     "execution_count": 22,
     "metadata": {},
     "output_type": "execute_result"
    },
    {
     "data": {
      "image/png": "[encoded data removed]",
      "text/plain": [
       "<Figure size 720x576 with 1 Axes>"
      ]
     },
     "metadata": {
      "needs_background": "light"
     },
     "output_type": "display_data"
    }
   ],
   "source": [
    "Acessos = filtrado3['Acessos']\n",
    "plt.figure(figsize=(10, 8))\n",
    "plt.hist(Acessos, bins=range(1000, 1400,30))\n",
    "plt.title('Numero de alunos com as maiores iterações')\n",
    "plt.xlabel('Acessos')\n",
    "plt.ylabel('Alunos')"
   ]
  },
  {
   "cell_type": "markdown",
   "id": "champion-tongue",
   "metadata": {},
   "source": [
    "# Distribuição de ações em cada recurso da disciplina."
   ]
  },
  {
   "cell_type": "code",
   "execution_count": null,
   "id": "adapted-carpet",
   "metadata": {},
   "outputs": [],
   "source": []
  },
  {
   "cell_type": "code",
   "execution_count": 119,
   "id": "imperial-richardson",
   "metadata": {},
   "outputs": [
    {
     "data": {
      "text/plain": [
       "<seaborn.axisgrid.FacetGrid at 0x7f80441b8730>"
      ]
     },
     "execution_count": 119,
     "metadata": {},
     "output_type": "execute_result"
    },
    {
     "data": {
      "image/png": "[encoded data removed]",
      "text/plain": [
       "<Figure size 921.6x1152 with 4 Axes>"
      ]
     },
     "metadata": {
      "needs_background": "light"
     },
     "output_type": "display_data"
    }
   ],
   "source": [
    "actions = tabela.query(\"userid != 2 & userid != -1 & userid !=6\")\n",
    "gra = sns.FacetGrid(actions.query(\"component in ['mod_forum','mod_quiz','mod_assign','mod_checklist']\"), col= \"component\", col_wrap=2, height=8, aspect=.8) \n",
    "gra.map(sns.histplot, \"action\")"
   ]
  },
  {
   "cell_type": "code",
   "execution_count": null,
   "id": "funded-trinidad",
   "metadata": {},
   "outputs": [],
   "source": []
  },
  {
   "cell_type": "code",
   "execution_count": null,
   "id": "mediterranean-train",
   "metadata": {},
   "outputs": [],
   "source": []
  },
  {
   "cell_type": "code",
   "execution_count": null,
   "id": "muslim-saver",
   "metadata": {},
   "outputs": [],
   "source": []
  }
 ],
 "metadata": {
  "kernelspec": {
   "display_name": "Python 3",
   "language": "python",
   "name": "python3"
  },
  "language_info": {
   "codemirror_mode": {
    "name": "ipython",
    "version": 3
   },
   "file_extension": ".py",
   "mimetype": "text/x-python",
   "name": "python",
   "nbconvert_exporter": "python",
   "pygments_lexer": "ipython3",
   "version": "3.8.6"
  }
 },
 "nbformat": 4,
 "nbformat_minor": 5
}
