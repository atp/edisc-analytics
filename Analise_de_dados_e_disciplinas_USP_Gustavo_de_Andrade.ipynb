{
  "nbformat": 4,
  "nbformat_minor": 0,
  "metadata": {
    "colab": {
      "name": "Analise-de-dados-e-disciplinas-USP-Gustavo_de_Andrade.ipynb",
      "provenance": [],
      "collapsed_sections": []
    },
    "kernelspec": {
      "name": "python3",
      "display_name": "Python 3"
    }
  },
  "cells": [
    {
      "cell_type": "markdown",
      "metadata": {
        "id": "TLbNgDNAOkM7"
      },
      "source": [
        "# **Analises de Dados - E-Disciplinas USP - Bolsa PUB 2020/2021**\n",
        "Professor Orientador Dr. Ewout Ter Haar\n",
        "\n",
        "Aluno Gustavo de Andrade \n",
        "\n",
        "Dataframe utilizado: \n",
        "\n",
        "**mc-2020-07-07.csv** - **atualizado: mc-24-11-2020.csv**;\n",
        "\n",
        "**matrgr2012.csv**, **matrgr2013.csv**, **matrgr2014.csv**, **(...)**, **matrgr2020.csv**;\n",
        "\n",
        "**mv-24-11-2020-FD.csv**, **mv-24-11-2020-FE.csv**, **mv-24-11-2020-FEA.csv**, **mv-24-11-2020-FFLCH.csv**, **mv-24-11-2020-IF.csv**, **mv-24-11-2020-IFSC.csv**;\n"
      ]
    },
    {
      "cell_type": "markdown",
      "metadata": {
        "id": "MoErtpKHuf88"
      },
      "source": [
        "O objetivo dessa analise estende a compreensão do funcionamento por completo da ferramenta pedagógica E-Disciplinas, assim como acompanhar seu percurso aos longos dos anos de 2012 até 2020, englobando os fundamentos da Ciências de Dados utilizando a linguagem de programação Python e algumas de suas bibliotecas específicas para análises de dados, como Nunpy,  Pandas, Pandas_profiling, Matplotlib e seaborn. Assim, podendo estabelecer um padrão ou mesmo tendência para com a ferramenta E-disciplinas da Universidade de São Paulo interpretando sua importância no papel pedagógico em suas funcionalidades individuais e como um todo, interpretando sua jornada ao longo de 8 anos de dados."
      ]
    },
    {
      "cell_type": "code",
      "metadata": {
        "id": "M-Cde2YNPCG6"
      },
      "source": [
        "import numpy as np\n",
        "import pandas as pd\n",
        "import matplotlib.pyplot as plt\n",
        "import seaborn as sns"
      ],
      "execution_count": 71,
      "outputs": []
    },
    {
      "cell_type": "markdown",
      "metadata": {
        "id": "N9moWFxhwKM0"
      },
      "source": [
        "Após importar as bibliotecas utilizadas na análise, carregaremos o arquivo no repositório e efetuaremos a leitura das 3 primeiras linhas do arquivo **mc-24-11-2020.csv** para primeira visualização dos Dados:"
      ]
    },
    {
      "cell_type": "code",
      "metadata": {
        "id": "h3vlFiB7QLrR",
        "colab": {
          "base_uri": "https://localhost:8080/",
          "height": 300
        },
        "outputId": "09d21f73-42b7-4b6e-f659-d8b97ab57d2d"
      },
      "source": [
        "dados = pd.read_csv('mc-24-11-2020.csv')\n",
        "dados1 = pd.read_csv('mc-24-11-2020.csv')\n",
        "dados.head(3)"
      ],
      "execution_count": 72,
      "outputs": [
        {
          "output_type": "stream",
          "text": [
            "/usr/local/lib/python3.7/dist-packages/IPython/core/interactiveshell.py:2718: DtypeWarning: Columns (56) have mixed types.Specify dtype option on import or set low_memory=False.\n",
            "  interactivity=interactivity, compiler=compiler, result=result)\n"
          ],
          "name": "stderr"
        },
        {
          "output_type": "execute_result",
          "data": {
            "text/html": [
              "<div>\n",
              "<style scoped>\n",
              "    .dataframe tbody tr th:only-of-type {\n",
              "        vertical-align: middle;\n",
              "    }\n",
              "\n",
              "    .dataframe tbody tr th {\n",
              "        vertical-align: top;\n",
              "    }\n",
              "\n",
              "    .dataframe thead th {\n",
              "        text-align: right;\n",
              "    }\n",
              "</style>\n",
              "<table border=\"1\" class=\"dataframe\">\n",
              "  <thead>\n",
              "    <tr style=\"text-align: right;\">\n",
              "      <th></th>\n",
              "      <th>index</th>\n",
              "      <th>link</th>\n",
              "      <th>assign</th>\n",
              "      <th>attendance</th>\n",
              "      <th>bigbluebuttonbn</th>\n",
              "      <th>book</th>\n",
              "      <th>chat</th>\n",
              "      <th>choice</th>\n",
              "      <th>data</th>\n",
              "      <th>dialogue</th>\n",
              "      <th>folder</th>\n",
              "      <th>forum</th>\n",
              "      <th>glossary</th>\n",
              "      <th>imscp</th>\n",
              "      <th>label</th>\n",
              "      <th>lesson</th>\n",
              "      <th>lti</th>\n",
              "      <th>oublog</th>\n",
              "      <th>ouwiki</th>\n",
              "      <th>page</th>\n",
              "      <th>questionnaire</th>\n",
              "      <th>quiz</th>\n",
              "      <th>recordingsbn</th>\n",
              "      <th>resource</th>\n",
              "      <th>scorm</th>\n",
              "      <th>survey</th>\n",
              "      <th>url</th>\n",
              "      <th>wiki</th>\n",
              "      <th>workshop</th>\n",
              "      <th>sdi</th>\n",
              "      <th>Nunique</th>\n",
              "      <th>N</th>\n",
              "      <th>Nresource1</th>\n",
              "      <th>Nresource2</th>\n",
              "      <th>Ncommunication</th>\n",
              "      <th>Nfeedback</th>\n",
              "      <th>Nassess</th>\n",
              "      <th>Nadmin</th>\n",
              "      <th>fullname</th>\n",
              "      <th>shortname</th>\n",
              "      <th>idnumber</th>\n",
              "      <th>catname</th>\n",
              "      <th>unidade</th>\n",
              "      <th>ano</th>\n",
              "      <th>sem</th>\n",
              "      <th>advancedteacher</th>\n",
              "      <th>editingteacher</th>\n",
              "      <th>manager</th>\n",
              "      <th>monitor</th>\n",
              "      <th>student</th>\n",
              "      <th>studentcopy</th>\n",
              "      <th>teacher</th>\n",
              "      <th>nturmas</th>\n",
              "      <th>area</th>\n",
              "      <th>posgrad</th>\n",
              "      <th>coddis</th>\n",
              "      <th>semestre</th>\n",
              "      <th>activequiz</th>\n",
              "      <th>assignment</th>\n",
              "      <th>hvp</th>\n",
              "      <th>simplecertificate</th>\n",
              "      <th>videogallery</th>\n",
              "      <th>choicegroup</th>\n",
              "      <th>scheduler</th>\n",
              "      <th>vpl</th>\n",
              "      <th>offlinequiz</th>\n",
              "      <th>obs</th>\n",
              "      <th>journal</th>\n",
              "      <th>poster</th>\n",
              "      <th>feedback</th>\n",
              "      <th>checklist</th>\n",
              "      <th>pdfannotator</th>\n",
              "      <th>publication</th>\n",
              "      <th>studentquiz</th>\n",
              "      <th>game</th>\n",
              "      <th>quizgame</th>\n",
              "      <th>subcourse</th>\n",
              "    </tr>\n",
              "  </thead>\n",
              "  <tbody>\n",
              "    <tr>\n",
              "      <th>0</th>\n",
              "      <td>5</td>\n",
              "      <td>https://edisciplinas.usp.br/course/view.php?id=5</td>\n",
              "      <td>3</td>\n",
              "      <td>0</td>\n",
              "      <td>0</td>\n",
              "      <td>0</td>\n",
              "      <td>0</td>\n",
              "      <td>1</td>\n",
              "      <td>0</td>\n",
              "      <td>0</td>\n",
              "      <td>0</td>\n",
              "      <td>1</td>\n",
              "      <td>0</td>\n",
              "      <td>0.0</td>\n",
              "      <td>8</td>\n",
              "      <td>1</td>\n",
              "      <td>0.0</td>\n",
              "      <td>0</td>\n",
              "      <td>0</td>\n",
              "      <td>29</td>\n",
              "      <td>0</td>\n",
              "      <td>4</td>\n",
              "      <td>0.0</td>\n",
              "      <td>17</td>\n",
              "      <td>0.0</td>\n",
              "      <td>1</td>\n",
              "      <td>16</td>\n",
              "      <td>0</td>\n",
              "      <td>0</td>\n",
              "      <td>1.732052</td>\n",
              "      <td>10</td>\n",
              "      <td>81</td>\n",
              "      <td>41</td>\n",
              "      <td>29</td>\n",
              "      <td>1</td>\n",
              "      <td>2</td>\n",
              "      <td>8</td>\n",
              "      <td>0</td>\n",
              "      <td>Linguagens Documentárias I</td>\n",
              "      <td>CBD0274</td>\n",
              "      <td>CBD0274.1.2012101,CBD0274.1.2012105</td>\n",
              "      <td>CBD</td>\n",
              "      <td>ECA</td>\n",
              "      <td>2012</td>\n",
              "      <td>1</td>\n",
              "      <td>0</td>\n",
              "      <td>1</td>\n",
              "      <td>0</td>\n",
              "      <td>6</td>\n",
              "      <td>30</td>\n",
              "      <td>0</td>\n",
              "      <td>0</td>\n",
              "      <td>2</td>\n",
              "      <td>humanas</td>\n",
              "      <td>GR</td>\n",
              "      <td>CBD0274</td>\n",
              "      <td>1</td>\n",
              "      <td>0.0</td>\n",
              "      <td>0.0</td>\n",
              "      <td>0.0</td>\n",
              "      <td>0.0</td>\n",
              "      <td>0.0</td>\n",
              "      <td>0.0</td>\n",
              "      <td>0.0</td>\n",
              "      <td>0.0</td>\n",
              "      <td>0.0</td>\n",
              "      <td>0.0</td>\n",
              "      <td>0.0</td>\n",
              "      <td>0.0</td>\n",
              "      <td>0.0</td>\n",
              "      <td>0.0</td>\n",
              "      <td>0.0</td>\n",
              "      <td>0.0</td>\n",
              "      <td>0.0</td>\n",
              "      <td>0.0</td>\n",
              "      <td>0.0</td>\n",
              "      <td>0.0</td>\n",
              "    </tr>\n",
              "    <tr>\n",
              "      <th>1</th>\n",
              "      <td>6</td>\n",
              "      <td>https://edisciplinas.usp.br/course/view.php?id=6</td>\n",
              "      <td>5</td>\n",
              "      <td>0</td>\n",
              "      <td>0</td>\n",
              "      <td>0</td>\n",
              "      <td>0</td>\n",
              "      <td>0</td>\n",
              "      <td>0</td>\n",
              "      <td>0</td>\n",
              "      <td>1</td>\n",
              "      <td>1</td>\n",
              "      <td>0</td>\n",
              "      <td>0.0</td>\n",
              "      <td>1</td>\n",
              "      <td>0</td>\n",
              "      <td>0.0</td>\n",
              "      <td>0</td>\n",
              "      <td>0</td>\n",
              "      <td>0</td>\n",
              "      <td>0</td>\n",
              "      <td>1</td>\n",
              "      <td>0.0</td>\n",
              "      <td>17</td>\n",
              "      <td>0.0</td>\n",
              "      <td>1</td>\n",
              "      <td>2</td>\n",
              "      <td>0</td>\n",
              "      <td>0</td>\n",
              "      <td>1.381154</td>\n",
              "      <td>8</td>\n",
              "      <td>29</td>\n",
              "      <td>21</td>\n",
              "      <td>0</td>\n",
              "      <td>1</td>\n",
              "      <td>1</td>\n",
              "      <td>6</td>\n",
              "      <td>0</td>\n",
              "      <td>Leitura Documentária</td>\n",
              "      <td>CBD0286</td>\n",
              "      <td>CBD0286.1.2012101,CBD0286.1.2012105</td>\n",
              "      <td>CBD</td>\n",
              "      <td>ECA</td>\n",
              "      <td>2012</td>\n",
              "      <td>1</td>\n",
              "      <td>0</td>\n",
              "      <td>1</td>\n",
              "      <td>0</td>\n",
              "      <td>5</td>\n",
              "      <td>38</td>\n",
              "      <td>0</td>\n",
              "      <td>0</td>\n",
              "      <td>2</td>\n",
              "      <td>humanas</td>\n",
              "      <td>GR</td>\n",
              "      <td>CBD0286</td>\n",
              "      <td>1</td>\n",
              "      <td>0.0</td>\n",
              "      <td>0.0</td>\n",
              "      <td>0.0</td>\n",
              "      <td>0.0</td>\n",
              "      <td>0.0</td>\n",
              "      <td>0.0</td>\n",
              "      <td>0.0</td>\n",
              "      <td>0.0</td>\n",
              "      <td>0.0</td>\n",
              "      <td>0.0</td>\n",
              "      <td>0.0</td>\n",
              "      <td>0.0</td>\n",
              "      <td>0.0</td>\n",
              "      <td>0.0</td>\n",
              "      <td>0.0</td>\n",
              "      <td>0.0</td>\n",
              "      <td>0.0</td>\n",
              "      <td>0.0</td>\n",
              "      <td>0.0</td>\n",
              "      <td>0.0</td>\n",
              "    </tr>\n",
              "    <tr>\n",
              "      <th>2</th>\n",
              "      <td>85</td>\n",
              "      <td>https://edisciplinas.usp.br/course/view.php?id=85</td>\n",
              "      <td>2</td>\n",
              "      <td>0</td>\n",
              "      <td>0</td>\n",
              "      <td>0</td>\n",
              "      <td>0</td>\n",
              "      <td>0</td>\n",
              "      <td>0</td>\n",
              "      <td>0</td>\n",
              "      <td>0</td>\n",
              "      <td>2</td>\n",
              "      <td>0</td>\n",
              "      <td>0.0</td>\n",
              "      <td>0</td>\n",
              "      <td>0</td>\n",
              "      <td>0.0</td>\n",
              "      <td>0</td>\n",
              "      <td>0</td>\n",
              "      <td>0</td>\n",
              "      <td>0</td>\n",
              "      <td>0</td>\n",
              "      <td>0.0</td>\n",
              "      <td>78</td>\n",
              "      <td>0.0</td>\n",
              "      <td>0</td>\n",
              "      <td>0</td>\n",
              "      <td>0</td>\n",
              "      <td>0</td>\n",
              "      <td>0.228721</td>\n",
              "      <td>3</td>\n",
              "      <td>82</td>\n",
              "      <td>78</td>\n",
              "      <td>0</td>\n",
              "      <td>2</td>\n",
              "      <td>0</td>\n",
              "      <td>2</td>\n",
              "      <td>0</td>\n",
              "      <td>Metodologia da Pesquisa em Ciência da Informação</td>\n",
              "      <td>CBD5600</td>\n",
              "      <td>CBD5600.1.4</td>\n",
              "      <td>CBD</td>\n",
              "      <td>ECA</td>\n",
              "      <td>2012</td>\n",
              "      <td>1</td>\n",
              "      <td>0</td>\n",
              "      <td>3</td>\n",
              "      <td>0</td>\n",
              "      <td>0</td>\n",
              "      <td>45</td>\n",
              "      <td>0</td>\n",
              "      <td>0</td>\n",
              "      <td>1</td>\n",
              "      <td>humanas</td>\n",
              "      <td>POS</td>\n",
              "      <td>CBD5600</td>\n",
              "      <td>0</td>\n",
              "      <td>0.0</td>\n",
              "      <td>0.0</td>\n",
              "      <td>0.0</td>\n",
              "      <td>0.0</td>\n",
              "      <td>0.0</td>\n",
              "      <td>0.0</td>\n",
              "      <td>0.0</td>\n",
              "      <td>0.0</td>\n",
              "      <td>0.0</td>\n",
              "      <td>0.0</td>\n",
              "      <td>0.0</td>\n",
              "      <td>0.0</td>\n",
              "      <td>0.0</td>\n",
              "      <td>0.0</td>\n",
              "      <td>0.0</td>\n",
              "      <td>0.0</td>\n",
              "      <td>0.0</td>\n",
              "      <td>0.0</td>\n",
              "      <td>0.0</td>\n",
              "      <td>0.0</td>\n",
              "    </tr>\n",
              "  </tbody>\n",
              "</table>\n",
              "</div>"
            ],
            "text/plain": [
              "   index  ... subcourse\n",
              "0      5  ...       0.0\n",
              "1      6  ...       0.0\n",
              "2     85  ...       0.0\n",
              "\n",
              "[3 rows x 77 columns]"
            ]
          },
          "metadata": {
            "tags": []
          },
          "execution_count": 72
        }
      ]
    },
    {
      "cell_type": "markdown",
      "metadata": {
        "id": "LmLZzrHtUxZl"
      },
      "source": [
        "\n",
        "\n",
        "*   Importando as 3 primeiras linhas já podemos visualizar nas colunas as variáveis cabíveis para cada ambiente do Data Frame di site E-Disciplinas USP.\n",
        "\n",
        "*   Buscando as informações da tabela, visualizamos a baixo as informações do arquivo, listando a ordem das colunas, o nome de cada coluna, o número de linhas por coluna e o tipo de dado de cada uma dessas colunas possuem. Por padrão, é identificado o tipo de dados como:\n",
        " int; \n",
        " float;\n",
        " datetime;\n",
        " object (caso não consiga identificar o tipo exato)\n",
        " \n",
        " No final podemos observar a quantidade de memória utilizada para ler o arquivo."
      ]
    },
    {
      "cell_type": "code",
      "metadata": {
        "id": "QZXAByRuVAGW",
        "colab": {
          "base_uri": "https://localhost:8080/"
        },
        "outputId": "03722dfe-a5e9-4d91-8df1-16b018f2c907"
      },
      "source": [
        "dados.info()"
      ],
      "execution_count": 32,
      "outputs": [
        {
          "output_type": "stream",
          "text": [
            "<class 'pandas.core.frame.DataFrame'>\n",
            "RangeIndex: 38294 entries, 0 to 38293\n",
            "Data columns (total 77 columns):\n",
            " #   Column             Non-Null Count  Dtype  \n",
            "---  ------             --------------  -----  \n",
            " 0   index              38294 non-null  int64  \n",
            " 1   link               38294 non-null  object \n",
            " 2   assign             38294 non-null  int64  \n",
            " 3   attendance         38294 non-null  int64  \n",
            " 4   bigbluebuttonbn    38294 non-null  int64  \n",
            " 5   book               38294 non-null  int64  \n",
            " 6   chat               38294 non-null  int64  \n",
            " 7   choice             38294 non-null  int64  \n",
            " 8   data               38294 non-null  int64  \n",
            " 9   dialogue           38294 non-null  int64  \n",
            " 10  folder             38294 non-null  int64  \n",
            " 11  forum              38294 non-null  int64  \n",
            " 12  glossary           38294 non-null  int64  \n",
            " 13  imscp              38294 non-null  float64\n",
            " 14  label              38294 non-null  int64  \n",
            " 15  lesson             38294 non-null  int64  \n",
            " 16  lti                38294 non-null  float64\n",
            " 17  oublog             38294 non-null  int64  \n",
            " 18  ouwiki             38294 non-null  int64  \n",
            " 19  page               38294 non-null  int64  \n",
            " 20  questionnaire      38294 non-null  int64  \n",
            " 21  quiz               38294 non-null  int64  \n",
            " 22  recordingsbn       38294 non-null  float64\n",
            " 23  resource           38294 non-null  int64  \n",
            " 24  scorm              38294 non-null  float64\n",
            " 25  survey             38294 non-null  int64  \n",
            " 26  url                38294 non-null  int64  \n",
            " 27  wiki               38294 non-null  int64  \n",
            " 28  workshop           38294 non-null  int64  \n",
            " 29  sdi                38294 non-null  float64\n",
            " 30  Nunique            38294 non-null  int64  \n",
            " 31  N                  38294 non-null  int64  \n",
            " 32  Nresource1         38294 non-null  int64  \n",
            " 33  Nresource2         38294 non-null  int64  \n",
            " 34  Ncommunication     38294 non-null  int64  \n",
            " 35  Nfeedback          38294 non-null  int64  \n",
            " 36  Nassess            38294 non-null  int64  \n",
            " 37  Nadmin             38294 non-null  int64  \n",
            " 38  fullname           38294 non-null  object \n",
            " 39  shortname          38294 non-null  object \n",
            " 40  idnumber           36980 non-null  object \n",
            " 41  catname            38294 non-null  object \n",
            " 42  unidade            38294 non-null  object \n",
            " 43  ano                38294 non-null  int64  \n",
            " 44  sem                38294 non-null  int64  \n",
            " 45  advancedteacher    38294 non-null  int64  \n",
            " 46  editingteacher     38294 non-null  int64  \n",
            " 47  manager            38294 non-null  int64  \n",
            " 48  monitor            38294 non-null  int64  \n",
            " 49  student            38294 non-null  int64  \n",
            " 50  studentcopy        38294 non-null  int64  \n",
            " 51  teacher            38294 non-null  int64  \n",
            " 52  nturmas            38294 non-null  int64  \n",
            " 53  area               38294 non-null  object \n",
            " 54  posgrad            38294 non-null  object \n",
            " 55  coddis             38294 non-null  object \n",
            " 56  semestre           38294 non-null  object \n",
            " 57  activequiz         38294 non-null  float64\n",
            " 58  assignment         38294 non-null  float64\n",
            " 59  hvp                38294 non-null  float64\n",
            " 60  simplecertificate  38294 non-null  float64\n",
            " 61  videogallery       38294 non-null  float64\n",
            " 62  choicegroup        38294 non-null  float64\n",
            " 63  scheduler          38294 non-null  float64\n",
            " 64  vpl                38294 non-null  float64\n",
            " 65  offlinequiz        38294 non-null  float64\n",
            " 66  obs                38294 non-null  float64\n",
            " 67  journal            38294 non-null  float64\n",
            " 68  poster             38294 non-null  float64\n",
            " 69  feedback           38294 non-null  float64\n",
            " 70  checklist          38294 non-null  float64\n",
            " 71  pdfannotator       38294 non-null  float64\n",
            " 72  publication        38294 non-null  float64\n",
            " 73  studentquiz        38294 non-null  float64\n",
            " 74  game               38294 non-null  float64\n",
            " 75  quizgame           38294 non-null  float64\n",
            " 76  subcourse          38294 non-null  float64\n",
            "dtypes: float64(25), int64(42), object(10)\n",
            "memory usage: 22.5+ MB\n"
          ],
          "name": "stdout"
        }
      ]
    },
    {
      "cell_type": "markdown",
      "metadata": {
        "id": "kUJ-NQcnW67p"
      },
      "source": [
        "Uma informação importante desta tabela é quantidade de entrada de dados nesse arquivo, que tem registros de 0 a 38293.\r\n",
        "Para dinamizar a visualização, afim de compreender melhor resumindo a tabela a cima e apresentar no inicio da analise só os nomes das colunas do arquivo:"
      ]
    },
    {
      "cell_type": "code",
      "metadata": {
        "id": "buQoRwxcXV0y",
        "colab": {
          "base_uri": "https://localhost:8080/"
        },
        "outputId": "f05893a8-8093-4fe9-c2ac-ae471a50ffcc"
      },
      "source": [
        "dados.columns"
      ],
      "execution_count": 33,
      "outputs": [
        {
          "output_type": "execute_result",
          "data": {
            "text/plain": [
              "Index(['index', 'link', 'assign', 'attendance', 'bigbluebuttonbn', 'book',\n",
              "       'chat', 'choice', 'data', 'dialogue', 'folder', 'forum', 'glossary',\n",
              "       'imscp', 'label', 'lesson', 'lti', 'oublog', 'ouwiki', 'page',\n",
              "       'questionnaire', 'quiz', 'recordingsbn', 'resource', 'scorm', 'survey',\n",
              "       'url', 'wiki', 'workshop', 'sdi', 'Nunique', 'N', 'Nresource1',\n",
              "       'Nresource2', 'Ncommunication', 'Nfeedback', 'Nassess', 'Nadmin',\n",
              "       'fullname', 'shortname', 'idnumber', 'catname', 'unidade', 'ano', 'sem',\n",
              "       'advancedteacher', 'editingteacher', 'manager', 'monitor', 'student',\n",
              "       'studentcopy', 'teacher', 'nturmas', 'area', 'posgrad', 'coddis',\n",
              "       'semestre', 'activequiz', 'assignment', 'hvp', 'simplecertificate',\n",
              "       'videogallery', 'choicegroup', 'scheduler', 'vpl', 'offlinequiz', 'obs',\n",
              "       'journal', 'poster', 'feedback', 'checklist', 'pdfannotator',\n",
              "       'publication', 'studentquiz', 'game', 'quizgame', 'subcourse'],\n",
              "      dtype='object')"
            ]
          },
          "metadata": {
            "tags": []
          },
          "execution_count": 33
        }
      ]
    },
    {
      "cell_type": "code",
      "metadata": {
        "id": "ptJolShbYSYQ",
        "colab": {
          "base_uri": "https://localhost:8080/",
          "height": 80
        },
        "outputId": "e3ae1341-3a9e-4255-87a5-82c55fcea371"
      },
      "source": [
        "dados.loc[[30], ['unidade','ano','fullname','area','link']]"
      ],
      "execution_count": 34,
      "outputs": [
        {
          "output_type": "execute_result",
          "data": {
            "text/html": [
              "<div>\n",
              "<style scoped>\n",
              "    .dataframe tbody tr th:only-of-type {\n",
              "        vertical-align: middle;\n",
              "    }\n",
              "\n",
              "    .dataframe tbody tr th {\n",
              "        vertical-align: top;\n",
              "    }\n",
              "\n",
              "    .dataframe thead th {\n",
              "        text-align: right;\n",
              "    }\n",
              "</style>\n",
              "<table border=\"1\" class=\"dataframe\">\n",
              "  <thead>\n",
              "    <tr style=\"text-align: right;\">\n",
              "      <th></th>\n",
              "      <th>unidade</th>\n",
              "      <th>ano</th>\n",
              "      <th>fullname</th>\n",
              "      <th>area</th>\n",
              "      <th>link</th>\n",
              "    </tr>\n",
              "  </thead>\n",
              "  <tbody>\n",
              "    <tr>\n",
              "      <th>30</th>\n",
              "      <td>EP</td>\n",
              "      <td>2012</td>\n",
              "      <td>Eletromagnetismo-2012</td>\n",
              "      <td>exatas</td>\n",
              "      <td>https://edisciplinas.usp.br/course/view.php?id=66</td>\n",
              "    </tr>\n",
              "  </tbody>\n",
              "</table>\n",
              "</div>"
            ],
            "text/plain": [
              "   unidade   ano  ...    area                                               link\n",
              "30      EP  2012  ...  exatas  https://edisciplinas.usp.br/course/view.php?id=66\n",
              "\n",
              "[1 rows x 5 columns]"
            ]
          },
          "metadata": {
            "tags": []
          },
          "execution_count": 34
        }
      ]
    },
    {
      "cell_type": "markdown",
      "metadata": {
        "id": "ABa6oizhMGVP"
      },
      "source": [
        "Os ultimos 10 registros do arquivo:"
      ]
    },
    {
      "cell_type": "code",
      "metadata": {
        "id": "K-QDfX8wgZse",
        "colab": {
          "base_uri": "https://localhost:8080/",
          "height": 386
        },
        "outputId": "93488bf0-b6ab-4a79-b86e-75eac0734e03"
      },
      "source": [
        "dados.loc[38283:38293,['unidade','ano','fullname','area','link']]"
      ],
      "execution_count": 35,
      "outputs": [
        {
          "output_type": "execute_result",
          "data": {
            "text/html": [
              "<div>\n",
              "<style scoped>\n",
              "    .dataframe tbody tr th:only-of-type {\n",
              "        vertical-align: middle;\n",
              "    }\n",
              "\n",
              "    .dataframe tbody tr th {\n",
              "        vertical-align: top;\n",
              "    }\n",
              "\n",
              "    .dataframe thead th {\n",
              "        text-align: right;\n",
              "    }\n",
              "</style>\n",
              "<table border=\"1\" class=\"dataframe\">\n",
              "  <thead>\n",
              "    <tr style=\"text-align: right;\">\n",
              "      <th></th>\n",
              "      <th>unidade</th>\n",
              "      <th>ano</th>\n",
              "      <th>fullname</th>\n",
              "      <th>area</th>\n",
              "      <th>link</th>\n",
              "    </tr>\n",
              "  </thead>\n",
              "  <tbody>\n",
              "    <tr>\n",
              "      <th>38283</th>\n",
              "      <td>IME</td>\n",
              "      <td>2020</td>\n",
              "      <td>Tutoriais eDisciplinas IME-USP</td>\n",
              "      <td>exatas</td>\n",
              "      <td>https://edisciplinas.usp.br/course/view.php?id...</td>\n",
              "    </tr>\n",
              "    <tr>\n",
              "      <th>38284</th>\n",
              "      <td>IME</td>\n",
              "      <td>2020</td>\n",
              "      <td>IME4002 - Redação Científica em Inglês com Foc...</td>\n",
              "      <td>exatas</td>\n",
              "      <td>https://edisciplinas.usp.br/course/view.php?id...</td>\n",
              "    </tr>\n",
              "    <tr>\n",
              "      <th>38285</th>\n",
              "      <td>EP</td>\n",
              "      <td>2020</td>\n",
              "      <td>RESTORE PRO2312 2014</td>\n",
              "      <td>exatas</td>\n",
              "      <td>https://edisciplinas.usp.br/course/view.php?id...</td>\n",
              "    </tr>\n",
              "    <tr>\n",
              "      <th>38286</th>\n",
              "      <td>FMRP</td>\n",
              "      <td>2020</td>\n",
              "      <td>NUT5711 - Oficina de Artigos Científicos (2020)</td>\n",
              "      <td>biologicas</td>\n",
              "      <td>https://edisciplinas.usp.br/course/view.php?id...</td>\n",
              "    </tr>\n",
              "    <tr>\n",
              "      <th>38287</th>\n",
              "      <td>IF</td>\n",
              "      <td>2020</td>\n",
              "      <td>RCC4703 - Análise de Regressão (2020)</td>\n",
              "      <td>exatas</td>\n",
              "      <td>https://edisciplinas.usp.br/course/view.php?id...</td>\n",
              "    </tr>\n",
              "    <tr>\n",
              "      <th>38288</th>\n",
              "      <td>FMRP</td>\n",
              "      <td>2020</td>\n",
              "      <td>RSM5770 - Instrumentação em Análise Metodológi...</td>\n",
              "      <td>biologicas</td>\n",
              "      <td>https://edisciplinas.usp.br/course/view.php?id...</td>\n",
              "    </tr>\n",
              "    <tr>\n",
              "      <th>38289</th>\n",
              "      <td>FOB</td>\n",
              "      <td>2020</td>\n",
              "      <td>BAC5705 - Planejamento Multidisciplinar das Ci...</td>\n",
              "      <td>biologicas</td>\n",
              "      <td>https://edisciplinas.usp.br/course/view.php?id...</td>\n",
              "    </tr>\n",
              "    <tr>\n",
              "      <th>38290</th>\n",
              "      <td>FMRP</td>\n",
              "      <td>2020</td>\n",
              "      <td>NCC5701 - Metodologia Científica e Estudos Clí...</td>\n",
              "      <td>biologicas</td>\n",
              "      <td>https://edisciplinas.usp.br/course/view.php?id...</td>\n",
              "    </tr>\n",
              "    <tr>\n",
              "      <th>38291</th>\n",
              "      <td>ESALQ</td>\n",
              "      <td>2020</td>\n",
              "      <td>LES5780 - Desenvolvimento Econômico (2020)</td>\n",
              "      <td>humanas</td>\n",
              "      <td>https://edisciplinas.usp.br/course/view.php?id...</td>\n",
              "    </tr>\n",
              "    <tr>\n",
              "      <th>38292</th>\n",
              "      <td>FFLCH</td>\n",
              "      <td>2020</td>\n",
              "      <td>teste_marcos</td>\n",
              "      <td>humanas</td>\n",
              "      <td>https://edisciplinas.usp.br/course/view.php?id...</td>\n",
              "    </tr>\n",
              "    <tr>\n",
              "      <th>38293</th>\n",
              "      <td>FMRP</td>\n",
              "      <td>2020</td>\n",
              "      <td>STI FMRP 2020</td>\n",
              "      <td>biologicas</td>\n",
              "      <td>https://edisciplinas.usp.br/course/view.php?id...</td>\n",
              "    </tr>\n",
              "  </tbody>\n",
              "</table>\n",
              "</div>"
            ],
            "text/plain": [
              "      unidade  ...                                               link\n",
              "38283     IME  ...  https://edisciplinas.usp.br/course/view.php?id...\n",
              "38284     IME  ...  https://edisciplinas.usp.br/course/view.php?id...\n",
              "38285      EP  ...  https://edisciplinas.usp.br/course/view.php?id...\n",
              "38286    FMRP  ...  https://edisciplinas.usp.br/course/view.php?id...\n",
              "38287      IF  ...  https://edisciplinas.usp.br/course/view.php?id...\n",
              "38288    FMRP  ...  https://edisciplinas.usp.br/course/view.php?id...\n",
              "38289     FOB  ...  https://edisciplinas.usp.br/course/view.php?id...\n",
              "38290    FMRP  ...  https://edisciplinas.usp.br/course/view.php?id...\n",
              "38291   ESALQ  ...  https://edisciplinas.usp.br/course/view.php?id...\n",
              "38292   FFLCH  ...  https://edisciplinas.usp.br/course/view.php?id...\n",
              "38293    FMRP  ...  https://edisciplinas.usp.br/course/view.php?id...\n",
              "\n",
              "[11 rows x 5 columns]"
            ]
          },
          "metadata": {
            "tags": []
          },
          "execution_count": 35
        }
      ]
    },
    {
      "cell_type": "code",
      "metadata": {
        "id": "1Gw1uwy-iW8t",
        "colab": {
          "base_uri": "https://localhost:8080/",
          "height": 396
        },
        "outputId": "1e5b59a6-ac99-4649-b220-5f530e84ddd4"
      },
      "source": [
        "dados.query('ano > 15 | unidade==\"IF\" & area==\"exatas\"').head(5)"
      ],
      "execution_count": 36,
      "outputs": [
        {
          "output_type": "execute_result",
          "data": {
            "text/html": [
              "<div>\n",
              "<style scoped>\n",
              "    .dataframe tbody tr th:only-of-type {\n",
              "        vertical-align: middle;\n",
              "    }\n",
              "\n",
              "    .dataframe tbody tr th {\n",
              "        vertical-align: top;\n",
              "    }\n",
              "\n",
              "    .dataframe thead th {\n",
              "        text-align: right;\n",
              "    }\n",
              "</style>\n",
              "<table border=\"1\" class=\"dataframe\">\n",
              "  <thead>\n",
              "    <tr style=\"text-align: right;\">\n",
              "      <th></th>\n",
              "      <th>index</th>\n",
              "      <th>link</th>\n",
              "      <th>assign</th>\n",
              "      <th>attendance</th>\n",
              "      <th>bigbluebuttonbn</th>\n",
              "      <th>book</th>\n",
              "      <th>chat</th>\n",
              "      <th>choice</th>\n",
              "      <th>data</th>\n",
              "      <th>dialogue</th>\n",
              "      <th>folder</th>\n",
              "      <th>forum</th>\n",
              "      <th>glossary</th>\n",
              "      <th>imscp</th>\n",
              "      <th>label</th>\n",
              "      <th>lesson</th>\n",
              "      <th>lti</th>\n",
              "      <th>oublog</th>\n",
              "      <th>ouwiki</th>\n",
              "      <th>page</th>\n",
              "      <th>questionnaire</th>\n",
              "      <th>quiz</th>\n",
              "      <th>recordingsbn</th>\n",
              "      <th>resource</th>\n",
              "      <th>scorm</th>\n",
              "      <th>survey</th>\n",
              "      <th>url</th>\n",
              "      <th>wiki</th>\n",
              "      <th>workshop</th>\n",
              "      <th>sdi</th>\n",
              "      <th>Nunique</th>\n",
              "      <th>N</th>\n",
              "      <th>Nresource1</th>\n",
              "      <th>Nresource2</th>\n",
              "      <th>Ncommunication</th>\n",
              "      <th>Nfeedback</th>\n",
              "      <th>Nassess</th>\n",
              "      <th>Nadmin</th>\n",
              "      <th>fullname</th>\n",
              "      <th>shortname</th>\n",
              "      <th>idnumber</th>\n",
              "      <th>catname</th>\n",
              "      <th>unidade</th>\n",
              "      <th>ano</th>\n",
              "      <th>sem</th>\n",
              "      <th>advancedteacher</th>\n",
              "      <th>editingteacher</th>\n",
              "      <th>manager</th>\n",
              "      <th>monitor</th>\n",
              "      <th>student</th>\n",
              "      <th>studentcopy</th>\n",
              "      <th>teacher</th>\n",
              "      <th>nturmas</th>\n",
              "      <th>area</th>\n",
              "      <th>posgrad</th>\n",
              "      <th>coddis</th>\n",
              "      <th>semestre</th>\n",
              "      <th>activequiz</th>\n",
              "      <th>assignment</th>\n",
              "      <th>hvp</th>\n",
              "      <th>simplecertificate</th>\n",
              "      <th>videogallery</th>\n",
              "      <th>choicegroup</th>\n",
              "      <th>scheduler</th>\n",
              "      <th>vpl</th>\n",
              "      <th>offlinequiz</th>\n",
              "      <th>obs</th>\n",
              "      <th>journal</th>\n",
              "      <th>poster</th>\n",
              "      <th>feedback</th>\n",
              "      <th>checklist</th>\n",
              "      <th>pdfannotator</th>\n",
              "      <th>publication</th>\n",
              "      <th>studentquiz</th>\n",
              "      <th>game</th>\n",
              "      <th>quizgame</th>\n",
              "      <th>subcourse</th>\n",
              "    </tr>\n",
              "  </thead>\n",
              "  <tbody>\n",
              "    <tr>\n",
              "      <th>0</th>\n",
              "      <td>5</td>\n",
              "      <td>https://edisciplinas.usp.br/course/view.php?id=5</td>\n",
              "      <td>3</td>\n",
              "      <td>0</td>\n",
              "      <td>0</td>\n",
              "      <td>0</td>\n",
              "      <td>0</td>\n",
              "      <td>1</td>\n",
              "      <td>0</td>\n",
              "      <td>0</td>\n",
              "      <td>0</td>\n",
              "      <td>1</td>\n",
              "      <td>0</td>\n",
              "      <td>0.0</td>\n",
              "      <td>8</td>\n",
              "      <td>1</td>\n",
              "      <td>0.0</td>\n",
              "      <td>0</td>\n",
              "      <td>0</td>\n",
              "      <td>29</td>\n",
              "      <td>0</td>\n",
              "      <td>4</td>\n",
              "      <td>0.0</td>\n",
              "      <td>17</td>\n",
              "      <td>0.0</td>\n",
              "      <td>1</td>\n",
              "      <td>16</td>\n",
              "      <td>0</td>\n",
              "      <td>0</td>\n",
              "      <td>1.732052</td>\n",
              "      <td>10</td>\n",
              "      <td>81</td>\n",
              "      <td>41</td>\n",
              "      <td>29</td>\n",
              "      <td>1</td>\n",
              "      <td>2</td>\n",
              "      <td>8</td>\n",
              "      <td>0</td>\n",
              "      <td>Linguagens Documentárias I</td>\n",
              "      <td>CBD0274</td>\n",
              "      <td>CBD0274.1.2012101,CBD0274.1.2012105</td>\n",
              "      <td>CBD</td>\n",
              "      <td>ECA</td>\n",
              "      <td>2012</td>\n",
              "      <td>1</td>\n",
              "      <td>0</td>\n",
              "      <td>1</td>\n",
              "      <td>0</td>\n",
              "      <td>6</td>\n",
              "      <td>30</td>\n",
              "      <td>0</td>\n",
              "      <td>0</td>\n",
              "      <td>2</td>\n",
              "      <td>humanas</td>\n",
              "      <td>GR</td>\n",
              "      <td>CBD0274</td>\n",
              "      <td>1</td>\n",
              "      <td>0.0</td>\n",
              "      <td>0.0</td>\n",
              "      <td>0.0</td>\n",
              "      <td>0.0</td>\n",
              "      <td>0.0</td>\n",
              "      <td>0.0</td>\n",
              "      <td>0.0</td>\n",
              "      <td>0.0</td>\n",
              "      <td>0.0</td>\n",
              "      <td>0.0</td>\n",
              "      <td>0.0</td>\n",
              "      <td>0.0</td>\n",
              "      <td>0.0</td>\n",
              "      <td>0.0</td>\n",
              "      <td>0.0</td>\n",
              "      <td>0.0</td>\n",
              "      <td>0.0</td>\n",
              "      <td>0.0</td>\n",
              "      <td>0.0</td>\n",
              "      <td>0.0</td>\n",
              "    </tr>\n",
              "    <tr>\n",
              "      <th>1</th>\n",
              "      <td>6</td>\n",
              "      <td>https://edisciplinas.usp.br/course/view.php?id=6</td>\n",
              "      <td>5</td>\n",
              "      <td>0</td>\n",
              "      <td>0</td>\n",
              "      <td>0</td>\n",
              "      <td>0</td>\n",
              "      <td>0</td>\n",
              "      <td>0</td>\n",
              "      <td>0</td>\n",
              "      <td>1</td>\n",
              "      <td>1</td>\n",
              "      <td>0</td>\n",
              "      <td>0.0</td>\n",
              "      <td>1</td>\n",
              "      <td>0</td>\n",
              "      <td>0.0</td>\n",
              "      <td>0</td>\n",
              "      <td>0</td>\n",
              "      <td>0</td>\n",
              "      <td>0</td>\n",
              "      <td>1</td>\n",
              "      <td>0.0</td>\n",
              "      <td>17</td>\n",
              "      <td>0.0</td>\n",
              "      <td>1</td>\n",
              "      <td>2</td>\n",
              "      <td>0</td>\n",
              "      <td>0</td>\n",
              "      <td>1.381154</td>\n",
              "      <td>8</td>\n",
              "      <td>29</td>\n",
              "      <td>21</td>\n",
              "      <td>0</td>\n",
              "      <td>1</td>\n",
              "      <td>1</td>\n",
              "      <td>6</td>\n",
              "      <td>0</td>\n",
              "      <td>Leitura Documentária</td>\n",
              "      <td>CBD0286</td>\n",
              "      <td>CBD0286.1.2012101,CBD0286.1.2012105</td>\n",
              "      <td>CBD</td>\n",
              "      <td>ECA</td>\n",
              "      <td>2012</td>\n",
              "      <td>1</td>\n",
              "      <td>0</td>\n",
              "      <td>1</td>\n",
              "      <td>0</td>\n",
              "      <td>5</td>\n",
              "      <td>38</td>\n",
              "      <td>0</td>\n",
              "      <td>0</td>\n",
              "      <td>2</td>\n",
              "      <td>humanas</td>\n",
              "      <td>GR</td>\n",
              "      <td>CBD0286</td>\n",
              "      <td>1</td>\n",
              "      <td>0.0</td>\n",
              "      <td>0.0</td>\n",
              "      <td>0.0</td>\n",
              "      <td>0.0</td>\n",
              "      <td>0.0</td>\n",
              "      <td>0.0</td>\n",
              "      <td>0.0</td>\n",
              "      <td>0.0</td>\n",
              "      <td>0.0</td>\n",
              "      <td>0.0</td>\n",
              "      <td>0.0</td>\n",
              "      <td>0.0</td>\n",
              "      <td>0.0</td>\n",
              "      <td>0.0</td>\n",
              "      <td>0.0</td>\n",
              "      <td>0.0</td>\n",
              "      <td>0.0</td>\n",
              "      <td>0.0</td>\n",
              "      <td>0.0</td>\n",
              "      <td>0.0</td>\n",
              "    </tr>\n",
              "    <tr>\n",
              "      <th>2</th>\n",
              "      <td>85</td>\n",
              "      <td>https://edisciplinas.usp.br/course/view.php?id=85</td>\n",
              "      <td>2</td>\n",
              "      <td>0</td>\n",
              "      <td>0</td>\n",
              "      <td>0</td>\n",
              "      <td>0</td>\n",
              "      <td>0</td>\n",
              "      <td>0</td>\n",
              "      <td>0</td>\n",
              "      <td>0</td>\n",
              "      <td>2</td>\n",
              "      <td>0</td>\n",
              "      <td>0.0</td>\n",
              "      <td>0</td>\n",
              "      <td>0</td>\n",
              "      <td>0.0</td>\n",
              "      <td>0</td>\n",
              "      <td>0</td>\n",
              "      <td>0</td>\n",
              "      <td>0</td>\n",
              "      <td>0</td>\n",
              "      <td>0.0</td>\n",
              "      <td>78</td>\n",
              "      <td>0.0</td>\n",
              "      <td>0</td>\n",
              "      <td>0</td>\n",
              "      <td>0</td>\n",
              "      <td>0</td>\n",
              "      <td>0.228721</td>\n",
              "      <td>3</td>\n",
              "      <td>82</td>\n",
              "      <td>78</td>\n",
              "      <td>0</td>\n",
              "      <td>2</td>\n",
              "      <td>0</td>\n",
              "      <td>2</td>\n",
              "      <td>0</td>\n",
              "      <td>Metodologia da Pesquisa em Ciência da Informação</td>\n",
              "      <td>CBD5600</td>\n",
              "      <td>CBD5600.1.4</td>\n",
              "      <td>CBD</td>\n",
              "      <td>ECA</td>\n",
              "      <td>2012</td>\n",
              "      <td>1</td>\n",
              "      <td>0</td>\n",
              "      <td>3</td>\n",
              "      <td>0</td>\n",
              "      <td>0</td>\n",
              "      <td>45</td>\n",
              "      <td>0</td>\n",
              "      <td>0</td>\n",
              "      <td>1</td>\n",
              "      <td>humanas</td>\n",
              "      <td>POS</td>\n",
              "      <td>CBD5600</td>\n",
              "      <td>0</td>\n",
              "      <td>0.0</td>\n",
              "      <td>0.0</td>\n",
              "      <td>0.0</td>\n",
              "      <td>0.0</td>\n",
              "      <td>0.0</td>\n",
              "      <td>0.0</td>\n",
              "      <td>0.0</td>\n",
              "      <td>0.0</td>\n",
              "      <td>0.0</td>\n",
              "      <td>0.0</td>\n",
              "      <td>0.0</td>\n",
              "      <td>0.0</td>\n",
              "      <td>0.0</td>\n",
              "      <td>0.0</td>\n",
              "      <td>0.0</td>\n",
              "      <td>0.0</td>\n",
              "      <td>0.0</td>\n",
              "      <td>0.0</td>\n",
              "      <td>0.0</td>\n",
              "      <td>0.0</td>\n",
              "    </tr>\n",
              "    <tr>\n",
              "      <th>3</th>\n",
              "      <td>99</td>\n",
              "      <td>https://edisciplinas.usp.br/course/view.php?id=99</td>\n",
              "      <td>0</td>\n",
              "      <td>0</td>\n",
              "      <td>0</td>\n",
              "      <td>0</td>\n",
              "      <td>0</td>\n",
              "      <td>0</td>\n",
              "      <td>0</td>\n",
              "      <td>0</td>\n",
              "      <td>0</td>\n",
              "      <td>1</td>\n",
              "      <td>0</td>\n",
              "      <td>0.0</td>\n",
              "      <td>0</td>\n",
              "      <td>0</td>\n",
              "      <td>0.0</td>\n",
              "      <td>0</td>\n",
              "      <td>0</td>\n",
              "      <td>0</td>\n",
              "      <td>0</td>\n",
              "      <td>0</td>\n",
              "      <td>0.0</td>\n",
              "      <td>0</td>\n",
              "      <td>0.0</td>\n",
              "      <td>0</td>\n",
              "      <td>0</td>\n",
              "      <td>0</td>\n",
              "      <td>0</td>\n",
              "      <td>-0.000000</td>\n",
              "      <td>0</td>\n",
              "      <td>1</td>\n",
              "      <td>0</td>\n",
              "      <td>0</td>\n",
              "      <td>1</td>\n",
              "      <td>0</td>\n",
              "      <td>0</td>\n",
              "      <td>0</td>\n",
              "      <td>Elementos de Lógica para Documentação</td>\n",
              "      <td>CBD0260 - 2012</td>\n",
              "      <td>CBD0260.2.2015105, CBD0260.1.2015101</td>\n",
              "      <td>CBD</td>\n",
              "      <td>ECA</td>\n",
              "      <td>2012</td>\n",
              "      <td>1</td>\n",
              "      <td>0</td>\n",
              "      <td>2</td>\n",
              "      <td>0</td>\n",
              "      <td>0</td>\n",
              "      <td>49</td>\n",
              "      <td>0</td>\n",
              "      <td>0</td>\n",
              "      <td>2</td>\n",
              "      <td>humanas</td>\n",
              "      <td>GR</td>\n",
              "      <td>CBD0260</td>\n",
              "      <td>1</td>\n",
              "      <td>0.0</td>\n",
              "      <td>0.0</td>\n",
              "      <td>0.0</td>\n",
              "      <td>0.0</td>\n",
              "      <td>0.0</td>\n",
              "      <td>0.0</td>\n",
              "      <td>0.0</td>\n",
              "      <td>0.0</td>\n",
              "      <td>0.0</td>\n",
              "      <td>0.0</td>\n",
              "      <td>0.0</td>\n",
              "      <td>0.0</td>\n",
              "      <td>0.0</td>\n",
              "      <td>0.0</td>\n",
              "      <td>0.0</td>\n",
              "      <td>0.0</td>\n",
              "      <td>0.0</td>\n",
              "      <td>0.0</td>\n",
              "      <td>0.0</td>\n",
              "      <td>0.0</td>\n",
              "    </tr>\n",
              "    <tr>\n",
              "      <th>4</th>\n",
              "      <td>408</td>\n",
              "      <td>https://edisciplinas.usp.br/course/view.php?id...</td>\n",
              "      <td>0</td>\n",
              "      <td>0</td>\n",
              "      <td>0</td>\n",
              "      <td>0</td>\n",
              "      <td>0</td>\n",
              "      <td>0</td>\n",
              "      <td>0</td>\n",
              "      <td>0</td>\n",
              "      <td>0</td>\n",
              "      <td>1</td>\n",
              "      <td>0</td>\n",
              "      <td>0.0</td>\n",
              "      <td>0</td>\n",
              "      <td>0</td>\n",
              "      <td>0.0</td>\n",
              "      <td>0</td>\n",
              "      <td>0</td>\n",
              "      <td>18</td>\n",
              "      <td>0</td>\n",
              "      <td>0</td>\n",
              "      <td>0.0</td>\n",
              "      <td>12</td>\n",
              "      <td>0.0</td>\n",
              "      <td>0</td>\n",
              "      <td>0</td>\n",
              "      <td>0</td>\n",
              "      <td>0</td>\n",
              "      <td>0.793807</td>\n",
              "      <td>3</td>\n",
              "      <td>31</td>\n",
              "      <td>12</td>\n",
              "      <td>18</td>\n",
              "      <td>1</td>\n",
              "      <td>0</td>\n",
              "      <td>0</td>\n",
              "      <td>0</td>\n",
              "      <td>Informação, Educação e Conhecimento</td>\n",
              "      <td>CBD0285</td>\n",
              "      <td>CBD0285.2.2012101, CBD0285.2.2012105</td>\n",
              "      <td>CBD</td>\n",
              "      <td>ECA</td>\n",
              "      <td>2012</td>\n",
              "      <td>1</td>\n",
              "      <td>0</td>\n",
              "      <td>1</td>\n",
              "      <td>0</td>\n",
              "      <td>1</td>\n",
              "      <td>41</td>\n",
              "      <td>0</td>\n",
              "      <td>0</td>\n",
              "      <td>2</td>\n",
              "      <td>humanas</td>\n",
              "      <td>GR</td>\n",
              "      <td>CBD0285</td>\n",
              "      <td>1</td>\n",
              "      <td>0.0</td>\n",
              "      <td>0.0</td>\n",
              "      <td>0.0</td>\n",
              "      <td>0.0</td>\n",
              "      <td>0.0</td>\n",
              "      <td>0.0</td>\n",
              "      <td>0.0</td>\n",
              "      <td>0.0</td>\n",
              "      <td>0.0</td>\n",
              "      <td>0.0</td>\n",
              "      <td>0.0</td>\n",
              "      <td>0.0</td>\n",
              "      <td>0.0</td>\n",
              "      <td>0.0</td>\n",
              "      <td>0.0</td>\n",
              "      <td>0.0</td>\n",
              "      <td>0.0</td>\n",
              "      <td>0.0</td>\n",
              "      <td>0.0</td>\n",
              "      <td>0.0</td>\n",
              "    </tr>\n",
              "  </tbody>\n",
              "</table>\n",
              "</div>"
            ],
            "text/plain": [
              "   index  ... subcourse\n",
              "0      5  ...       0.0\n",
              "1      6  ...       0.0\n",
              "2     85  ...       0.0\n",
              "3     99  ...       0.0\n",
              "4    408  ...       0.0\n",
              "\n",
              "[5 rows x 77 columns]"
            ]
          },
          "metadata": {
            "tags": []
          },
          "execution_count": 36
        }
      ]
    },
    {
      "cell_type": "markdown",
      "metadata": {
        "id": "KGHJIaDc8XsC"
      },
      "source": [
        "# **Quantos ambientes foram criado por ano?**"
      ]
    },
    {
      "cell_type": "markdown",
      "metadata": {
        "id": "zQGS4ifPyG8D"
      },
      "source": [
        "Algumas apresentações e leituras especifícas."
      ]
    },
    {
      "cell_type": "code",
      "metadata": {
        "id": "acijJSdvnIdM",
        "colab": {
          "base_uri": "https://localhost:8080/"
        },
        "outputId": "6a4724c2-763f-47e2-a6a9-723eed0061e1"
      },
      "source": [
        "dados.groupby(by='ano').size()"
      ],
      "execution_count": 37,
      "outputs": [
        {
          "output_type": "execute_result",
          "data": {
            "text/plain": [
              "ano\n",
              "2012     1061\n",
              "2013     1369\n",
              "2014     2180\n",
              "2015     2654\n",
              "2016     4006\n",
              "2017     4811\n",
              "2018     5520\n",
              "2019     6305\n",
              "2020    10388\n",
              "dtype: int64"
            ]
          },
          "metadata": {
            "tags": []
          },
          "execution_count": 37
        }
      ]
    },
    {
      "cell_type": "markdown",
      "metadata": {
        "id": "Le3VBL8Iygz2"
      },
      "source": [
        "Com a tabela acima e o gráfico abaixo visualizamos o cresimento explícito anualmente na utilização do E-Disciplinas. Ao executar todo código, será gerado novos gráficos e salvo ao lado do arquivo, no qual, esta referente a relação do crescimento da utilização separados por ano, criando um histograma e salvando com o nome \"**graf0_ambientes_por_ano.png**\""
      ]
    },
    {
      "cell_type": "code",
      "metadata": {
        "id": "-Ev9yLQrOaqx",
        "colab": {
          "base_uri": "https://localhost:8080/",
          "height": 300
        },
        "outputId": "de60fe6d-5338-480e-c468-011096a688a7"
      },
      "source": [
        "sns.countplot( data=dados, y=\"ano\", color=\"c\")\r\n",
        "plt.title('Ambientes criados por ano', fontsize=20)\r\n",
        "plt.savefig('graf1_ambientes_por_ano_seaborn.png')"
      ],
      "execution_count": 38,
      "outputs": [
        {
          "output_type": "display_data",
          "data": {
            "image/png": "[encoded data removed]",
            "text/plain": [
              "<Figure size 432x288 with 1 Axes>"
            ]
          },
          "metadata": {
            "tags": [],
            "needs_background": "light"
          }
        }
      ]
    },
    {
      "cell_type": "markdown",
      "metadata": {
        "id": "BUiUo9LuK9g6"
      },
      "source": [
        "**Utilizando a biblioteca Python Seaborn**\n"
      ]
    },
    {
      "cell_type": "markdown",
      "metadata": {
        "id": "EZPGwV0C6fpc"
      },
      "source": [
        "Um **ambiente do e-disciplinas** é o termo usado para o espaço da disciplina no moodle, e neste ambiente se aplica atividades, fornecndo materiais e informações, além de facilitar a comunicação entre os alunos, monitores e professores por meio de fórum e mensagens diretas. Com esses e muitos outros recursos, a demanda das diversas disciplinas espalhadas por todas as **unidades** da Universidade de São Paulo tem crescido, por isso essa organização e acompanhamento é fundamental, o que trás a necessidade da próxima pergunta."
      ]
    },
    {
      "cell_type": "markdown",
      "metadata": {
        "id": "dIInHxEboeUu"
      },
      "source": [
        "# **Quantos ambientes por unidade?**\n",
        "<br>\n",
        "Salvei um arquivo em excel detalhando essa tabela no segundo código abaixo."
      ]
    },
    {
      "cell_type": "code",
      "metadata": {
        "colab": {
          "base_uri": "https://localhost:8080/"
        },
        "id": "Z7ItgZWGB9Gd",
        "outputId": "f9d07054-aad9-4c92-f64a-02735230700d"
      },
      "source": [
        "total_ambientes = dados.unidade.unique()\r\n",
        "total_ambientes = pd.DataFrame(total_ambientes)\r\n",
        "print('{} unidades inscritas de 2012 até 2020'.format(total_ambientes.count().values[0]))\r\n",
        "print('Unidades participantes do E-Discicplina: {}'.format(total_ambientes))"
      ],
      "execution_count": 39,
      "outputs": [
        {
          "output_type": "stream",
          "text": [
            "69 unidades inscritas de 2012 até 2020\n",
            "Unidades participantes do E-Discicplina:           0\n",
            "0       ECA\n",
            "1    FFCLRP\n",
            "2        EP\n",
            "3        FD\n",
            "4     FFLCH\n",
            "..      ...\n",
            "64      FOB\n",
            "65     HRAC\n",
            "66  CEBIMar\n",
            "67       EA\n",
            "68       MP\n",
            "\n",
            "[69 rows x 1 columns]\n"
          ],
          "name": "stdout"
        }
      ]
    },
    {
      "cell_type": "markdown",
      "metadata": {
        "id": "h5vB6mSAFFB3"
      },
      "source": [
        "\r\n",
        "Um fundamento da analise de dados é a filtragem de dados, pois muitas vezes é necessario objetividade nos resultados, logo eliminar dados que poluem a leitura pode ser conveniente em algumas situações, como no caso do E-disciplina USP algumas unidades que usaram nesses anos muito pouco a ferramenta moodle, poluindo nossas analises.<br>\r\n",
        "**Filtrei as 20 unidades que mais possuem ambientes criados.**"
      ]
    },
    {
      "cell_type": "code",
      "metadata": {
        "colab": {
          "base_uri": "https://localhost:8080/",
          "height": 317
        },
        "id": "T5bSSjughcCW",
        "outputId": "9c1f03d7-1aab-4af5-dbb5-24183fea4a07"
      },
      "source": [
        "complaint_counts_unidade = dados['unidade'].value_counts()\r\n",
        "complaint_counts_unidade[:20].plot(kind='bar', color=\"c\")\r\n",
        "plt.title('Ambientes criados de 2012 até 2020', fontsize=16)\r\n",
        "plt.ylabel('Ambientes Criados (2012/2020)', fontsize=12)\r\n",
        "plt.tick_params(labelsize=12)\r\n",
        "plt.show()"
      ],
      "execution_count": 40,
      "outputs": [
        {
          "output_type": "display_data",
          "data": {
            "image/png": "[encoded data removed]",
            "text/plain": [
              "<Figure size 432x288 with 1 Axes>"
            ]
          },
          "metadata": {
            "tags": [],
            "needs_background": "light"
          }
        }
      ]
    },
    {
      "cell_type": "markdown",
      "metadata": {
        "id": "CDgFMJDc7utB"
      },
      "source": [
        "Seaborn é uma biblioteca de visualização de dados Python baseada em matplotlib. Ele fornece uma interface de alto nível para desenhar gráficos estatísticos atraentes e informativos."
      ]
    },
    {
      "cell_type": "markdown",
      "metadata": {
        "id": "A9dnZJi3Utsj"
      },
      "source": [
        "# **Ambientes criados por unidades e por ano**"
      ]
    },
    {
      "cell_type": "markdown",
      "metadata": {
        "id": "W2LvGy4aw9zf"
      },
      "source": [
        "Primeiro, para limpar os institutos que utilizam com pouca expressão o e-Disciplinas utilizei uma ferramenta que retorna uma série contendo contagens de valores únicos de cada unidade, contando quantos ambientes foram criados.\r\n",
        "<br>\r\n",
        "O objeto resultante estará em ordem decrescente para que a primeira unidade seja a que possue mais ambientes no moodle. Excluímos valores N/A por padrão."
      ]
    },
    {
      "cell_type": "code",
      "metadata": {
        "id": "aYRGVK0LtwOj"
      },
      "source": [
        "mask = dados1['unidade'].value_counts().head(16).index\r\n",
        "dados1 = dados.loc[dados['unidade'].isin(mask)]"
      ],
      "execution_count": 73,
      "outputs": []
    },
    {
      "cell_type": "markdown",
      "metadata": {
        "id": "eobyLbTUyQJJ"
      },
      "source": [
        "Na tabela1, salva em excel, esta detalhado por ano e por unidade a quantidade de ambientes criados completo, com todos as unidades da USP.\r\n",
        "Na tabela 2, é uma versão compacta, com os institutos que mais utilizam a ferramenta moodle. "
      ]
    },
    {
      "cell_type": "code",
      "metadata": {
        "colab": {
          "base_uri": "https://localhost:8080/"
        },
        "id": "MkzkPR68yQw4",
        "outputId": "3c24bc62-5e74-4f81-ffbd-6e0bc6698db4"
      },
      "source": [
        "tabela1 = dados.groupby(by=['unidade','ano']).size()\r\n",
        "print(tabela1)\r\n",
        "tabela1 = dados.groupby(by=['unidade','ano']).size()\r\n",
        "tabela1.to_excel('tabela_ambientes_criados_por_unidade_e_por_ano.xlsx', sheet_name='Sheet1')"
      ],
      "execution_count": 42,
      "outputs": [
        {
          "output_type": "stream",
          "text": [
            "unidade  ano \n",
            "CEBIMar  2020     1\n",
            "CENA     2012     2\n",
            "         2013     2\n",
            "         2014     1\n",
            "         2015     2\n",
            "                 ..\n",
            "RUSP     2020    27\n",
            "SEF      2012     1\n",
            "         2016     1\n",
            "SIBi     2015     4\n",
            "SVOI     2016     2\n",
            "Length: 448, dtype: int64\n"
          ],
          "name": "stdout"
        }
      ]
    },
    {
      "cell_type": "code",
      "metadata": {
        "colab": {
          "base_uri": "https://localhost:8080/"
        },
        "id": "gtYYvyR8ykFF",
        "outputId": "aa7e338c-7f3d-49cb-c1cb-53edd7c4f0fb"
      },
      "source": [
        "tabela2 = dados1.groupby(by=['unidade','ano']).size()\r\n",
        "print(tabela2)\r\n",
        "tabela2 = dados.groupby(by=['unidade','ano']).size()\r\n",
        "tabela2.to_excel('tabela2_ambientes_criados_por_unidade_e_por_ano.xlsx', sheet_name='Sheet1')"
      ],
      "execution_count": 76,
      "outputs": [
        {
          "output_type": "stream",
          "text": [
            "unidade  ano \n",
            "EACH     2012     18\n",
            "         2013     20\n",
            "         2014     31\n",
            "         2015     24\n",
            "         2016     37\n",
            "                ... \n",
            "IF       2016    114\n",
            "         2017    111\n",
            "         2018    114\n",
            "         2019    118\n",
            "         2020    139\n",
            "Length: 144, dtype: int64\n"
          ],
          "name": "stdout"
        }
      ]
    },
    {
      "cell_type": "code",
      "metadata": {
        "id": "QS66rqHsQ6VN",
        "colab": {
          "base_uri": "https://localhost:8080/",
          "height": 404
        },
        "outputId": "02951774-f5e4-477a-965e-5a5a56c43bf1"
      },
      "source": [
        "sns.catplot(y=\"unidade\", hue=\"ano\", kind=\"count\", order=dados1['unidade'].value_counts().index,\n",
        "            palette=\"mako\", edgecolor=\".6\", \n",
        "            data=dados1)\n",
        "plt.savefig('graf_model1_ambientes_criados_por_unidade_e_por_ano.png')\n",
        "plt.title('Ambientes criados por unidade e por ano', fontsize=16)\n",
        "plt.ylabel('Unidades', fontsize=12)\n",
        "plt.tick_params(labelsize=12)\n",
        "plt.show()"
      ],
      "execution_count": 59,
      "outputs": [
        {
          "output_type": "display_data",
          "data": {
            "image/png": "[encoded data removed]",
            "text/plain": [
              "<Figure size 421.375x360 with 1 Axes>"
            ]
          },
          "metadata": {
            "tags": [],
            "needs_background": "light"
          }
        }
      ]
    },
    {
      "cell_type": "markdown",
      "metadata": {
        "id": "5624fAyviATo"
      },
      "source": [
        "O próximo gráfico demonstra a expressividade de relaçãoa  quantidade de ambientes criados para cada institutos e a as seus respsctivos crescimento ao loongo dos anos de 2012 até 2020."
      ]
    },
    {
      "cell_type": "code",
      "metadata": {
        "id": "zHVjtsrVY0u1",
        "colab": {
          "base_uri": "https://localhost:8080/",
          "height": 1000
        },
        "outputId": "641b3237-3c6a-4e28-e8d1-fd1293045ecc"
      },
      "source": [
        "sns.catplot(y=\"unidade\", hue=\"ano\", kind=\"count\", hue_order=None, order = dados1['unidade'].value_counts().index,\n",
        "            edgecolor=\".6\", palette=\"mako\",\n",
        "            data=dados1, height=14)\n",
        "plt.title('Ambientes criados por unidade e por ano', fontsize=16)\n",
        "plt.ylabel('Unidades', fontsize=12)\n",
        "plt.tick_params(labelsize=12)\n",
        "plt.show()"
      ],
      "execution_count": 57,
      "outputs": [
        {
          "output_type": "display_data",
          "data": {
            "image/png": "[encoded data removed]",
            "text/plain": [
              "<Figure size 1069.38x1008 with 1 Axes>"
            ]
          },
          "metadata": {
            "tags": [],
            "needs_background": "light"
          }
        }
      ]
    },
    {
      "cell_type": "markdown",
      "metadata": {
        "id": "wrIK-7mLiUwF"
      },
      "source": [
        "Neste gráfico analisamos que nem todos, dos princicpais institutos que utilizam o e-Disciplina USP esta dentro da margem de cresicimento, o que viabiliza trabalho de divulgação da ferramenta nessas unidades da USP."
      ]
    },
    {
      "cell_type": "code",
      "metadata": {
        "colab": {
          "base_uri": "https://localhost:8080/",
          "height": 1000
        },
        "id": "7F0Rycug2L4s",
        "outputId": "1c96f862-a2c4-424f-da8e-629f8c43da67"
      },
      "source": [
        "sns.catplot(x=\"ano\", col=\"unidade\", col_wrap=4, palette=\"mako\",\r\n",
        "                data=dados1[dados1.unidade.notnull()], \r\n",
        "                kind=\"count\")\r\n",
        "plt.title('Ambientes por ano e unidade', fontsize=16)\r\n",
        "plt.tick_params(labelsize=12)\r\n",
        "plt.show()"
      ],
      "execution_count": 77,
      "outputs": [
        {
          "output_type": "display_data",
          "data": {
            "image/png": "[encoded data removed]",
            "text/plain": [
              "<Figure size 1440x1440 with 16 Axes>"
            ]
          },
          "metadata": {
            "tags": [],
            "needs_background": "light"
          }
        }
      ]
    },
    {
      "cell_type": "markdown",
      "metadata": {
        "id": "722HkR9WdDzq"
      },
      "source": [
        " **Histograma de densidade de frequencia**\r\n",
        " \r\n",
        "Ao aplicar no hue o tipo KDE de representar os dados através de linhas suaves, obtemos um gráfico com muita precisão, visualizando o comportamento padrão da frequencia em que as unidades utilizam os ambientes do e-Disciplinas, mostrando inclusive um comportamento comum a maioria das unidades, e esta precisão depende diretamente da escolha da largura de banda de suavização. Uma estimativa superalisada pode apagar características significativas, mas uma estimativa subalisada pode obscurecer a verdadeira forma dentro do ruído aleatório. A maneira mais fácil de verificar a robustez da estimativa é ajustar a largura de banda padrão, não a definindo:"
      ]
    },
    {
      "cell_type": "code",
      "metadata": {
        "colab": {
          "base_uri": "https://localhost:8080/",
          "height": 390
        },
        "id": "w8XrFUK-_zyJ",
        "outputId": "ca139768-6bdb-4e9d-908d-6679295ece15"
      },
      "source": [
        "sns.displot(dados1, x=\"ano\", hue=\"unidade\", kind=\"kde\")\r\n",
        "plt.title('Densidade de Ambientes por ano e unidade', fontsize=16)\r\n",
        "plt.ylabel('Densidade de Ambientes', fontsize=12)\r\n",
        "plt.tick_params(labelsize=12)\r\n",
        "plt.show()"
      ],
      "execution_count": 46,
      "outputs": [
        {
          "output_type": "display_data",
          "data": {
            "image/png": "[encoded data removed]",
            "text/plain": [
              "<Figure size 432.75x360 with 1 Axes>"
            ]
          },
          "metadata": {
            "tags": [],
            "needs_background": "light"
          }
        }
      ]
    },
    {
      "cell_type": "markdown",
      "metadata": {
        "id": "_s82lzG_xTeX"
      },
      "source": [
        "# **Quantos inscrições de estudantes por ano, por área e por unidade?**"
      ]
    },
    {
      "cell_type": "markdown",
      "metadata": {
        "id": "4uR25kn19re2"
      },
      "source": [
        "**Total de Matrículas por ano:**"
      ]
    },
    {
      "cell_type": "code",
      "metadata": {
        "id": "rSOBCr8u_R58",
        "colab": {
          "base_uri": "https://localhost:8080/"
        },
        "outputId": "75f0b748-e7fa-41a2-87c3-ccb4bae8d708"
      },
      "source": [
        "dados.groupby(['ano'])['student'].sum()\r\n",
        "total_de_matriculas = dados.groupby(['ano'])['student'].sum()\r\n",
        "print(total_de_matriculas)"
      ],
      "execution_count": 47,
      "outputs": [
        {
          "output_type": "stream",
          "text": [
            "ano\n",
            "2012     42203\n",
            "2013     63345\n",
            "2014     99859\n",
            "2015    132931\n",
            "2016    204660\n",
            "2017    245483\n",
            "2018    294889\n",
            "2019    337487\n",
            "2020    557681\n",
            "Name: student, dtype: int64\n"
          ],
          "name": "stdout"
        }
      ]
    },
    {
      "cell_type": "code",
      "metadata": {
        "colab": {
          "base_uri": "https://localhost:8080/",
          "height": 318
        },
        "id": "jaYj14Mw9wfc",
        "outputId": "07f5446b-ef0c-49c8-b288-f67ab9fed22d"
      },
      "source": [
        "total_de_matriculas.plot(kind='bar', color=\"c\")\r\n",
        "plt.title('Total de inscrições de estudantes por ano', fontsize=16)\r\n",
        "plt.ylabel('Alunos inscritos no Moodle', fontsize=12)\r\n",
        "plt.tick_params(labelsize=12)\r\n",
        "plt.show()"
      ],
      "execution_count": 48,
      "outputs": [
        {
          "output_type": "display_data",
          "data": {
            "image/png": "[encoded data removed]",
            "text/plain": [
              "<Figure size 432x288 with 1 Axes>"
            ]
          },
          "metadata": {
            "tags": [],
            "needs_background": "light"
          }
        }
      ]
    },
    {
      "cell_type": "code",
      "metadata": {
        "colab": {
          "base_uri": "https://localhost:8080/"
        },
        "id": "nsi2PLWr8K15",
        "outputId": "564a46c0-815a-478f-c68e-ff4fbccf2700"
      },
      "source": [
        "total_de_matriculas_2 = dados.groupby(['ano','area'])['student'].sum()\r\n",
        "print(total_de_matriculas_2)"
      ],
      "execution_count": 78,
      "outputs": [
        {
          "output_type": "stream",
          "text": [
            "ano   area      \n",
            "2012  0                 26\n",
            "      biologicas      6497\n",
            "      exatas         20817\n",
            "      humanas        14863\n",
            "2013  0                217\n",
            "      biologicas     11716\n",
            "      exatas         25460\n",
            "      humanas        25952\n",
            "2014  0               1567\n",
            "      biologicas     15002\n",
            "      exatas         38830\n",
            "      humanas        44460\n",
            "2015  0                525\n",
            "      biologicas     23178\n",
            "      exatas         47642\n",
            "      humanas        61586\n",
            "2016  0               1310\n",
            "      biologicas     35793\n",
            "      exatas         59919\n",
            "      humanas       107638\n",
            "2017  0                372\n",
            "      biologicas     46405\n",
            "      exatas         73581\n",
            "      humanas       125125\n",
            "2018  0               1262\n",
            "      biologicas     56229\n",
            "      exatas         90207\n",
            "      humanas       147191\n",
            "2019  0               3294\n",
            "      biologicas     65699\n",
            "      exatas        105754\n",
            "      humanas       162740\n",
            "2020  0              15522\n",
            "      biologicas    107837\n",
            "      exatas        193158\n",
            "      humanas       241164\n",
            "Name: student, dtype: int64\n"
          ],
          "name": "stdout"
        }
      ]
    },
    {
      "cell_type": "code",
      "metadata": {
        "colab": {
          "base_uri": "https://localhost:8080/",
          "height": 406
        },
        "id": "5csqSoyVVEYg",
        "outputId": "30c4941a-609e-4d78-9b4a-5eb5ca17c855"
      },
      "source": [
        "sns.relplot(data=dados, x=\"ano\", y='student', hue=\"area\", kind=\"line\", estimator=np.sum)\r\n",
        "plt.title('Inscrições de estudantes por ano e área', fontsize=18)\r\n",
        "plt.ylabel('Alunos instros no Moodle', fontsize=12)\r\n",
        "plt.tick_params(labelsize=12)\r\n",
        "plt.show()"
      ],
      "execution_count": 50,
      "outputs": [
        {
          "output_type": "display_data",
          "data": {
            "image/png": "[encoded data removed]",
            "text/plain": [
              "<Figure size 446.125x360 with 1 Axes>"
            ]
          },
          "metadata": {
            "tags": [],
            "needs_background": "light"
          }
        }
      ]
    },
    {
      "cell_type": "code",
      "metadata": {
        "colab": {
          "base_uri": "https://localhost:8080/",
          "height": 1000
        },
        "id": "i1qEnAURedbv",
        "outputId": "8e5eca17-7ad3-470e-b2be-0188e0b66d84"
      },
      "source": [
        "sns.catplot( y=\"unidade\", x=\"student\", hue=\"ano\", estimator=np.sum,  order = dados1['unidade'].value_counts().index,\r\n",
        "            edgecolor=\".6\", palette=\"mako\", kind=\"bar\", \r\n",
        "            data=dados1, height=15)\r\n",
        "plt.title('Inscrições de estudantes por ano e unidades', fontsize=18)\r\n",
        "plt.ylabel('Alunos inscritos no Moodle', fontsize=12)\r\n",
        "plt.tick_params(labelsize=12)\r\n",
        "plt.show()"
      ],
      "execution_count": 81,
      "outputs": [
        {
          "output_type": "display_data",
          "data": {
            "image/png": "[encoded data removed]",
            "text/plain": [
              "<Figure size 1141.38x1080 with 1 Axes>"
            ]
          },
          "metadata": {
            "tags": [],
            "needs_background": "light"
          }
        }
      ]
    },
    {
      "cell_type": "markdown",
      "metadata": {
        "id": "uah3yt4SzPZM"
      },
      "source": [
        "# **A distribuição (histograma) do número de atividades e recursos (N) usados**\n",
        "<br>\n",
        "O eixo-x = N (dividido em bins), eixo-y = número de ambientes.\n",
        "<br>\n",
        "Utilizaremos os arquicos mv-24-11-2020-FD.csv, mv-24-11-2020-FE.csv, mv-24-11-2020-FE.csv, mv-24-11-2020-FEA.csv, mv-24-11-2020-FFLCH.csv, mv-24-11-2020-IF.csv, mv-24-11-2020-IFSC.csv \n",
        "<br>\n",
        "(mv - module views)"
      ]
    },
    {
      "cell_type": "code",
      "metadata": {
        "id": "0Yy9bXy6zdPR",
        "colab": {
          "base_uri": "https://localhost:8080/",
          "height": 202
        },
        "outputId": "ba17d00b-c897-48d1-db35-8aa088fe5291"
      },
      "source": [
        "mvFD = pd.read_csv('mv-24-11-2020-FD.csv')\r\n",
        "mvFE = pd.read_csv('mv-24-11-2020-FE.csv')\r\n",
        "mvFEA = pd.read_csv('mv-24-11-2020-FEA.csv')\r\n",
        "mvFFLCH = pd.read_csv('mv-24-11-2020-FFLCH.csv')\r\n",
        "mvIF = pd.read_csv('mv-24-11-2020-IF.csv')\r\n",
        "mvIFSC = pd.read_csv('mv-24-11-2020-IFSC.csv')\r\n",
        "mvIF.head(5)"
      ],
      "execution_count": 122,
      "outputs": [
        {
          "output_type": "execute_result",
          "data": {
            "text/html": [
              "<div>\n",
              "<style scoped>\n",
              "    .dataframe tbody tr th:only-of-type {\n",
              "        vertical-align: middle;\n",
              "    }\n",
              "\n",
              "    .dataframe tbody tr th {\n",
              "        vertical-align: top;\n",
              "    }\n",
              "\n",
              "    .dataframe thead th {\n",
              "        text-align: right;\n",
              "    }\n",
              "</style>\n",
              "<table border=\"1\" class=\"dataframe\">\n",
              "  <thead>\n",
              "    <tr style=\"text-align: right;\">\n",
              "      <th></th>\n",
              "      <th>course</th>\n",
              "      <th>name</th>\n",
              "      <th>cmid</th>\n",
              "      <th>views</th>\n",
              "      <th>uniqusers</th>\n",
              "      <th>courseid</th>\n",
              "      <th>vpu</th>\n",
              "      <th>students</th>\n",
              "      <th>teachers</th>\n",
              "      <th>vps</th>\n",
              "      <th>fracstudents</th>\n",
              "    </tr>\n",
              "  </thead>\n",
              "  <tbody>\n",
              "    <tr>\n",
              "      <th>0</th>\n",
              "      <td>72831</td>\n",
              "      <td>forum</td>\n",
              "      <td>2732324</td>\n",
              "      <td>2005.0</td>\n",
              "      <td>120.0</td>\n",
              "      <td>72831.0</td>\n",
              "      <td>16.708333</td>\n",
              "      <td>135</td>\n",
              "      <td>3</td>\n",
              "      <td>14.851852</td>\n",
              "      <td>0.888889</td>\n",
              "    </tr>\n",
              "    <tr>\n",
              "      <th>1</th>\n",
              "      <td>72831</td>\n",
              "      <td>forum</td>\n",
              "      <td>2732325</td>\n",
              "      <td>256.0</td>\n",
              "      <td>86.0</td>\n",
              "      <td>72831.0</td>\n",
              "      <td>2.976744</td>\n",
              "      <td>135</td>\n",
              "      <td>3</td>\n",
              "      <td>1.896296</td>\n",
              "      <td>0.637037</td>\n",
              "    </tr>\n",
              "    <tr>\n",
              "      <th>2</th>\n",
              "      <td>72831</td>\n",
              "      <td>page</td>\n",
              "      <td>2732326</td>\n",
              "      <td>143.0</td>\n",
              "      <td>79.0</td>\n",
              "      <td>72831.0</td>\n",
              "      <td>1.810127</td>\n",
              "      <td>135</td>\n",
              "      <td>3</td>\n",
              "      <td>1.059259</td>\n",
              "      <td>0.585185</td>\n",
              "    </tr>\n",
              "    <tr>\n",
              "      <th>3</th>\n",
              "      <td>72831</td>\n",
              "      <td>resource</td>\n",
              "      <td>2732328</td>\n",
              "      <td>339.0</td>\n",
              "      <td>92.0</td>\n",
              "      <td>72831.0</td>\n",
              "      <td>3.684783</td>\n",
              "      <td>135</td>\n",
              "      <td>3</td>\n",
              "      <td>2.511111</td>\n",
              "      <td>0.681481</td>\n",
              "    </tr>\n",
              "    <tr>\n",
              "      <th>4</th>\n",
              "      <td>72831</td>\n",
              "      <td>page</td>\n",
              "      <td>2732329</td>\n",
              "      <td>560.0</td>\n",
              "      <td>108.0</td>\n",
              "      <td>72831.0</td>\n",
              "      <td>5.185185</td>\n",
              "      <td>135</td>\n",
              "      <td>3</td>\n",
              "      <td>4.148148</td>\n",
              "      <td>0.800000</td>\n",
              "    </tr>\n",
              "  </tbody>\n",
              "</table>\n",
              "</div>"
            ],
            "text/plain": [
              "   course      name     cmid  ...  teachers        vps  fracstudents\n",
              "0   72831     forum  2732324  ...         3  14.851852      0.888889\n",
              "1   72831     forum  2732325  ...         3   1.896296      0.637037\n",
              "2   72831      page  2732326  ...         3   1.059259      0.585185\n",
              "3   72831  resource  2732328  ...         3   2.511111      0.681481\n",
              "4   72831      page  2732329  ...         3   4.148148      0.800000\n",
              "\n",
              "[5 rows x 11 columns]"
            ]
          },
          "metadata": {
            "tags": []
          },
          "execution_count": 122
        }
      ]
    },
    {
      "cell_type": "markdown",
      "metadata": {
        "id": "F9lFJfcc5-RB"
      },
      "source": [
        "**Importando vários arquivos CSV para pandas e concatenando em um DataFrame só.**"
      ]
    },
    {
      "cell_type": "code",
      "metadata": {
        "colab": {
          "base_uri": "https://localhost:8080/",
          "height": 202
        },
        "id": "bGeEc4eK9drW",
        "outputId": "e7989747-17d8-453e-c3bf-1f815e5616d5"
      },
      "source": [
        "mv_col = pd.concat([mvFD, mvFE, mvFEA, mvFFLCH, mvIF, mvIFSC])\r\n",
        "mv_col.head(5)"
      ],
      "execution_count": 123,
      "outputs": [
        {
          "output_type": "execute_result",
          "data": {
            "text/html": [
              "<div>\n",
              "<style scoped>\n",
              "    .dataframe tbody tr th:only-of-type {\n",
              "        vertical-align: middle;\n",
              "    }\n",
              "\n",
              "    .dataframe tbody tr th {\n",
              "        vertical-align: top;\n",
              "    }\n",
              "\n",
              "    .dataframe thead th {\n",
              "        text-align: right;\n",
              "    }\n",
              "</style>\n",
              "<table border=\"1\" class=\"dataframe\">\n",
              "  <thead>\n",
              "    <tr style=\"text-align: right;\">\n",
              "      <th></th>\n",
              "      <th>course</th>\n",
              "      <th>name</th>\n",
              "      <th>cmid</th>\n",
              "      <th>views</th>\n",
              "      <th>uniqusers</th>\n",
              "      <th>courseid</th>\n",
              "      <th>vpu</th>\n",
              "      <th>students</th>\n",
              "      <th>teachers</th>\n",
              "      <th>vps</th>\n",
              "      <th>fracstudents</th>\n",
              "    </tr>\n",
              "  </thead>\n",
              "  <tbody>\n",
              "    <tr>\n",
              "      <th>0</th>\n",
              "      <td>72939</td>\n",
              "      <td>forum</td>\n",
              "      <td>2736393</td>\n",
              "      <td>812.0</td>\n",
              "      <td>66.0</td>\n",
              "      <td>72939.0</td>\n",
              "      <td>12.303030</td>\n",
              "      <td>85</td>\n",
              "      <td>6</td>\n",
              "      <td>9.552941</td>\n",
              "      <td>0.776471</td>\n",
              "    </tr>\n",
              "    <tr>\n",
              "      <th>1</th>\n",
              "      <td>72939</td>\n",
              "      <td>resource</td>\n",
              "      <td>2796249</td>\n",
              "      <td>161.0</td>\n",
              "      <td>54.0</td>\n",
              "      <td>72939.0</td>\n",
              "      <td>2.981481</td>\n",
              "      <td>85</td>\n",
              "      <td>6</td>\n",
              "      <td>1.894118</td>\n",
              "      <td>0.635294</td>\n",
              "    </tr>\n",
              "    <tr>\n",
              "      <th>2</th>\n",
              "      <td>72939</td>\n",
              "      <td>resource</td>\n",
              "      <td>2812545</td>\n",
              "      <td>121.0</td>\n",
              "      <td>46.0</td>\n",
              "      <td>72939.0</td>\n",
              "      <td>2.630435</td>\n",
              "      <td>85</td>\n",
              "      <td>6</td>\n",
              "      <td>1.423529</td>\n",
              "      <td>0.541176</td>\n",
              "    </tr>\n",
              "    <tr>\n",
              "      <th>3</th>\n",
              "      <td>72939</td>\n",
              "      <td>resource</td>\n",
              "      <td>2860684</td>\n",
              "      <td>27.0</td>\n",
              "      <td>21.0</td>\n",
              "      <td>72939.0</td>\n",
              "      <td>1.285714</td>\n",
              "      <td>85</td>\n",
              "      <td>6</td>\n",
              "      <td>0.317647</td>\n",
              "      <td>0.247059</td>\n",
              "    </tr>\n",
              "    <tr>\n",
              "      <th>4</th>\n",
              "      <td>72939</td>\n",
              "      <td>resource</td>\n",
              "      <td>2887452</td>\n",
              "      <td>34.0</td>\n",
              "      <td>21.0</td>\n",
              "      <td>72939.0</td>\n",
              "      <td>1.619048</td>\n",
              "      <td>85</td>\n",
              "      <td>6</td>\n",
              "      <td>0.400000</td>\n",
              "      <td>0.247059</td>\n",
              "    </tr>\n",
              "  </tbody>\n",
              "</table>\n",
              "</div>"
            ],
            "text/plain": [
              "   course      name     cmid  views  ...  students  teachers       vps  fracstudents\n",
              "0   72939     forum  2736393  812.0  ...        85         6  9.552941      0.776471\n",
              "1   72939  resource  2796249  161.0  ...        85         6  1.894118      0.635294\n",
              "2   72939  resource  2812545  121.0  ...        85         6  1.423529      0.541176\n",
              "3   72939  resource  2860684   27.0  ...        85         6  0.317647      0.247059\n",
              "4   72939  resource  2887452   34.0  ...        85         6  0.400000      0.247059\n",
              "\n",
              "[5 rows x 11 columns]"
            ]
          },
          "metadata": {
            "tags": []
          },
          "execution_count": 123
        }
      ]
    },
    {
      "cell_type": "code",
      "metadata": {
        "colab": {
          "base_uri": "https://localhost:8080/",
          "height": 222
        },
        "id": "PMxqA4k26a-u",
        "outputId": "14c5ae74-94ec-4a4e-e68d-9acd2b0d4c7c"
      },
      "source": [
        "mv_lin = pd.concat([mvFD, mvFE, mvFEA, mvFFLCH, mvIF, mvIFSC], axis=1,\r\n",
        "          )\r\n",
        "mv_lin.head(5)"
      ],
      "execution_count": 124,
      "outputs": [
        {
          "output_type": "execute_result",
          "data": {
            "text/html": [
              "<div>\n",
              "<style scoped>\n",
              "    .dataframe tbody tr th:only-of-type {\n",
              "        vertical-align: middle;\n",
              "    }\n",
              "\n",
              "    .dataframe tbody tr th {\n",
              "        vertical-align: top;\n",
              "    }\n",
              "\n",
              "    .dataframe thead th {\n",
              "        text-align: right;\n",
              "    }\n",
              "</style>\n",
              "<table border=\"1\" class=\"dataframe\">\n",
              "  <thead>\n",
              "    <tr style=\"text-align: right;\">\n",
              "      <th></th>\n",
              "      <th>course</th>\n",
              "      <th>name</th>\n",
              "      <th>cmid</th>\n",
              "      <th>views</th>\n",
              "      <th>uniqusers</th>\n",
              "      <th>courseid</th>\n",
              "      <th>vpu</th>\n",
              "      <th>students</th>\n",
              "      <th>teachers</th>\n",
              "      <th>vps</th>\n",
              "      <th>fracstudents</th>\n",
              "      <th>course</th>\n",
              "      <th>name</th>\n",
              "      <th>cmid</th>\n",
              "      <th>views</th>\n",
              "      <th>uniqusers</th>\n",
              "      <th>courseid</th>\n",
              "      <th>vpu</th>\n",
              "      <th>students</th>\n",
              "      <th>teachers</th>\n",
              "      <th>vps</th>\n",
              "      <th>fracstudents</th>\n",
              "      <th>course</th>\n",
              "      <th>name</th>\n",
              "      <th>cmid</th>\n",
              "      <th>views</th>\n",
              "      <th>uniqusers</th>\n",
              "      <th>courseid</th>\n",
              "      <th>vpu</th>\n",
              "      <th>students</th>\n",
              "      <th>teachers</th>\n",
              "      <th>vps</th>\n",
              "      <th>fracstudents</th>\n",
              "      <th>course</th>\n",
              "      <th>name</th>\n",
              "      <th>cmid</th>\n",
              "      <th>views</th>\n",
              "      <th>uniqusers</th>\n",
              "      <th>courseid</th>\n",
              "      <th>vpu</th>\n",
              "      <th>students</th>\n",
              "      <th>teachers</th>\n",
              "      <th>vps</th>\n",
              "      <th>fracstudents</th>\n",
              "      <th>course</th>\n",
              "      <th>name</th>\n",
              "      <th>cmid</th>\n",
              "      <th>views</th>\n",
              "      <th>uniqusers</th>\n",
              "      <th>courseid</th>\n",
              "      <th>vpu</th>\n",
              "      <th>students</th>\n",
              "      <th>teachers</th>\n",
              "      <th>vps</th>\n",
              "      <th>fracstudents</th>\n",
              "      <th>course</th>\n",
              "      <th>name</th>\n",
              "      <th>cmid</th>\n",
              "      <th>views</th>\n",
              "      <th>uniqusers</th>\n",
              "      <th>courseid</th>\n",
              "      <th>vpu</th>\n",
              "      <th>students</th>\n",
              "      <th>teachers</th>\n",
              "      <th>vps</th>\n",
              "      <th>fracstudents</th>\n",
              "    </tr>\n",
              "  </thead>\n",
              "  <tbody>\n",
              "    <tr>\n",
              "      <th>0</th>\n",
              "      <td>72939.0</td>\n",
              "      <td>forum</td>\n",
              "      <td>2736393.0</td>\n",
              "      <td>812.0</td>\n",
              "      <td>66.0</td>\n",
              "      <td>72939.0</td>\n",
              "      <td>12.303030</td>\n",
              "      <td>85.0</td>\n",
              "      <td>6.0</td>\n",
              "      <td>9.552941</td>\n",
              "      <td>0.776471</td>\n",
              "      <td>72741.0</td>\n",
              "      <td>forum</td>\n",
              "      <td>2725990.0</td>\n",
              "      <td>270.0</td>\n",
              "      <td>23.0</td>\n",
              "      <td>72741.0</td>\n",
              "      <td>11.739130</td>\n",
              "      <td>30.0</td>\n",
              "      <td>1.0</td>\n",
              "      <td>9.000000</td>\n",
              "      <td>0.766667</td>\n",
              "      <td>72781.0</td>\n",
              "      <td>forum</td>\n",
              "      <td>2729633.0</td>\n",
              "      <td>458.0</td>\n",
              "      <td>39.0</td>\n",
              "      <td>72781.0</td>\n",
              "      <td>11.743590</td>\n",
              "      <td>57.0</td>\n",
              "      <td>2.0</td>\n",
              "      <td>8.035088</td>\n",
              "      <td>0.684211</td>\n",
              "      <td>72845</td>\n",
              "      <td>forum</td>\n",
              "      <td>2733004</td>\n",
              "      <td>113.0</td>\n",
              "      <td>6.0</td>\n",
              "      <td>72845.0</td>\n",
              "      <td>18.833333</td>\n",
              "      <td>6</td>\n",
              "      <td>1</td>\n",
              "      <td>18.833333</td>\n",
              "      <td>1.000000</td>\n",
              "      <td>72831.0</td>\n",
              "      <td>forum</td>\n",
              "      <td>2732324.0</td>\n",
              "      <td>2005.0</td>\n",
              "      <td>120.0</td>\n",
              "      <td>72831.0</td>\n",
              "      <td>16.708333</td>\n",
              "      <td>135.0</td>\n",
              "      <td>3.0</td>\n",
              "      <td>14.851852</td>\n",
              "      <td>0.888889</td>\n",
              "      <td>72792.0</td>\n",
              "      <td>page</td>\n",
              "      <td>2730543.0</td>\n",
              "      <td>10.0</td>\n",
              "      <td>9.0</td>\n",
              "      <td>72792.0</td>\n",
              "      <td>1.111111</td>\n",
              "      <td>11.0</td>\n",
              "      <td>1.0</td>\n",
              "      <td>0.909091</td>\n",
              "      <td>0.818182</td>\n",
              "    </tr>\n",
              "    <tr>\n",
              "      <th>1</th>\n",
              "      <td>72939.0</td>\n",
              "      <td>resource</td>\n",
              "      <td>2796249.0</td>\n",
              "      <td>161.0</td>\n",
              "      <td>54.0</td>\n",
              "      <td>72939.0</td>\n",
              "      <td>2.981481</td>\n",
              "      <td>85.0</td>\n",
              "      <td>6.0</td>\n",
              "      <td>1.894118</td>\n",
              "      <td>0.635294</td>\n",
              "      <td>72741.0</td>\n",
              "      <td>url</td>\n",
              "      <td>2733994.0</td>\n",
              "      <td>4.0</td>\n",
              "      <td>3.0</td>\n",
              "      <td>72741.0</td>\n",
              "      <td>1.333333</td>\n",
              "      <td>30.0</td>\n",
              "      <td>1.0</td>\n",
              "      <td>0.133333</td>\n",
              "      <td>0.100000</td>\n",
              "      <td>72781.0</td>\n",
              "      <td>resource</td>\n",
              "      <td>2729636.0</td>\n",
              "      <td>124.0</td>\n",
              "      <td>51.0</td>\n",
              "      <td>72781.0</td>\n",
              "      <td>2.431373</td>\n",
              "      <td>57.0</td>\n",
              "      <td>2.0</td>\n",
              "      <td>2.175439</td>\n",
              "      <td>0.894737</td>\n",
              "      <td>72845</td>\n",
              "      <td>resource</td>\n",
              "      <td>2759600</td>\n",
              "      <td>3.0</td>\n",
              "      <td>3.0</td>\n",
              "      <td>72845.0</td>\n",
              "      <td>1.000000</td>\n",
              "      <td>6</td>\n",
              "      <td>1</td>\n",
              "      <td>0.500000</td>\n",
              "      <td>0.500000</td>\n",
              "      <td>72831.0</td>\n",
              "      <td>forum</td>\n",
              "      <td>2732325.0</td>\n",
              "      <td>256.0</td>\n",
              "      <td>86.0</td>\n",
              "      <td>72831.0</td>\n",
              "      <td>2.976744</td>\n",
              "      <td>135.0</td>\n",
              "      <td>3.0</td>\n",
              "      <td>1.896296</td>\n",
              "      <td>0.637037</td>\n",
              "      <td>72792.0</td>\n",
              "      <td>label</td>\n",
              "      <td>2730544.0</td>\n",
              "      <td>0.0</td>\n",
              "      <td>0.0</td>\n",
              "      <td>0.0</td>\n",
              "      <td>0.000000</td>\n",
              "      <td>11.0</td>\n",
              "      <td>1.0</td>\n",
              "      <td>0.000000</td>\n",
              "      <td>0.000000</td>\n",
              "    </tr>\n",
              "    <tr>\n",
              "      <th>2</th>\n",
              "      <td>72939.0</td>\n",
              "      <td>resource</td>\n",
              "      <td>2812545.0</td>\n",
              "      <td>121.0</td>\n",
              "      <td>46.0</td>\n",
              "      <td>72939.0</td>\n",
              "      <td>2.630435</td>\n",
              "      <td>85.0</td>\n",
              "      <td>6.0</td>\n",
              "      <td>1.423529</td>\n",
              "      <td>0.541176</td>\n",
              "      <td>72741.0</td>\n",
              "      <td>url</td>\n",
              "      <td>2733995.0</td>\n",
              "      <td>25.0</td>\n",
              "      <td>14.0</td>\n",
              "      <td>72741.0</td>\n",
              "      <td>1.785714</td>\n",
              "      <td>30.0</td>\n",
              "      <td>1.0</td>\n",
              "      <td>0.833333</td>\n",
              "      <td>0.466667</td>\n",
              "      <td>72781.0</td>\n",
              "      <td>folder</td>\n",
              "      <td>2729637.0</td>\n",
              "      <td>103.0</td>\n",
              "      <td>43.0</td>\n",
              "      <td>72781.0</td>\n",
              "      <td>2.395349</td>\n",
              "      <td>57.0</td>\n",
              "      <td>2.0</td>\n",
              "      <td>1.807018</td>\n",
              "      <td>0.754386</td>\n",
              "      <td>72845</td>\n",
              "      <td>resource</td>\n",
              "      <td>2776583</td>\n",
              "      <td>7.0</td>\n",
              "      <td>4.0</td>\n",
              "      <td>72845.0</td>\n",
              "      <td>1.750000</td>\n",
              "      <td>6</td>\n",
              "      <td>1</td>\n",
              "      <td>1.166667</td>\n",
              "      <td>0.666667</td>\n",
              "      <td>72831.0</td>\n",
              "      <td>page</td>\n",
              "      <td>2732326.0</td>\n",
              "      <td>143.0</td>\n",
              "      <td>79.0</td>\n",
              "      <td>72831.0</td>\n",
              "      <td>1.810127</td>\n",
              "      <td>135.0</td>\n",
              "      <td>3.0</td>\n",
              "      <td>1.059259</td>\n",
              "      <td>0.585185</td>\n",
              "      <td>72792.0</td>\n",
              "      <td>label</td>\n",
              "      <td>2730545.0</td>\n",
              "      <td>0.0</td>\n",
              "      <td>0.0</td>\n",
              "      <td>0.0</td>\n",
              "      <td>0.000000</td>\n",
              "      <td>11.0</td>\n",
              "      <td>1.0</td>\n",
              "      <td>0.000000</td>\n",
              "      <td>0.000000</td>\n",
              "    </tr>\n",
              "    <tr>\n",
              "      <th>3</th>\n",
              "      <td>72939.0</td>\n",
              "      <td>resource</td>\n",
              "      <td>2860684.0</td>\n",
              "      <td>27.0</td>\n",
              "      <td>21.0</td>\n",
              "      <td>72939.0</td>\n",
              "      <td>1.285714</td>\n",
              "      <td>85.0</td>\n",
              "      <td>6.0</td>\n",
              "      <td>0.317647</td>\n",
              "      <td>0.247059</td>\n",
              "      <td>72741.0</td>\n",
              "      <td>resource</td>\n",
              "      <td>2733996.0</td>\n",
              "      <td>82.0</td>\n",
              "      <td>24.0</td>\n",
              "      <td>72741.0</td>\n",
              "      <td>3.416667</td>\n",
              "      <td>30.0</td>\n",
              "      <td>1.0</td>\n",
              "      <td>2.733333</td>\n",
              "      <td>0.800000</td>\n",
              "      <td>72781.0</td>\n",
              "      <td>folder</td>\n",
              "      <td>2729638.0</td>\n",
              "      <td>90.0</td>\n",
              "      <td>38.0</td>\n",
              "      <td>72781.0</td>\n",
              "      <td>2.368421</td>\n",
              "      <td>57.0</td>\n",
              "      <td>2.0</td>\n",
              "      <td>1.578947</td>\n",
              "      <td>0.666667</td>\n",
              "      <td>72845</td>\n",
              "      <td>resource</td>\n",
              "      <td>2776824</td>\n",
              "      <td>4.0</td>\n",
              "      <td>4.0</td>\n",
              "      <td>72845.0</td>\n",
              "      <td>1.000000</td>\n",
              "      <td>6</td>\n",
              "      <td>1</td>\n",
              "      <td>0.666667</td>\n",
              "      <td>0.666667</td>\n",
              "      <td>72831.0</td>\n",
              "      <td>resource</td>\n",
              "      <td>2732328.0</td>\n",
              "      <td>339.0</td>\n",
              "      <td>92.0</td>\n",
              "      <td>72831.0</td>\n",
              "      <td>3.684783</td>\n",
              "      <td>135.0</td>\n",
              "      <td>3.0</td>\n",
              "      <td>2.511111</td>\n",
              "      <td>0.681481</td>\n",
              "      <td>72792.0</td>\n",
              "      <td>forum</td>\n",
              "      <td>2730546.0</td>\n",
              "      <td>31.0</td>\n",
              "      <td>9.0</td>\n",
              "      <td>72792.0</td>\n",
              "      <td>3.444444</td>\n",
              "      <td>11.0</td>\n",
              "      <td>1.0</td>\n",
              "      <td>2.818182</td>\n",
              "      <td>0.818182</td>\n",
              "    </tr>\n",
              "    <tr>\n",
              "      <th>4</th>\n",
              "      <td>72939.0</td>\n",
              "      <td>resource</td>\n",
              "      <td>2887452.0</td>\n",
              "      <td>34.0</td>\n",
              "      <td>21.0</td>\n",
              "      <td>72939.0</td>\n",
              "      <td>1.619048</td>\n",
              "      <td>85.0</td>\n",
              "      <td>6.0</td>\n",
              "      <td>0.400000</td>\n",
              "      <td>0.247059</td>\n",
              "      <td>72741.0</td>\n",
              "      <td>url</td>\n",
              "      <td>2733998.0</td>\n",
              "      <td>87.0</td>\n",
              "      <td>25.0</td>\n",
              "      <td>72741.0</td>\n",
              "      <td>3.480000</td>\n",
              "      <td>30.0</td>\n",
              "      <td>1.0</td>\n",
              "      <td>2.900000</td>\n",
              "      <td>0.833333</td>\n",
              "      <td>72781.0</td>\n",
              "      <td>folder</td>\n",
              "      <td>2729639.0</td>\n",
              "      <td>82.0</td>\n",
              "      <td>36.0</td>\n",
              "      <td>72781.0</td>\n",
              "      <td>2.277778</td>\n",
              "      <td>57.0</td>\n",
              "      <td>2.0</td>\n",
              "      <td>1.438596</td>\n",
              "      <td>0.631579</td>\n",
              "      <td>72845</td>\n",
              "      <td>resource</td>\n",
              "      <td>2776854</td>\n",
              "      <td>3.0</td>\n",
              "      <td>3.0</td>\n",
              "      <td>72845.0</td>\n",
              "      <td>1.000000</td>\n",
              "      <td>6</td>\n",
              "      <td>1</td>\n",
              "      <td>0.500000</td>\n",
              "      <td>0.500000</td>\n",
              "      <td>72831.0</td>\n",
              "      <td>page</td>\n",
              "      <td>2732329.0</td>\n",
              "      <td>560.0</td>\n",
              "      <td>108.0</td>\n",
              "      <td>72831.0</td>\n",
              "      <td>5.185185</td>\n",
              "      <td>135.0</td>\n",
              "      <td>3.0</td>\n",
              "      <td>4.148148</td>\n",
              "      <td>0.800000</td>\n",
              "      <td>72792.0</td>\n",
              "      <td>label</td>\n",
              "      <td>2730548.0</td>\n",
              "      <td>0.0</td>\n",
              "      <td>0.0</td>\n",
              "      <td>0.0</td>\n",
              "      <td>0.000000</td>\n",
              "      <td>11.0</td>\n",
              "      <td>1.0</td>\n",
              "      <td>0.000000</td>\n",
              "      <td>0.000000</td>\n",
              "    </tr>\n",
              "  </tbody>\n",
              "</table>\n",
              "</div>"
            ],
            "text/plain": [
              "    course      name       cmid  ...  teachers       vps  fracstudents\n",
              "0  72939.0     forum  2736393.0  ...       1.0  0.909091      0.818182\n",
              "1  72939.0  resource  2796249.0  ...       1.0  0.000000      0.000000\n",
              "2  72939.0  resource  2812545.0  ...       1.0  0.000000      0.000000\n",
              "3  72939.0  resource  2860684.0  ...       1.0  2.818182      0.818182\n",
              "4  72939.0  resource  2887452.0  ...       1.0  0.000000      0.000000\n",
              "\n",
              "[5 rows x 66 columns]"
            ]
          },
          "metadata": {
            "tags": []
          },
          "execution_count": 124
        }
      ]
    },
    {
      "cell_type": "code",
      "metadata": {
        "colab": {
          "base_uri": "https://localhost:8080/"
        },
        "id": "DbCX4dCIGl0u",
        "outputId": "a4945457-fa80-428f-fecd-4ba11911c024"
      },
      "source": [
        "mv_col.info()"
      ],
      "execution_count": 125,
      "outputs": [
        {
          "output_type": "stream",
          "text": [
            "<class 'pandas.core.frame.DataFrame'>\n",
            "Int64Index: 98416 entries, 0 to 9113\n",
            "Data columns (total 11 columns):\n",
            " #   Column        Non-Null Count  Dtype  \n",
            "---  ------        --------------  -----  \n",
            " 0   course        98416 non-null  int64  \n",
            " 1   name          98416 non-null  object \n",
            " 2   cmid          98416 non-null  int64  \n",
            " 3   views         98416 non-null  float64\n",
            " 4   uniqusers     98416 non-null  float64\n",
            " 5   courseid      98416 non-null  float64\n",
            " 6   vpu           98416 non-null  float64\n",
            " 7   students      98416 non-null  int64  \n",
            " 8   teachers      98416 non-null  int64  \n",
            " 9   vps           98219 non-null  float64\n",
            " 10  fracstudents  98219 non-null  float64\n",
            "dtypes: float64(6), int64(4), object(1)\n",
            "memory usage: 9.0+ MB\n"
          ],
          "name": "stdout"
        }
      ]
    },
    {
      "cell_type": "code",
      "metadata": {
        "colab": {
          "base_uri": "https://localhost:8080/",
          "height": 356
        },
        "id": "8IZ9A3UP4VPY",
        "outputId": "7a9272d3-649d-4d76-f800-e84376bd4dac"
      },
      "source": [
        "complaint_counts_activity = mvIF['name'].value_counts()\r\n",
        "complaint_counts_activity[:10].plot(kind='bar', color=\"c\")\r\n",
        "plt.title('Recursos e atividade utilizadas no IF', fontsize=16)\r\n",
        "plt.ylabel('utilização de recursos', fontsize=12)\r\n",
        "plt.tick_params(labelsize=12)\r\n",
        "plt.show()"
      ],
      "execution_count": 126,
      "outputs": [
        {
          "output_type": "display_data",
          "data": {
            "image/png": "[encoded data removed]",
            "text/plain": [
              "<Figure size 432x288 with 1 Axes>"
            ]
          },
          "metadata": {
            "tags": [],
            "needs_background": "light"
          }
        }
      ]
    },
    {
      "cell_type": "code",
      "metadata": {
        "colab": {
          "base_uri": "https://localhost:8080/",
          "height": 390
        },
        "id": "gdpmOnfY8RuD",
        "outputId": "350813ac-68a9-44dd-ce48-d818e1633580"
      },
      "source": [
        "complaint_counts_activity = mv_col['name'].value_counts()\r\n",
        "complaint_counts_activity[:10].plot(kind='bar', color=\"c\")\r\n",
        "plt.title('Recursos e atividade utilizadas no e-Disiciplina', fontsize=16)\r\n",
        "plt.ylabel('utilização de recursos', fontsize=14)\r\n",
        "plt.tick_params(labelsize=14)\r\n",
        "plt.show()"
      ],
      "execution_count": 127,
      "outputs": [
        {
          "output_type": "display_data",
          "data": {
            "image/png": "[encoded data removed]",
            "text/plain": [
              "<Figure size 432x288 with 1 Axes>"
            ]
          },
          "metadata": {
            "tags": [],
            "needs_background": "light"
          }
        }
      ]
    },
    {
      "cell_type": "markdown",
      "metadata": {
        "id": "FLvLV9h3zeK-"
      },
      "source": [
        "# **Distribuição de N por ano.**"
      ]
    },
    {
      "cell_type": "code",
      "metadata": {
        "colab": {
          "base_uri": "https://localhost:8080/",
          "height": 509
        },
        "id": "zt8y8ADvFm-H",
        "outputId": "7401c421-7566-4654-f349-689df911096f"
      },
      "source": [
        "total_de_N = dados.groupby(['ano'])['N'].sum()\r\n",
        "print(total_de_N)\r\n",
        "total_de_N.plot(kind='bar', color=\"c\")\r\n",
        "plt.title('Uso de atividades e recursos por ano', fontsize=16)\r\n",
        "plt.ylabel('Alunos inscritos no Moodle', fontsize=12)\r\n",
        "plt.tick_params(labelsize=12)\r\n",
        "plt.show()"
      ],
      "execution_count": 128,
      "outputs": [
        {
          "output_type": "stream",
          "text": [
            "ano\n",
            "2012     25701\n",
            "2013     35169\n",
            "2014     62005\n",
            "2015     82981\n",
            "2016    119812\n",
            "2017    145779\n",
            "2018    173293\n",
            "2019    209571\n",
            "2020    413182\n",
            "Name: N, dtype: int64\n"
          ],
          "name": "stdout"
        },
        {
          "output_type": "display_data",
          "data": {
            "image/png": "[encoded data removed]",
            "text/plain": [
              "<Figure size 432x288 with 1 Axes>"
            ]
          },
          "metadata": {
            "tags": [],
            "needs_background": "light"
          }
        }
      ]
    },
    {
      "cell_type": "markdown",
      "metadata": {
        "id": "a47yztp817-e"
      },
      "source": [
        "# **Quantos views por ambiente em média?**"
      ]
    },
    {
      "cell_type": "code",
      "metadata": {
        "colab": {
          "base_uri": "https://localhost:8080/"
        },
        "id": "GWnrkwmG14a5",
        "outputId": "106901a5-d1a9-4ecb-8366-41ebe28cc246"
      },
      "source": [
        "media_views_ambiente = mv_col['views'].mean()\r\n",
        "print(media_views_ambiente)"
      ],
      "execution_count": 117,
      "outputs": [
        {
          "output_type": "stream",
          "text": [
            "174.58810559258657\n"
          ],
          "name": "stdout"
        }
      ]
    },
    {
      "cell_type": "markdown",
      "metadata": {
        "id": "xUegz75iIEA5"
      },
      "source": [
        "A média de visualização dos ambientes do E-Disciplina USP é de 174."
      ]
    },
    {
      "cell_type": "markdown",
      "metadata": {
        "id": "jpfDw_ahF5_u"
      },
      "source": [
        "#**Ambientes com mais cliques:**"
      ]
    },
    {
      "cell_type": "code",
      "metadata": {
        "colab": {
          "base_uri": "https://localhost:8080/",
          "height": 356
        },
        "id": "jLKvFUi1KblS",
        "outputId": "ea41d5af-cf60-4ac4-abd0-cd9e43dcc8d0"
      },
      "source": [
        "mv_col.nlargest(10, 'views')"
      ],
      "execution_count": 129,
      "outputs": [
        {
          "output_type": "execute_result",
          "data": {
            "text/html": [
              "<div>\n",
              "<style scoped>\n",
              "    .dataframe tbody tr th:only-of-type {\n",
              "        vertical-align: middle;\n",
              "    }\n",
              "\n",
              "    .dataframe tbody tr th {\n",
              "        vertical-align: top;\n",
              "    }\n",
              "\n",
              "    .dataframe thead th {\n",
              "        text-align: right;\n",
              "    }\n",
              "</style>\n",
              "<table border=\"1\" class=\"dataframe\">\n",
              "  <thead>\n",
              "    <tr style=\"text-align: right;\">\n",
              "      <th></th>\n",
              "      <th>course</th>\n",
              "      <th>name</th>\n",
              "      <th>cmid</th>\n",
              "      <th>views</th>\n",
              "      <th>uniqusers</th>\n",
              "      <th>courseid</th>\n",
              "      <th>vpu</th>\n",
              "      <th>students</th>\n",
              "      <th>teachers</th>\n",
              "      <th>vps</th>\n",
              "      <th>fracstudents</th>\n",
              "    </tr>\n",
              "  </thead>\n",
              "  <tbody>\n",
              "    <tr>\n",
              "      <th>7442</th>\n",
              "      <td>75615</td>\n",
              "      <td>quiz</td>\n",
              "      <td>2945060</td>\n",
              "      <td>113890.0</td>\n",
              "      <td>960.0</td>\n",
              "      <td>75615.0</td>\n",
              "      <td>118.635417</td>\n",
              "      <td>990</td>\n",
              "      <td>10</td>\n",
              "      <td>115.040404</td>\n",
              "      <td>0.969697</td>\n",
              "    </tr>\n",
              "    <tr>\n",
              "      <th>7443</th>\n",
              "      <td>75615</td>\n",
              "      <td>quiz</td>\n",
              "      <td>2988486</td>\n",
              "      <td>89095.0</td>\n",
              "      <td>947.0</td>\n",
              "      <td>75615.0</td>\n",
              "      <td>94.081309</td>\n",
              "      <td>990</td>\n",
              "      <td>10</td>\n",
              "      <td>89.994949</td>\n",
              "      <td>0.956566</td>\n",
              "    </tr>\n",
              "    <tr>\n",
              "      <th>7504</th>\n",
              "      <td>81498</td>\n",
              "      <td>quiz</td>\n",
              "      <td>3210818</td>\n",
              "      <td>58769.0</td>\n",
              "      <td>781.0</td>\n",
              "      <td>81498.0</td>\n",
              "      <td>75.248399</td>\n",
              "      <td>799</td>\n",
              "      <td>10</td>\n",
              "      <td>73.553191</td>\n",
              "      <td>0.977472</td>\n",
              "    </tr>\n",
              "    <tr>\n",
              "      <th>25276</th>\n",
              "      <td>82938</td>\n",
              "      <td>glossary</td>\n",
              "      <td>3128295</td>\n",
              "      <td>52146.0</td>\n",
              "      <td>444.0</td>\n",
              "      <td>82938.0</td>\n",
              "      <td>117.445946</td>\n",
              "      <td>520</td>\n",
              "      <td>7</td>\n",
              "      <td>100.280769</td>\n",
              "      <td>0.853846</td>\n",
              "    </tr>\n",
              "    <tr>\n",
              "      <th>24485</th>\n",
              "      <td>73940</td>\n",
              "      <td>glossary</td>\n",
              "      <td>2764728</td>\n",
              "      <td>49959.0</td>\n",
              "      <td>379.0</td>\n",
              "      <td>73940.0</td>\n",
              "      <td>131.817942</td>\n",
              "      <td>438</td>\n",
              "      <td>7</td>\n",
              "      <td>114.061644</td>\n",
              "      <td>0.865297</td>\n",
              "    </tr>\n",
              "    <tr>\n",
              "      <th>7328</th>\n",
              "      <td>74696</td>\n",
              "      <td>quiz</td>\n",
              "      <td>2782155</td>\n",
              "      <td>48770.0</td>\n",
              "      <td>730.0</td>\n",
              "      <td>74696.0</td>\n",
              "      <td>66.808219</td>\n",
              "      <td>778</td>\n",
              "      <td>22</td>\n",
              "      <td>62.686375</td>\n",
              "      <td>0.938303</td>\n",
              "    </tr>\n",
              "    <tr>\n",
              "      <th>3623</th>\n",
              "      <td>73321</td>\n",
              "      <td>quiz</td>\n",
              "      <td>2747452</td>\n",
              "      <td>38652.0</td>\n",
              "      <td>591.0</td>\n",
              "      <td>73321.0</td>\n",
              "      <td>65.401015</td>\n",
              "      <td>641</td>\n",
              "      <td>15</td>\n",
              "      <td>60.299532</td>\n",
              "      <td>0.921997</td>\n",
              "    </tr>\n",
              "    <tr>\n",
              "      <th>7329</th>\n",
              "      <td>74696</td>\n",
              "      <td>quiz</td>\n",
              "      <td>2782156</td>\n",
              "      <td>36288.0</td>\n",
              "      <td>724.0</td>\n",
              "      <td>74696.0</td>\n",
              "      <td>50.121547</td>\n",
              "      <td>778</td>\n",
              "      <td>22</td>\n",
              "      <td>46.642674</td>\n",
              "      <td>0.930591</td>\n",
              "    </tr>\n",
              "    <tr>\n",
              "      <th>7528</th>\n",
              "      <td>81593</td>\n",
              "      <td>quiz</td>\n",
              "      <td>3204789</td>\n",
              "      <td>35777.0</td>\n",
              "      <td>1055.0</td>\n",
              "      <td>81593.0</td>\n",
              "      <td>33.911848</td>\n",
              "      <td>1151</td>\n",
              "      <td>11</td>\n",
              "      <td>31.083406</td>\n",
              "      <td>0.916594</td>\n",
              "    </tr>\n",
              "    <tr>\n",
              "      <th>7351</th>\n",
              "      <td>74696</td>\n",
              "      <td>quiz</td>\n",
              "      <td>2843736</td>\n",
              "      <td>35523.0</td>\n",
              "      <td>753.0</td>\n",
              "      <td>74696.0</td>\n",
              "      <td>47.175299</td>\n",
              "      <td>778</td>\n",
              "      <td>22</td>\n",
              "      <td>45.659383</td>\n",
              "      <td>0.967866</td>\n",
              "    </tr>\n",
              "  </tbody>\n",
              "</table>\n",
              "</div>"
            ],
            "text/plain": [
              "       course      name     cmid  ...  teachers         vps  fracstudents\n",
              "7442    75615      quiz  2945060  ...        10  115.040404      0.969697\n",
              "7443    75615      quiz  2988486  ...        10   89.994949      0.956566\n",
              "7504    81498      quiz  3210818  ...        10   73.553191      0.977472\n",
              "25276   82938  glossary  3128295  ...         7  100.280769      0.853846\n",
              "24485   73940  glossary  2764728  ...         7  114.061644      0.865297\n",
              "7328    74696      quiz  2782155  ...        22   62.686375      0.938303\n",
              "3623    73321      quiz  2747452  ...        15   60.299532      0.921997\n",
              "7329    74696      quiz  2782156  ...        22   46.642674      0.930591\n",
              "7528    81593      quiz  3204789  ...        11   31.083406      0.916594\n",
              "7351    74696      quiz  2843736  ...        22   45.659383      0.967866\n",
              "\n",
              "[10 rows x 11 columns]"
            ]
          },
          "metadata": {
            "tags": []
          },
          "execution_count": 129
        }
      ]
    },
    {
      "cell_type": "markdown",
      "metadata": {
        "id": "PZs5pDS1Kpee"
      },
      "source": [
        "O ambiente com mais cliques é o curso 75615."
      ]
    },
    {
      "cell_type": "markdown",
      "metadata": {
        "id": "q_kyDUGVGEst"
      },
      "source": [
        "#**Ambientes com mais inscritos:**"
      ]
    },
    {
      "cell_type": "code",
      "metadata": {
        "colab": {
          "base_uri": "https://localhost:8080/",
          "height": 662
        },
        "id": "zN7aWjwYK_-Y",
        "outputId": "892df8a1-0603-4a84-88f2-d7243372754b"
      },
      "source": [
        "mv_col.nlargest(20, 'students')"
      ],
      "execution_count": 131,
      "outputs": [
        {
          "output_type": "execute_result",
          "data": {
            "text/html": [
              "<div>\n",
              "<style scoped>\n",
              "    .dataframe tbody tr th:only-of-type {\n",
              "        vertical-align: middle;\n",
              "    }\n",
              "\n",
              "    .dataframe tbody tr th {\n",
              "        vertical-align: top;\n",
              "    }\n",
              "\n",
              "    .dataframe thead th {\n",
              "        text-align: right;\n",
              "    }\n",
              "</style>\n",
              "<table border=\"1\" class=\"dataframe\">\n",
              "  <thead>\n",
              "    <tr style=\"text-align: right;\">\n",
              "      <th></th>\n",
              "      <th>course</th>\n",
              "      <th>name</th>\n",
              "      <th>cmid</th>\n",
              "      <th>views</th>\n",
              "      <th>uniqusers</th>\n",
              "      <th>courseid</th>\n",
              "      <th>vpu</th>\n",
              "      <th>students</th>\n",
              "      <th>teachers</th>\n",
              "      <th>vps</th>\n",
              "      <th>fracstudents</th>\n",
              "    </tr>\n",
              "  </thead>\n",
              "  <tbody>\n",
              "    <tr>\n",
              "      <th>4673</th>\n",
              "      <td>77016</td>\n",
              "      <td>forum</td>\n",
              "      <td>2843033</td>\n",
              "      <td>61.0</td>\n",
              "      <td>56.0</td>\n",
              "      <td>77016.0</td>\n",
              "      <td>1.089286</td>\n",
              "      <td>4144</td>\n",
              "      <td>4</td>\n",
              "      <td>0.014720</td>\n",
              "      <td>0.013514</td>\n",
              "    </tr>\n",
              "    <tr>\n",
              "      <th>4674</th>\n",
              "      <td>77016</td>\n",
              "      <td>label</td>\n",
              "      <td>2843034</td>\n",
              "      <td>0.0</td>\n",
              "      <td>0.0</td>\n",
              "      <td>0.0</td>\n",
              "      <td>0.000000</td>\n",
              "      <td>4144</td>\n",
              "      <td>4</td>\n",
              "      <td>0.000000</td>\n",
              "      <td>0.000000</td>\n",
              "    </tr>\n",
              "    <tr>\n",
              "      <th>4675</th>\n",
              "      <td>77016</td>\n",
              "      <td>glossary</td>\n",
              "      <td>3004714</td>\n",
              "      <td>5.0</td>\n",
              "      <td>5.0</td>\n",
              "      <td>77016.0</td>\n",
              "      <td>1.000000</td>\n",
              "      <td>4144</td>\n",
              "      <td>4</td>\n",
              "      <td>0.001207</td>\n",
              "      <td>0.001207</td>\n",
              "    </tr>\n",
              "    <tr>\n",
              "      <th>4676</th>\n",
              "      <td>77016</td>\n",
              "      <td>folder</td>\n",
              "      <td>3005159</td>\n",
              "      <td>1.0</td>\n",
              "      <td>1.0</td>\n",
              "      <td>77016.0</td>\n",
              "      <td>1.000000</td>\n",
              "      <td>4144</td>\n",
              "      <td>4</td>\n",
              "      <td>0.000241</td>\n",
              "      <td>0.000241</td>\n",
              "    </tr>\n",
              "    <tr>\n",
              "      <th>4677</th>\n",
              "      <td>77016</td>\n",
              "      <td>folder</td>\n",
              "      <td>3005239</td>\n",
              "      <td>0.0</td>\n",
              "      <td>0.0</td>\n",
              "      <td>0.0</td>\n",
              "      <td>0.000000</td>\n",
              "      <td>4144</td>\n",
              "      <td>4</td>\n",
              "      <td>0.000000</td>\n",
              "      <td>0.000000</td>\n",
              "    </tr>\n",
              "    <tr>\n",
              "      <th>4678</th>\n",
              "      <td>77016</td>\n",
              "      <td>folder</td>\n",
              "      <td>3005290</td>\n",
              "      <td>1.0</td>\n",
              "      <td>1.0</td>\n",
              "      <td>77016.0</td>\n",
              "      <td>1.000000</td>\n",
              "      <td>4144</td>\n",
              "      <td>4</td>\n",
              "      <td>0.000241</td>\n",
              "      <td>0.000241</td>\n",
              "    </tr>\n",
              "    <tr>\n",
              "      <th>4679</th>\n",
              "      <td>77016</td>\n",
              "      <td>folder</td>\n",
              "      <td>3005291</td>\n",
              "      <td>0.0</td>\n",
              "      <td>0.0</td>\n",
              "      <td>0.0</td>\n",
              "      <td>0.000000</td>\n",
              "      <td>4144</td>\n",
              "      <td>4</td>\n",
              "      <td>0.000000</td>\n",
              "      <td>0.000000</td>\n",
              "    </tr>\n",
              "    <tr>\n",
              "      <th>4680</th>\n",
              "      <td>77016</td>\n",
              "      <td>folder</td>\n",
              "      <td>3005297</td>\n",
              "      <td>1.0</td>\n",
              "      <td>1.0</td>\n",
              "      <td>77016.0</td>\n",
              "      <td>1.000000</td>\n",
              "      <td>4144</td>\n",
              "      <td>4</td>\n",
              "      <td>0.000241</td>\n",
              "      <td>0.000241</td>\n",
              "    </tr>\n",
              "    <tr>\n",
              "      <th>4681</th>\n",
              "      <td>77016</td>\n",
              "      <td>folder</td>\n",
              "      <td>3005300</td>\n",
              "      <td>0.0</td>\n",
              "      <td>0.0</td>\n",
              "      <td>0.0</td>\n",
              "      <td>0.000000</td>\n",
              "      <td>4144</td>\n",
              "      <td>4</td>\n",
              "      <td>0.000000</td>\n",
              "      <td>0.000000</td>\n",
              "    </tr>\n",
              "    <tr>\n",
              "      <th>4682</th>\n",
              "      <td>77016</td>\n",
              "      <td>folder</td>\n",
              "      <td>3005304</td>\n",
              "      <td>0.0</td>\n",
              "      <td>0.0</td>\n",
              "      <td>0.0</td>\n",
              "      <td>0.000000</td>\n",
              "      <td>4144</td>\n",
              "      <td>4</td>\n",
              "      <td>0.000000</td>\n",
              "      <td>0.000000</td>\n",
              "    </tr>\n",
              "    <tr>\n",
              "      <th>4683</th>\n",
              "      <td>77016</td>\n",
              "      <td>folder</td>\n",
              "      <td>3005430</td>\n",
              "      <td>0.0</td>\n",
              "      <td>0.0</td>\n",
              "      <td>0.0</td>\n",
              "      <td>0.000000</td>\n",
              "      <td>4144</td>\n",
              "      <td>4</td>\n",
              "      <td>0.000000</td>\n",
              "      <td>0.000000</td>\n",
              "    </tr>\n",
              "    <tr>\n",
              "      <th>4684</th>\n",
              "      <td>77016</td>\n",
              "      <td>folder</td>\n",
              "      <td>3005433</td>\n",
              "      <td>0.0</td>\n",
              "      <td>0.0</td>\n",
              "      <td>0.0</td>\n",
              "      <td>0.000000</td>\n",
              "      <td>4144</td>\n",
              "      <td>4</td>\n",
              "      <td>0.000000</td>\n",
              "      <td>0.000000</td>\n",
              "    </tr>\n",
              "    <tr>\n",
              "      <th>4685</th>\n",
              "      <td>77016</td>\n",
              "      <td>folder</td>\n",
              "      <td>3005434</td>\n",
              "      <td>0.0</td>\n",
              "      <td>0.0</td>\n",
              "      <td>0.0</td>\n",
              "      <td>0.000000</td>\n",
              "      <td>4144</td>\n",
              "      <td>4</td>\n",
              "      <td>0.000000</td>\n",
              "      <td>0.000000</td>\n",
              "    </tr>\n",
              "    <tr>\n",
              "      <th>4686</th>\n",
              "      <td>77016</td>\n",
              "      <td>folder</td>\n",
              "      <td>3005445</td>\n",
              "      <td>0.0</td>\n",
              "      <td>0.0</td>\n",
              "      <td>0.0</td>\n",
              "      <td>0.000000</td>\n",
              "      <td>4144</td>\n",
              "      <td>4</td>\n",
              "      <td>0.000000</td>\n",
              "      <td>0.000000</td>\n",
              "    </tr>\n",
              "    <tr>\n",
              "      <th>4687</th>\n",
              "      <td>77016</td>\n",
              "      <td>folder</td>\n",
              "      <td>3005448</td>\n",
              "      <td>0.0</td>\n",
              "      <td>0.0</td>\n",
              "      <td>0.0</td>\n",
              "      <td>0.000000</td>\n",
              "      <td>4144</td>\n",
              "      <td>4</td>\n",
              "      <td>0.000000</td>\n",
              "      <td>0.000000</td>\n",
              "    </tr>\n",
              "    <tr>\n",
              "      <th>4688</th>\n",
              "      <td>77016</td>\n",
              "      <td>folder</td>\n",
              "      <td>3005451</td>\n",
              "      <td>0.0</td>\n",
              "      <td>0.0</td>\n",
              "      <td>0.0</td>\n",
              "      <td>0.000000</td>\n",
              "      <td>4144</td>\n",
              "      <td>4</td>\n",
              "      <td>0.000000</td>\n",
              "      <td>0.000000</td>\n",
              "    </tr>\n",
              "    <tr>\n",
              "      <th>4689</th>\n",
              "      <td>77016</td>\n",
              "      <td>folder</td>\n",
              "      <td>3005454</td>\n",
              "      <td>0.0</td>\n",
              "      <td>0.0</td>\n",
              "      <td>0.0</td>\n",
              "      <td>0.000000</td>\n",
              "      <td>4144</td>\n",
              "      <td>4</td>\n",
              "      <td>0.000000</td>\n",
              "      <td>0.000000</td>\n",
              "    </tr>\n",
              "    <tr>\n",
              "      <th>4690</th>\n",
              "      <td>77016</td>\n",
              "      <td>glossary</td>\n",
              "      <td>3005465</td>\n",
              "      <td>2.0</td>\n",
              "      <td>1.0</td>\n",
              "      <td>77016.0</td>\n",
              "      <td>2.000000</td>\n",
              "      <td>4144</td>\n",
              "      <td>4</td>\n",
              "      <td>0.000483</td>\n",
              "      <td>0.000241</td>\n",
              "    </tr>\n",
              "    <tr>\n",
              "      <th>4691</th>\n",
              "      <td>77016</td>\n",
              "      <td>folder</td>\n",
              "      <td>3006353</td>\n",
              "      <td>1.0</td>\n",
              "      <td>1.0</td>\n",
              "      <td>77016.0</td>\n",
              "      <td>1.000000</td>\n",
              "      <td>4144</td>\n",
              "      <td>4</td>\n",
              "      <td>0.000241</td>\n",
              "      <td>0.000241</td>\n",
              "    </tr>\n",
              "    <tr>\n",
              "      <th>4692</th>\n",
              "      <td>77016</td>\n",
              "      <td>folder</td>\n",
              "      <td>3006354</td>\n",
              "      <td>0.0</td>\n",
              "      <td>0.0</td>\n",
              "      <td>0.0</td>\n",
              "      <td>0.000000</td>\n",
              "      <td>4144</td>\n",
              "      <td>4</td>\n",
              "      <td>0.000000</td>\n",
              "      <td>0.000000</td>\n",
              "    </tr>\n",
              "  </tbody>\n",
              "</table>\n",
              "</div>"
            ],
            "text/plain": [
              "      course      name     cmid  ...  teachers       vps  fracstudents\n",
              "4673   77016     forum  2843033  ...         4  0.014720      0.013514\n",
              "4674   77016     label  2843034  ...         4  0.000000      0.000000\n",
              "4675   77016  glossary  3004714  ...         4  0.001207      0.001207\n",
              "4676   77016    folder  3005159  ...         4  0.000241      0.000241\n",
              "4677   77016    folder  3005239  ...         4  0.000000      0.000000\n",
              "4678   77016    folder  3005290  ...         4  0.000241      0.000241\n",
              "4679   77016    folder  3005291  ...         4  0.000000      0.000000\n",
              "4680   77016    folder  3005297  ...         4  0.000241      0.000241\n",
              "4681   77016    folder  3005300  ...         4  0.000000      0.000000\n",
              "4682   77016    folder  3005304  ...         4  0.000000      0.000000\n",
              "4683   77016    folder  3005430  ...         4  0.000000      0.000000\n",
              "4684   77016    folder  3005433  ...         4  0.000000      0.000000\n",
              "4685   77016    folder  3005434  ...         4  0.000000      0.000000\n",
              "4686   77016    folder  3005445  ...         4  0.000000      0.000000\n",
              "4687   77016    folder  3005448  ...         4  0.000000      0.000000\n",
              "4688   77016    folder  3005451  ...         4  0.000000      0.000000\n",
              "4689   77016    folder  3005454  ...         4  0.000000      0.000000\n",
              "4690   77016  glossary  3005465  ...         4  0.000483      0.000241\n",
              "4691   77016    folder  3006353  ...         4  0.000241      0.000241\n",
              "4692   77016    folder  3006354  ...         4  0.000000      0.000000\n",
              "\n",
              "[20 rows x 11 columns]"
            ]
          },
          "metadata": {
            "tags": []
          },
          "execution_count": 131
        }
      ]
    },
    {
      "cell_type": "markdown",
      "metadata": {
        "id": "ztAyE8-9Lttt"
      },
      "source": [
        "#**E os arqeuivos de matrículas?**"
      ]
    },
    {
      "cell_type": "code",
      "metadata": {
        "colab": {
          "base_uri": "https://localhost:8080/",
          "height": 202
        },
        "id": "YGvk-xJTLyvb",
        "outputId": "51d39b9c-9254-47e3-cf15-82140cadd15e"
      },
      "source": [
        "matri2020 = pd.read_csv('matrgr2020.csv')\r\n",
        "matri2020.head(5)"
      ],
      "execution_count": 132,
      "outputs": [
        {
          "output_type": "execute_result",
          "data": {
            "text/html": [
              "<div>\n",
              "<style scoped>\n",
              "    .dataframe tbody tr th:only-of-type {\n",
              "        vertical-align: middle;\n",
              "    }\n",
              "\n",
              "    .dataframe tbody tr th {\n",
              "        vertical-align: top;\n",
              "    }\n",
              "\n",
              "    .dataframe thead th {\n",
              "        text-align: right;\n",
              "    }\n",
              "</style>\n",
              "<table border=\"1\" class=\"dataframe\">\n",
              "  <thead>\n",
              "    <tr style=\"text-align: right;\">\n",
              "      <th></th>\n",
              "      <th>coddis\\tcodtur\\tmatr</th>\n",
              "    </tr>\n",
              "  </thead>\n",
              "  <tbody>\n",
              "    <tr>\n",
              "      <th>0</th>\n",
              "      <td>0060006\\t2020101\\t40</td>\n",
              "    </tr>\n",
              "    <tr>\n",
              "      <th>1</th>\n",
              "      <td>0060007\\t2020201\\t35</td>\n",
              "    </tr>\n",
              "    <tr>\n",
              "      <th>2</th>\n",
              "      <td>0060008\\t2020101\\t22</td>\n",
              "    </tr>\n",
              "    <tr>\n",
              "      <th>3</th>\n",
              "      <td>0060009\\t2020201\\t26</td>\n",
              "    </tr>\n",
              "    <tr>\n",
              "      <th>4</th>\n",
              "      <td>0060010\\t2020101\\t24</td>\n",
              "    </tr>\n",
              "  </tbody>\n",
              "</table>\n",
              "</div>"
            ],
            "text/plain": [
              "   coddis\\tcodtur\\tmatr\n",
              "0  0060006\\t2020101\\t40\n",
              "1  0060007\\t2020201\\t35\n",
              "2  0060008\\t2020101\\t22\n",
              "3  0060009\\t2020201\\t26\n",
              "4  0060010\\t2020101\\t24"
            ]
          },
          "metadata": {
            "tags": []
          },
          "execution_count": 132
        }
      ]
    }
  ]
}