{
 "cells": [
  {
   "cell_type": "markdown",
   "id": "vital-snowboard",
   "metadata": {},
   "source": [
    "# **Análise de engajamento dos alunos.**\n",
    "**Este notebook tem como objetivo demonstrar a quantidade de cliques em cada função da disicplina 4300459.**"
   ]
  },
  {
   "cell_type": "code",
   "execution_count": 180,
   "id": "alien-tragedy",
   "metadata": {},
   "outputs": [],
   "source": [
    "import numpy as np\n",
    "import pandas as pd\n",
    "import matplotlib.pyplot as plt\n",
    "import seaborn as sns\n",
    "import plotly.offline as py\n",
    "import plotly.graph_objs as go  \n",
    "import scipy.stats as stats\n",
    "from sklearn.linear_model import LinearRegression\n",
    "import datetime"
   ]
  },
  {
   "cell_type": "code",
   "execution_count": 181,
   "id": "fatal-veteran",
   "metadata": {},
   "outputs": [
    {
     "data": {
      "text/html": [
       "<div>\n",
       "<style scoped>\n",
       "    .dataframe tbody tr th:only-of-type {\n",
       "        vertical-align: middle;\n",
       "    }\n",
       "\n",
       "    .dataframe tbody tr th {\n",
       "        vertical-align: top;\n",
       "    }\n",
       "\n",
       "    .dataframe thead th {\n",
       "        text-align: right;\n",
       "    }\n",
       "</style>\n",
       "<table border=\"1\" class=\"dataframe\">\n",
       "  <thead>\n",
       "    <tr style=\"text-align: right;\">\n",
       "      <th></th>\n",
       "      <th>userid</th>\n",
       "      <th>nota</th>\n",
       "    </tr>\n",
       "  </thead>\n",
       "  <tbody>\n",
       "  </tbody>\n",
       "</table>\n",
       "</div>"
      ],
      "text/plain": [
       "Empty DataFrame\n",
       "Columns: [userid, nota]\n",
       "Index: []"
      ]
     },
     "execution_count": 181,
     "metadata": {},
     "output_type": "execute_result"
    }
   ],
   "source": [
    "notas = pd.read_table('data/nonpublic/grades-4300459-2020.csv', sep=',')\n",
    "notas.sample(0)"
   ]
  },
  {
   "cell_type": "code",
   "execution_count": 182,
   "id": "comparable-reform",
   "metadata": {},
   "outputs": [
    {
     "data": {
      "text/html": [
       "<div>\n",
       "<style scoped>\n",
       "    .dataframe tbody tr th:only-of-type {\n",
       "        vertical-align: middle;\n",
       "    }\n",
       "\n",
       "    .dataframe tbody tr th {\n",
       "        vertical-align: top;\n",
       "    }\n",
       "\n",
       "    .dataframe thead th {\n",
       "        text-align: right;\n",
       "    }\n",
       "</style>\n",
       "<table border=\"1\" class=\"dataframe\">\n",
       "  <thead>\n",
       "    <tr style=\"text-align: right;\">\n",
       "      <th></th>\n",
       "      <th>id</th>\n",
       "      <th>eventname</th>\n",
       "      <th>component</th>\n",
       "      <th>action</th>\n",
       "      <th>target</th>\n",
       "      <th>objecttable</th>\n",
       "      <th>objectid</th>\n",
       "      <th>crud</th>\n",
       "      <th>edulevel</th>\n",
       "      <th>contextid</th>\n",
       "      <th>...</th>\n",
       "      <th>contextinstanceid</th>\n",
       "      <th>userid</th>\n",
       "      <th>courseid</th>\n",
       "      <th>relateduserid</th>\n",
       "      <th>anonymous</th>\n",
       "      <th>other</th>\n",
       "      <th>timecreated</th>\n",
       "      <th>origin</th>\n",
       "      <th>ip</th>\n",
       "      <th>realuserid</th>\n",
       "    </tr>\n",
       "  </thead>\n",
       "  <tbody>\n",
       "  </tbody>\n",
       "</table>\n",
       "<p>0 rows × 21 columns</p>\n",
       "</div>"
      ],
      "text/plain": [
       "Empty DataFrame\n",
       "Columns: [id, eventname, component, action, target, objecttable, objectid, crud, edulevel, contextid, contextlevel, contextinstanceid, userid, courseid, relateduserid, anonymous, other, timecreated, origin, ip, realuserid]\n",
       "Index: []\n",
       "\n",
       "[0 rows x 21 columns]"
      ]
     },
     "execution_count": 182,
     "metadata": {},
     "output_type": "execute_result"
    }
   ],
   "source": [
    "tabela = pd.read_table('data/nonpublic/logs-4300459-2021.csv', sep=',')\n",
    "tabela.sample(0)"
   ]
  },
  {
   "cell_type": "code",
   "execution_count": 183,
   "id": "direct-pacific",
   "metadata": {},
   "outputs": [],
   "source": [
    "N=10000\n",
    "alunos = tabela.query(\"userid != 2 & userid != -1 & userid !=6\")"
   ]
  },
  {
   "cell_type": "markdown",
   "id": "secondary-asthma",
   "metadata": {},
   "source": [
    "**Alunos que mais submeteram o quiz.**"
   ]
  },
  {
   "cell_type": "code",
   "execution_count": 184,
   "id": "architectural-individual",
   "metadata": {},
   "outputs": [
    {
     "data": {
      "text/plain": [
       "userid\n",
       "1170    2\n",
       "2471    1\n",
       "3021    4\n",
       "3596    6\n",
       "4928    2\n",
       "Name: id, dtype: int64"
      ]
     },
     "execution_count": 184,
     "metadata": {},
     "output_type": "execute_result"
    }
   ],
   "source": [
    "quiz = alunos.query(\"component == 'mod_quiz'\")\n",
    "quiz_envios = quiz.query(\"action == 'submitted'\")\n",
    "quiz_envios_por_userid = quiz_envios.groupby('userid')['id'].count()\n",
    "quiz_envios_por_userid[:5]"
   ]
  },
  {
   "cell_type": "code",
   "execution_count": 185,
   "id": "silent-treasure",
   "metadata": {},
   "outputs": [
    {
     "data": {
      "text/plain": [
       "<AxesSubplot:xlabel='count', ylabel='userid'>"
      ]
     },
     "execution_count": 185,
     "metadata": {},
     "output_type": "execute_result"
    },
    {
     "data": {
      "image/png": "[encoded data removed]",
      "text/plain": [
       "<Figure size 432x576 with 1 Axes>"
      ]
     },
     "metadata": {
      "needs_background": "light"
     },
     "output_type": "display_data"
    }
   ],
   "source": [
    "quizes = plt.subplots(figsize=(6, 8))\n",
    "sns.countplot(y=\"userid\", data=quiz_envios, color=\"g\")"
   ]
  },
  {
   "cell_type": "markdown",
   "id": "unknown-relaxation",
   "metadata": {},
   "source": [
    "**Alunos que mais mandaram mensagens no chat.**"
   ]
  },
  {
   "cell_type": "code",
   "execution_count": 186,
   "id": "sporting-picnic",
   "metadata": {},
   "outputs": [
    {
     "data": {
      "text/plain": [
       "viewed      3142\n",
       "created      418\n",
       "uploaded     371\n",
       "deleted       60\n",
       "updated       40\n",
       "Name: action, dtype: int64"
      ]
     },
     "execution_count": 186,
     "metadata": {},
     "output_type": "execute_result"
    }
   ],
   "source": [
    "forum = alunos.query(\"component == 'mod_forum'\")\n",
    "forum['action'].value_counts()"
   ]
  },
  {
   "cell_type": "code",
   "execution_count": 187,
   "id": "played-entertainment",
   "metadata": {},
   "outputs": [
    {
     "data": {
      "text/plain": [
       "userid\n",
       "1170      5\n",
       "3021      7\n",
       "3596      6\n",
       "5754     13\n",
       "12720     2\n",
       "Name: id, dtype: int64"
      ]
     },
     "execution_count": 187,
     "metadata": {},
     "output_type": "execute_result"
    }
   ],
   "source": [
    "forum_envios = forum.query(\"action == 'created'\")\n",
    "forum_envios_por_userid = forum_envios.groupby('userid')['id'].count()\n",
    "forum_envios_por_userid[:5]"
   ]
  },
  {
   "cell_type": "code",
   "execution_count": 188,
   "id": "rotary-grave",
   "metadata": {},
   "outputs": [
    {
     "data": {
      "text/plain": [
       "<AxesSubplot:xlabel='count', ylabel='userid'>"
      ]
     },
     "execution_count": 188,
     "metadata": {},
     "output_type": "execute_result"
    },
    {
     "data": {
      "image/png": "[encoded data removed]",
      "text/plain": [
       "<Figure size 432x576 with 1 Axes>"
      ]
     },
     "metadata": {
      "needs_background": "light"
     },
     "output_type": "display_data"
    }
   ],
   "source": [
    "msgforum = plt.subplots(figsize=(6, 8))\n",
    "sns.countplot(y=\"userid\", data=forum_envios, color=\"g\")"
   ]
  },
  {
   "cell_type": "code",
   "execution_count": 189,
   "id": "amber-catalyst",
   "metadata": {},
   "outputs": [
    {
     "data": {
      "text/plain": [
       "viewed       2495\n",
       "submitted     135\n",
       "accepted       39\n",
       "updated         1\n",
       "Name: action, dtype: int64"
      ]
     },
     "execution_count": 189,
     "metadata": {},
     "output_type": "execute_result"
    }
   ],
   "source": [
    "assign = alunos.query(\"component == 'mod_assign'\")\n",
    "assign['action'].value_counts()"
   ]
  },
  {
   "cell_type": "code",
   "execution_count": 190,
   "id": "furnished-hamburg",
   "metadata": {},
   "outputs": [
    {
     "data": {
      "text/plain": [
       "userid\n",
       "3021     29\n",
       "3596     29\n",
       "5754     19\n",
       "12720     4\n",
       "19404    87\n",
       "Name: id, dtype: int64"
      ]
     },
     "execution_count": 190,
     "metadata": {},
     "output_type": "execute_result"
    }
   ],
   "source": [
    "assign_visual = assign.query(\"action == 'viewed'\")\n",
    "assign_visual_por_userid = assign_visual.groupby('userid')['id'].count()\n",
    "assign_visual_por_userid[:5]"
   ]
  },
  {
   "cell_type": "code",
   "execution_count": 191,
   "id": "latter-reggae",
   "metadata": {},
   "outputs": [
    {
     "data": {
      "text/plain": [
       "<AxesSubplot:xlabel='count', ylabel='userid'>"
      ]
     },
     "execution_count": 191,
     "metadata": {},
     "output_type": "execute_result"
    },
    {
     "data": {
      "image/png": "[encoded data removed]",
      "text/plain": [
       "<Figure size 432x576 with 1 Axes>"
      ]
     },
     "metadata": {
      "needs_background": "light"
     },
     "output_type": "display_data"
    }
   ],
   "source": [
    "assign_viewed = plt.subplots(figsize=(6, 8))\n",
    "sns.countplot(y=\"userid\", data=assign_visual, color=\"g\")"
   ]
  },
  {
   "cell_type": "code",
   "execution_count": 192,
   "id": "large-judge",
   "metadata": {},
   "outputs": [
    {
     "data": {
      "text/plain": [
       "userid\n",
       "3021     2\n",
       "3596     1\n",
       "5754     1\n",
       "19404    4\n",
       "26189    5\n",
       "Name: id, dtype: int64"
      ]
     },
     "execution_count": 192,
     "metadata": {},
     "output_type": "execute_result"
    }
   ],
   "source": [
    "assign_submitted = assign.query(\"action == 'submitted'\")\n",
    "assign_submitted_por_userid = assign_submitted.groupby('userid')['id'].count()\n",
    "assign_submitted_por_userid[:5]"
   ]
  },
  {
   "cell_type": "code",
   "execution_count": 193,
   "id": "supported-symposium",
   "metadata": {},
   "outputs": [
    {
     "data": {
      "text/plain": [
       "<AxesSubplot:xlabel='count', ylabel='userid'>"
      ]
     },
     "execution_count": 193,
     "metadata": {},
     "output_type": "execute_result"
    },
    {
     "data": {
      "image/png": "[encoded data removed]",
      "text/plain": [
       "<Figure size 432x576 with 1 Axes>"
      ]
     },
     "metadata": {
      "needs_background": "light"
     },
     "output_type": "display_data"
    }
   ],
   "source": [
    "assign_submetido = plt.subplots(figsize=(6, 8))\n",
    "sns.countplot(y=\"userid\", data=assign_submitted, color=\"g\")"
   ]
  },
  {
   "cell_type": "code",
   "execution_count": 194,
   "id": "sitting-herald",
   "metadata": {},
   "outputs": [
    {
     "data": {
      "text/html": [
       "<div>\n",
       "<style scoped>\n",
       "    .dataframe tbody tr th:only-of-type {\n",
       "        vertical-align: middle;\n",
       "    }\n",
       "\n",
       "    .dataframe tbody tr th {\n",
       "        vertical-align: top;\n",
       "    }\n",
       "\n",
       "    .dataframe thead th {\n",
       "        text-align: right;\n",
       "    }\n",
       "</style>\n",
       "<table border=\"1\" class=\"dataframe\">\n",
       "  <thead>\n",
       "    <tr style=\"text-align: right;\">\n",
       "      <th></th>\n",
       "      <th>Fez_quiz</th>\n",
       "      <th>Enviou_forum</th>\n",
       "      <th>Viu_tarefa</th>\n",
       "      <th>Enviou_tarefa</th>\n",
       "    </tr>\n",
       "    <tr>\n",
       "      <th>userid</th>\n",
       "      <th></th>\n",
       "      <th></th>\n",
       "      <th></th>\n",
       "      <th></th>\n",
       "    </tr>\n",
       "  </thead>\n",
       "  <tbody>\n",
       "    <tr>\n",
       "      <th>1170</th>\n",
       "      <td>2.0</td>\n",
       "      <td>5.0</td>\n",
       "      <td>0.0</td>\n",
       "      <td>0.0</td>\n",
       "    </tr>\n",
       "    <tr>\n",
       "      <th>2471</th>\n",
       "      <td>1.0</td>\n",
       "      <td>0.0</td>\n",
       "      <td>0.0</td>\n",
       "      <td>0.0</td>\n",
       "    </tr>\n",
       "    <tr>\n",
       "      <th>3021</th>\n",
       "      <td>4.0</td>\n",
       "      <td>7.0</td>\n",
       "      <td>29.0</td>\n",
       "      <td>2.0</td>\n",
       "    </tr>\n",
       "    <tr>\n",
       "      <th>3596</th>\n",
       "      <td>6.0</td>\n",
       "      <td>6.0</td>\n",
       "      <td>29.0</td>\n",
       "      <td>1.0</td>\n",
       "    </tr>\n",
       "    <tr>\n",
       "      <th>4928</th>\n",
       "      <td>2.0</td>\n",
       "      <td>0.0</td>\n",
       "      <td>0.0</td>\n",
       "      <td>0.0</td>\n",
       "    </tr>\n",
       "  </tbody>\n",
       "</table>\n",
       "</div>"
      ],
      "text/plain": [
       "        Fez_quiz  Enviou_forum  Viu_tarefa  Enviou_tarefa\n",
       "userid                                                   \n",
       "1170         2.0           5.0         0.0            0.0\n",
       "2471         1.0           0.0         0.0            0.0\n",
       "3021         4.0           7.0        29.0            2.0\n",
       "3596         6.0           6.0        29.0            1.0\n",
       "4928         2.0           0.0         0.0            0.0"
      ]
     },
     "execution_count": 194,
     "metadata": {},
     "output_type": "execute_result"
    }
   ],
   "source": [
    "indicadores = pd.concat([quiz_envios_por_userid,forum_envios_por_userid,assign_visual_por_userid,assign_submitted_por_userid],axis = 1)\n",
    "indicadores = indicadores.fillna(0)\n",
    "indicadores.columns = ['Fez_quiz','Enviou_forum','Viu_tarefa','Enviou_tarefa']\n",
    "indicadores[:5]"
   ]
  },
  {
   "cell_type": "code",
   "execution_count": 195,
   "id": "dedicated-visibility",
   "metadata": {},
   "outputs": [
    {
     "data": {
      "text/html": [
       "<div>\n",
       "<style scoped>\n",
       "    .dataframe tbody tr th:only-of-type {\n",
       "        vertical-align: middle;\n",
       "    }\n",
       "\n",
       "    .dataframe tbody tr th {\n",
       "        vertical-align: top;\n",
       "    }\n",
       "\n",
       "    .dataframe thead th {\n",
       "        text-align: right;\n",
       "    }\n",
       "</style>\n",
       "<table border=\"1\" class=\"dataframe\">\n",
       "  <thead>\n",
       "    <tr style=\"text-align: right;\">\n",
       "      <th></th>\n",
       "      <th>Fez_quiz</th>\n",
       "      <th>Enviou_forum</th>\n",
       "      <th>Viu_tarefa</th>\n",
       "      <th>Enviou_tarefa</th>\n",
       "      <th>Fez_quiz_z</th>\n",
       "      <th>Enviou_forum_z</th>\n",
       "      <th>Viu_tarefa_z</th>\n",
       "      <th>Enviou_tarefa_z</th>\n",
       "    </tr>\n",
       "    <tr>\n",
       "      <th>userid</th>\n",
       "      <th></th>\n",
       "      <th></th>\n",
       "      <th></th>\n",
       "      <th></th>\n",
       "      <th></th>\n",
       "      <th></th>\n",
       "      <th></th>\n",
       "      <th></th>\n",
       "    </tr>\n",
       "  </thead>\n",
       "  <tbody>\n",
       "    <tr>\n",
       "      <th>1170</th>\n",
       "      <td>2.0</td>\n",
       "      <td>5.0</td>\n",
       "      <td>0.0</td>\n",
       "      <td>0.0</td>\n",
       "      <td>-0.847903</td>\n",
       "      <td>-0.614386</td>\n",
       "      <td>-1.357506</td>\n",
       "      <td>-1.239511</td>\n",
       "    </tr>\n",
       "    <tr>\n",
       "      <th>2471</th>\n",
       "      <td>1.0</td>\n",
       "      <td>0.0</td>\n",
       "      <td>0.0</td>\n",
       "      <td>0.0</td>\n",
       "      <td>-1.329666</td>\n",
       "      <td>-1.528651</td>\n",
       "      <td>-1.357506</td>\n",
       "      <td>-1.239511</td>\n",
       "    </tr>\n",
       "    <tr>\n",
       "      <th>3021</th>\n",
       "      <td>4.0</td>\n",
       "      <td>7.0</td>\n",
       "      <td>29.0</td>\n",
       "      <td>2.0</td>\n",
       "      <td>0.115623</td>\n",
       "      <td>-0.248680</td>\n",
       "      <td>-0.568575</td>\n",
       "      <td>-0.321355</td>\n",
       "    </tr>\n",
       "    <tr>\n",
       "      <th>3596</th>\n",
       "      <td>6.0</td>\n",
       "      <td>6.0</td>\n",
       "      <td>29.0</td>\n",
       "      <td>1.0</td>\n",
       "      <td>1.079149</td>\n",
       "      <td>-0.431533</td>\n",
       "      <td>-0.568575</td>\n",
       "      <td>-0.780433</td>\n",
       "    </tr>\n",
       "    <tr>\n",
       "      <th>4928</th>\n",
       "      <td>2.0</td>\n",
       "      <td>0.0</td>\n",
       "      <td>0.0</td>\n",
       "      <td>0.0</td>\n",
       "      <td>-0.847903</td>\n",
       "      <td>-1.528651</td>\n",
       "      <td>-1.357506</td>\n",
       "      <td>-1.239511</td>\n",
       "    </tr>\n",
       "  </tbody>\n",
       "</table>\n",
       "</div>"
      ],
      "text/plain": [
       "        Fez_quiz  Enviou_forum  Viu_tarefa  Enviou_tarefa  Fez_quiz_z  \\\n",
       "userid                                                                  \n",
       "1170         2.0           5.0         0.0            0.0   -0.847903   \n",
       "2471         1.0           0.0         0.0            0.0   -1.329666   \n",
       "3021         4.0           7.0        29.0            2.0    0.115623   \n",
       "3596         6.0           6.0        29.0            1.0    1.079149   \n",
       "4928         2.0           0.0         0.0            0.0   -0.847903   \n",
       "\n",
       "        Enviou_forum_z  Viu_tarefa_z  Enviou_tarefa_z  \n",
       "userid                                                 \n",
       "1170         -0.614386     -1.357506        -1.239511  \n",
       "2471         -1.528651     -1.357506        -1.239511  \n",
       "3021         -0.248680     -0.568575        -0.321355  \n",
       "3596         -0.431533     -0.568575        -0.780433  \n",
       "4928         -1.528651     -1.357506        -1.239511  "
      ]
     },
     "execution_count": 195,
     "metadata": {},
     "output_type": "execute_result"
    }
   ],
   "source": [
    "indicadores['Fez_quiz_z'] = stats.zscore(indicadores['Fez_quiz'],ddof=1)\n",
    "indicadores['Enviou_forum_z'] = stats.zscore(indicadores['Enviou_forum'],ddof=1)\n",
    "indicadores['Viu_tarefa_z'] = stats.zscore(indicadores['Viu_tarefa'],ddof=1)\n",
    "indicadores['Enviou_tarefa_z'] = stats.zscore(indicadores['Enviou_tarefa'],ddof=1)\n",
    "indicadores[:5]"
   ]
  },
  {
   "cell_type": "code",
   "execution_count": 196,
   "id": "junior-parallel",
   "metadata": {},
   "outputs": [
    {
     "data": {
      "text/html": [
       "<div>\n",
       "<style scoped>\n",
       "    .dataframe tbody tr th:only-of-type {\n",
       "        vertical-align: middle;\n",
       "    }\n",
       "\n",
       "    .dataframe tbody tr th {\n",
       "        vertical-align: top;\n",
       "    }\n",
       "\n",
       "    .dataframe thead th {\n",
       "        text-align: right;\n",
       "    }\n",
       "</style>\n",
       "<table border=\"1\" class=\"dataframe\">\n",
       "  <thead>\n",
       "    <tr style=\"text-align: right;\">\n",
       "      <th></th>\n",
       "      <th>Fez_quiz</th>\n",
       "      <th>Enviou_forum</th>\n",
       "      <th>Viu_tarefa</th>\n",
       "      <th>Enviou_tarefa</th>\n",
       "      <th>Fez_quiz_z</th>\n",
       "      <th>Enviou_forum_z</th>\n",
       "      <th>Viu_tarefa_z</th>\n",
       "      <th>Enviou_tarefa_z</th>\n",
       "      <th>Engajamento</th>\n",
       "    </tr>\n",
       "    <tr>\n",
       "      <th>userid</th>\n",
       "      <th></th>\n",
       "      <th></th>\n",
       "      <th></th>\n",
       "      <th></th>\n",
       "      <th></th>\n",
       "      <th></th>\n",
       "      <th></th>\n",
       "      <th></th>\n",
       "      <th></th>\n",
       "    </tr>\n",
       "  </thead>\n",
       "  <tbody>\n",
       "    <tr>\n",
       "      <th>1170</th>\n",
       "      <td>2.0</td>\n",
       "      <td>5.0</td>\n",
       "      <td>0.0</td>\n",
       "      <td>0.0</td>\n",
       "      <td>-0.847903</td>\n",
       "      <td>-0.614386</td>\n",
       "      <td>-1.357506</td>\n",
       "      <td>-1.239511</td>\n",
       "      <td>-1.014826</td>\n",
       "    </tr>\n",
       "    <tr>\n",
       "      <th>2471</th>\n",
       "      <td>1.0</td>\n",
       "      <td>0.0</td>\n",
       "      <td>0.0</td>\n",
       "      <td>0.0</td>\n",
       "      <td>-1.329666</td>\n",
       "      <td>-1.528651</td>\n",
       "      <td>-1.357506</td>\n",
       "      <td>-1.239511</td>\n",
       "      <td>-1.363833</td>\n",
       "    </tr>\n",
       "    <tr>\n",
       "      <th>3021</th>\n",
       "      <td>4.0</td>\n",
       "      <td>7.0</td>\n",
       "      <td>29.0</td>\n",
       "      <td>2.0</td>\n",
       "      <td>0.115623</td>\n",
       "      <td>-0.248680</td>\n",
       "      <td>-0.568575</td>\n",
       "      <td>-0.321355</td>\n",
       "      <td>-0.255747</td>\n",
       "    </tr>\n",
       "    <tr>\n",
       "      <th>3596</th>\n",
       "      <td>6.0</td>\n",
       "      <td>6.0</td>\n",
       "      <td>29.0</td>\n",
       "      <td>1.0</td>\n",
       "      <td>1.079149</td>\n",
       "      <td>-0.431533</td>\n",
       "      <td>-0.568575</td>\n",
       "      <td>-0.780433</td>\n",
       "      <td>-0.175348</td>\n",
       "    </tr>\n",
       "    <tr>\n",
       "      <th>4928</th>\n",
       "      <td>2.0</td>\n",
       "      <td>0.0</td>\n",
       "      <td>0.0</td>\n",
       "      <td>0.0</td>\n",
       "      <td>-0.847903</td>\n",
       "      <td>-1.528651</td>\n",
       "      <td>-1.357506</td>\n",
       "      <td>-1.239511</td>\n",
       "      <td>-1.243393</td>\n",
       "    </tr>\n",
       "  </tbody>\n",
       "</table>\n",
       "</div>"
      ],
      "text/plain": [
       "        Fez_quiz  Enviou_forum  Viu_tarefa  Enviou_tarefa  Fez_quiz_z  \\\n",
       "userid                                                                  \n",
       "1170         2.0           5.0         0.0            0.0   -0.847903   \n",
       "2471         1.0           0.0         0.0            0.0   -1.329666   \n",
       "3021         4.0           7.0        29.0            2.0    0.115623   \n",
       "3596         6.0           6.0        29.0            1.0    1.079149   \n",
       "4928         2.0           0.0         0.0            0.0   -0.847903   \n",
       "\n",
       "        Enviou_forum_z  Viu_tarefa_z  Enviou_tarefa_z  Engajamento  \n",
       "userid                                                              \n",
       "1170         -0.614386     -1.357506        -1.239511    -1.014826  \n",
       "2471         -1.528651     -1.357506        -1.239511    -1.363833  \n",
       "3021         -0.248680     -0.568575        -0.321355    -0.255747  \n",
       "3596         -0.431533     -0.568575        -0.780433    -0.175348  \n",
       "4928         -1.528651     -1.357506        -1.239511    -1.243393  "
      ]
     },
     "execution_count": 196,
     "metadata": {},
     "output_type": "execute_result"
    }
   ],
   "source": [
    "indicadores['Engajamento'] = (indicadores['Fez_quiz_z'] + \n",
    "                              indicadores['Enviou_forum_z'] + \n",
    "                              indicadores['Viu_tarefa_z'] + \n",
    "                              indicadores['Enviou_tarefa_z'])/4\n",
    "indicadores[:5]"
   ]
  },
  {
   "cell_type": "markdown",
   "id": "center-discretion",
   "metadata": {},
   "source": [
    "**Correlacionando os indicadores.**"
   ]
  },
  {
   "cell_type": "code",
   "execution_count": 197,
   "id": "eight-discretion",
   "metadata": {},
   "outputs": [
    {
     "data": {
      "text/html": [
       "<div>\n",
       "<style scoped>\n",
       "    .dataframe tbody tr th:only-of-type {\n",
       "        vertical-align: middle;\n",
       "    }\n",
       "\n",
       "    .dataframe tbody tr th {\n",
       "        vertical-align: top;\n",
       "    }\n",
       "\n",
       "    .dataframe thead th {\n",
       "        text-align: right;\n",
       "    }\n",
       "</style>\n",
       "<table border=\"1\" class=\"dataframe\">\n",
       "  <thead>\n",
       "    <tr style=\"text-align: right;\">\n",
       "      <th></th>\n",
       "      <th>Fez_quiz</th>\n",
       "      <th>Enviou_forum</th>\n",
       "      <th>Viu_tarefa</th>\n",
       "      <th>Enviou_tarefa</th>\n",
       "      <th>Fez_quiz_z</th>\n",
       "      <th>Enviou_forum_z</th>\n",
       "      <th>Viu_tarefa_z</th>\n",
       "      <th>Enviou_tarefa_z</th>\n",
       "      <th>Engajamento</th>\n",
       "    </tr>\n",
       "  </thead>\n",
       "  <tbody>\n",
       "    <tr>\n",
       "      <th>Fez_quiz</th>\n",
       "      <td>1.000000</td>\n",
       "      <td>0.595644</td>\n",
       "      <td>0.619947</td>\n",
       "      <td>0.615656</td>\n",
       "      <td>1.000000</td>\n",
       "      <td>0.595644</td>\n",
       "      <td>0.619947</td>\n",
       "      <td>0.615656</td>\n",
       "      <td>0.816310</td>\n",
       "    </tr>\n",
       "    <tr>\n",
       "      <th>Enviou_forum</th>\n",
       "      <td>0.595644</td>\n",
       "      <td>1.000000</td>\n",
       "      <td>0.708481</td>\n",
       "      <td>0.622555</td>\n",
       "      <td>0.595644</td>\n",
       "      <td>1.000000</td>\n",
       "      <td>0.708481</td>\n",
       "      <td>0.622555</td>\n",
       "      <td>0.843825</td>\n",
       "    </tr>\n",
       "    <tr>\n",
       "      <th>Viu_tarefa</th>\n",
       "      <td>0.619947</td>\n",
       "      <td>0.708481</td>\n",
       "      <td>1.000000</td>\n",
       "      <td>0.852438</td>\n",
       "      <td>0.619947</td>\n",
       "      <td>0.708481</td>\n",
       "      <td>1.000000</td>\n",
       "      <td>0.852438</td>\n",
       "      <td>0.917112</td>\n",
       "    </tr>\n",
       "    <tr>\n",
       "      <th>Enviou_tarefa</th>\n",
       "      <td>0.615656</td>\n",
       "      <td>0.622555</td>\n",
       "      <td>0.852438</td>\n",
       "      <td>1.000000</td>\n",
       "      <td>0.615656</td>\n",
       "      <td>0.622555</td>\n",
       "      <td>0.852438</td>\n",
       "      <td>1.000000</td>\n",
       "      <td>0.891101</td>\n",
       "    </tr>\n",
       "    <tr>\n",
       "      <th>Fez_quiz_z</th>\n",
       "      <td>1.000000</td>\n",
       "      <td>0.595644</td>\n",
       "      <td>0.619947</td>\n",
       "      <td>0.615656</td>\n",
       "      <td>1.000000</td>\n",
       "      <td>0.595644</td>\n",
       "      <td>0.619947</td>\n",
       "      <td>0.615656</td>\n",
       "      <td>0.816310</td>\n",
       "    </tr>\n",
       "    <tr>\n",
       "      <th>Enviou_forum_z</th>\n",
       "      <td>0.595644</td>\n",
       "      <td>1.000000</td>\n",
       "      <td>0.708481</td>\n",
       "      <td>0.622555</td>\n",
       "      <td>0.595644</td>\n",
       "      <td>1.000000</td>\n",
       "      <td>0.708481</td>\n",
       "      <td>0.622555</td>\n",
       "      <td>0.843825</td>\n",
       "    </tr>\n",
       "    <tr>\n",
       "      <th>Viu_tarefa_z</th>\n",
       "      <td>0.619947</td>\n",
       "      <td>0.708481</td>\n",
       "      <td>1.000000</td>\n",
       "      <td>0.852438</td>\n",
       "      <td>0.619947</td>\n",
       "      <td>0.708481</td>\n",
       "      <td>1.000000</td>\n",
       "      <td>0.852438</td>\n",
       "      <td>0.917112</td>\n",
       "    </tr>\n",
       "    <tr>\n",
       "      <th>Enviou_tarefa_z</th>\n",
       "      <td>0.615656</td>\n",
       "      <td>0.622555</td>\n",
       "      <td>0.852438</td>\n",
       "      <td>1.000000</td>\n",
       "      <td>0.615656</td>\n",
       "      <td>0.622555</td>\n",
       "      <td>0.852438</td>\n",
       "      <td>1.000000</td>\n",
       "      <td>0.891101</td>\n",
       "    </tr>\n",
       "    <tr>\n",
       "      <th>Engajamento</th>\n",
       "      <td>0.816310</td>\n",
       "      <td>0.843825</td>\n",
       "      <td>0.917112</td>\n",
       "      <td>0.891101</td>\n",
       "      <td>0.816310</td>\n",
       "      <td>0.843825</td>\n",
       "      <td>0.917112</td>\n",
       "      <td>0.891101</td>\n",
       "      <td>1.000000</td>\n",
       "    </tr>\n",
       "  </tbody>\n",
       "</table>\n",
       "</div>"
      ],
      "text/plain": [
       "                 Fez_quiz  Enviou_forum  Viu_tarefa  Enviou_tarefa  \\\n",
       "Fez_quiz         1.000000      0.595644    0.619947       0.615656   \n",
       "Enviou_forum     0.595644      1.000000    0.708481       0.622555   \n",
       "Viu_tarefa       0.619947      0.708481    1.000000       0.852438   \n",
       "Enviou_tarefa    0.615656      0.622555    0.852438       1.000000   \n",
       "Fez_quiz_z       1.000000      0.595644    0.619947       0.615656   \n",
       "Enviou_forum_z   0.595644      1.000000    0.708481       0.622555   \n",
       "Viu_tarefa_z     0.619947      0.708481    1.000000       0.852438   \n",
       "Enviou_tarefa_z  0.615656      0.622555    0.852438       1.000000   \n",
       "Engajamento      0.816310      0.843825    0.917112       0.891101   \n",
       "\n",
       "                 Fez_quiz_z  Enviou_forum_z  Viu_tarefa_z  Enviou_tarefa_z  \\\n",
       "Fez_quiz           1.000000        0.595644      0.619947         0.615656   \n",
       "Enviou_forum       0.595644        1.000000      0.708481         0.622555   \n",
       "Viu_tarefa         0.619947        0.708481      1.000000         0.852438   \n",
       "Enviou_tarefa      0.615656        0.622555      0.852438         1.000000   \n",
       "Fez_quiz_z         1.000000        0.595644      0.619947         0.615656   \n",
       "Enviou_forum_z     0.595644        1.000000      0.708481         0.622555   \n",
       "Viu_tarefa_z       0.619947        0.708481      1.000000         0.852438   \n",
       "Enviou_tarefa_z    0.615656        0.622555      0.852438         1.000000   \n",
       "Engajamento        0.816310        0.843825      0.917112         0.891101   \n",
       "\n",
       "                 Engajamento  \n",
       "Fez_quiz            0.816310  \n",
       "Enviou_forum        0.843825  \n",
       "Viu_tarefa          0.917112  \n",
       "Enviou_tarefa       0.891101  \n",
       "Fez_quiz_z          0.816310  \n",
       "Enviou_forum_z      0.843825  \n",
       "Viu_tarefa_z        0.917112  \n",
       "Enviou_tarefa_z     0.891101  \n",
       "Engajamento         1.000000  "
      ]
     },
     "execution_count": 197,
     "metadata": {},
     "output_type": "execute_result"
    }
   ],
   "source": [
    "indicadores.corr()"
   ]
  },
  {
   "cell_type": "markdown",
   "id": "breeding-cabin",
   "metadata": {},
   "source": [
    "**Histograma do engajamento dos alunos na disiciplina.**"
   ]
  },
  {
   "cell_type": "code",
   "execution_count": 198,
   "id": "eight-counter",
   "metadata": {},
   "outputs": [
    {
     "data": {
      "text/plain": [
       "<AxesSubplot:xlabel='Engajamento', ylabel='Count'>"
      ]
     },
     "execution_count": 198,
     "metadata": {},
     "output_type": "execute_result"
    },
    {
     "data": {
      "image/png": "[encoded data removed]",
      "text/plain": [
       "<Figure size 432x288 with 1 Axes>"
      ]
     },
     "metadata": {
      "needs_background": "light"
     },
     "output_type": "display_data"
    }
   ],
   "source": [
    "sns.histplot(data=indicadores, x=\"Engajamento\", kde=True)"
   ]
  },
  {
   "cell_type": "code",
   "execution_count": 199,
   "id": "noticed-perry",
   "metadata": {},
   "outputs": [
    {
     "data": {
      "text/html": [
       "<div>\n",
       "<style scoped>\n",
       "    .dataframe tbody tr th:only-of-type {\n",
       "        vertical-align: middle;\n",
       "    }\n",
       "\n",
       "    .dataframe tbody tr th {\n",
       "        vertical-align: top;\n",
       "    }\n",
       "\n",
       "    .dataframe thead th {\n",
       "        text-align: right;\n",
       "    }\n",
       "</style>\n",
       "<table border=\"1\" class=\"dataframe\">\n",
       "  <thead>\n",
       "    <tr style=\"text-align: right;\">\n",
       "      <th></th>\n",
       "      <th>userid</th>\n",
       "      <th>Fez_quiz</th>\n",
       "      <th>Enviou_forum</th>\n",
       "      <th>Viu_tarefa</th>\n",
       "      <th>Enviou_tarefa</th>\n",
       "      <th>Fez_quiz_z</th>\n",
       "      <th>Enviou_forum_z</th>\n",
       "      <th>Viu_tarefa_z</th>\n",
       "      <th>Enviou_tarefa_z</th>\n",
       "      <th>Engajamento</th>\n",
       "      <th>nota</th>\n",
       "    </tr>\n",
       "  </thead>\n",
       "  <tbody>\n",
       "    <tr>\n",
       "      <th>0</th>\n",
       "      <td>1170</td>\n",
       "      <td>2.0</td>\n",
       "      <td>5.0</td>\n",
       "      <td>0.0</td>\n",
       "      <td>0.0</td>\n",
       "      <td>-0.847903</td>\n",
       "      <td>-0.614386</td>\n",
       "      <td>-1.357506</td>\n",
       "      <td>-1.239511</td>\n",
       "      <td>-1.014826</td>\n",
       "      <td>0.73043</td>\n",
       "    </tr>\n",
       "    <tr>\n",
       "      <th>1</th>\n",
       "      <td>2471</td>\n",
       "      <td>1.0</td>\n",
       "      <td>0.0</td>\n",
       "      <td>0.0</td>\n",
       "      <td>0.0</td>\n",
       "      <td>-1.329666</td>\n",
       "      <td>-1.528651</td>\n",
       "      <td>-1.357506</td>\n",
       "      <td>-1.239511</td>\n",
       "      <td>-1.363833</td>\n",
       "      <td>0.26087</td>\n",
       "    </tr>\n",
       "    <tr>\n",
       "      <th>2</th>\n",
       "      <td>3021</td>\n",
       "      <td>4.0</td>\n",
       "      <td>7.0</td>\n",
       "      <td>29.0</td>\n",
       "      <td>2.0</td>\n",
       "      <td>0.115623</td>\n",
       "      <td>-0.248680</td>\n",
       "      <td>-0.568575</td>\n",
       "      <td>-0.321355</td>\n",
       "      <td>-0.255747</td>\n",
       "      <td>5.00000</td>\n",
       "    </tr>\n",
       "    <tr>\n",
       "      <th>3</th>\n",
       "      <td>3596</td>\n",
       "      <td>6.0</td>\n",
       "      <td>6.0</td>\n",
       "      <td>29.0</td>\n",
       "      <td>1.0</td>\n",
       "      <td>1.079149</td>\n",
       "      <td>-0.431533</td>\n",
       "      <td>-0.568575</td>\n",
       "      <td>-0.780433</td>\n",
       "      <td>-0.175348</td>\n",
       "      <td>5.45536</td>\n",
       "    </tr>\n",
       "    <tr>\n",
       "      <th>4</th>\n",
       "      <td>4928</td>\n",
       "      <td>2.0</td>\n",
       "      <td>0.0</td>\n",
       "      <td>0.0</td>\n",
       "      <td>0.0</td>\n",
       "      <td>-0.847903</td>\n",
       "      <td>-1.528651</td>\n",
       "      <td>-1.357506</td>\n",
       "      <td>-1.239511</td>\n",
       "      <td>-1.243393</td>\n",
       "      <td>0.41739</td>\n",
       "    </tr>\n",
       "  </tbody>\n",
       "</table>\n",
       "</div>"
      ],
      "text/plain": [
       "   userid  Fez_quiz  Enviou_forum  Viu_tarefa  Enviou_tarefa  Fez_quiz_z  \\\n",
       "0    1170       2.0           5.0         0.0            0.0   -0.847903   \n",
       "1    2471       1.0           0.0         0.0            0.0   -1.329666   \n",
       "2    3021       4.0           7.0        29.0            2.0    0.115623   \n",
       "3    3596       6.0           6.0        29.0            1.0    1.079149   \n",
       "4    4928       2.0           0.0         0.0            0.0   -0.847903   \n",
       "\n",
       "   Enviou_forum_z  Viu_tarefa_z  Enviou_tarefa_z  Engajamento     nota  \n",
       "0       -0.614386     -1.357506        -1.239511    -1.014826  0.73043  \n",
       "1       -1.528651     -1.357506        -1.239511    -1.363833  0.26087  \n",
       "2       -0.248680     -0.568575        -0.321355    -0.255747  5.00000  \n",
       "3       -0.431533     -0.568575        -0.780433    -0.175348  5.45536  \n",
       "4       -1.528651     -1.357506        -1.239511    -1.243393  0.41739  "
      ]
     },
     "execution_count": 199,
     "metadata": {},
     "output_type": "execute_result"
    }
   ],
   "source": [
    "indicadores_nota = pd.merge(indicadores, notas, how = 'inner', on = 'userid')\n",
    "indicadores_nota[:5]"
   ]
  },
  {
   "cell_type": "markdown",
   "id": "spectacular-newcastle",
   "metadata": {},
   "source": [
    "# Alunos que aprovaram e reprovaram."
   ]
  },
  {
   "cell_type": "markdown",
   "id": "hungarian-liver",
   "metadata": {},
   "source": [
    "**Alunos que aprovaram.**"
   ]
  },
  {
   "cell_type": "code",
   "execution_count": 200,
   "id": "willing-contest",
   "metadata": {},
   "outputs": [
    {
     "data": {
      "text/html": [
       "<div>\n",
       "<style scoped>\n",
       "    .dataframe tbody tr th:only-of-type {\n",
       "        vertical-align: middle;\n",
       "    }\n",
       "\n",
       "    .dataframe tbody tr th {\n",
       "        vertical-align: top;\n",
       "    }\n",
       "\n",
       "    .dataframe thead th {\n",
       "        text-align: right;\n",
       "    }\n",
       "</style>\n",
       "<table border=\"1\" class=\"dataframe\">\n",
       "  <thead>\n",
       "    <tr style=\"text-align: right;\">\n",
       "      <th></th>\n",
       "      <th>userid</th>\n",
       "      <th>Fez_quiz</th>\n",
       "      <th>Enviou_forum</th>\n",
       "      <th>Viu_tarefa</th>\n",
       "      <th>Enviou_tarefa</th>\n",
       "      <th>Fez_quiz_z</th>\n",
       "      <th>Enviou_forum_z</th>\n",
       "      <th>Viu_tarefa_z</th>\n",
       "      <th>Enviou_tarefa_z</th>\n",
       "      <th>Engajamento</th>\n",
       "      <th>nota</th>\n",
       "    </tr>\n",
       "  </thead>\n",
       "  <tbody>\n",
       "    <tr>\n",
       "      <th>2</th>\n",
       "      <td>3021</td>\n",
       "      <td>4.0</td>\n",
       "      <td>7.0</td>\n",
       "      <td>29.0</td>\n",
       "      <td>2.0</td>\n",
       "      <td>0.115623</td>\n",
       "      <td>-0.248680</td>\n",
       "      <td>-0.568575</td>\n",
       "      <td>-0.321355</td>\n",
       "      <td>-0.255747</td>\n",
       "      <td>5.00000</td>\n",
       "    </tr>\n",
       "    <tr>\n",
       "      <th>3</th>\n",
       "      <td>3596</td>\n",
       "      <td>6.0</td>\n",
       "      <td>6.0</td>\n",
       "      <td>29.0</td>\n",
       "      <td>1.0</td>\n",
       "      <td>1.079149</td>\n",
       "      <td>-0.431533</td>\n",
       "      <td>-0.568575</td>\n",
       "      <td>-0.780433</td>\n",
       "      <td>-0.175348</td>\n",
       "      <td>5.45536</td>\n",
       "    </tr>\n",
       "    <tr>\n",
       "      <th>5</th>\n",
       "      <td>5754</td>\n",
       "      <td>7.0</td>\n",
       "      <td>13.0</td>\n",
       "      <td>19.0</td>\n",
       "      <td>1.0</td>\n",
       "      <td>1.560912</td>\n",
       "      <td>0.848438</td>\n",
       "      <td>-0.840620</td>\n",
       "      <td>-0.780433</td>\n",
       "      <td>0.197074</td>\n",
       "      <td>6.07664</td>\n",
       "    </tr>\n",
       "    <tr>\n",
       "      <th>8</th>\n",
       "      <td>19404</td>\n",
       "      <td>7.0</td>\n",
       "      <td>11.0</td>\n",
       "      <td>87.0</td>\n",
       "      <td>4.0</td>\n",
       "      <td>1.560912</td>\n",
       "      <td>0.482732</td>\n",
       "      <td>1.009288</td>\n",
       "      <td>0.596802</td>\n",
       "      <td>0.912433</td>\n",
       "      <td>7.75362</td>\n",
       "    </tr>\n",
       "    <tr>\n",
       "      <th>10</th>\n",
       "      <td>26189</td>\n",
       "      <td>5.0</td>\n",
       "      <td>11.0</td>\n",
       "      <td>100.0</td>\n",
       "      <td>5.0</td>\n",
       "      <td>0.597386</td>\n",
       "      <td>0.482732</td>\n",
       "      <td>1.362947</td>\n",
       "      <td>1.055880</td>\n",
       "      <td>0.874736</td>\n",
       "      <td>8.77805</td>\n",
       "    </tr>\n",
       "  </tbody>\n",
       "</table>\n",
       "</div>"
      ],
      "text/plain": [
       "    userid  Fez_quiz  Enviou_forum  Viu_tarefa  Enviou_tarefa  Fez_quiz_z  \\\n",
       "2     3021       4.0           7.0        29.0            2.0    0.115623   \n",
       "3     3596       6.0           6.0        29.0            1.0    1.079149   \n",
       "5     5754       7.0          13.0        19.0            1.0    1.560912   \n",
       "8    19404       7.0          11.0        87.0            4.0    1.560912   \n",
       "10   26189       5.0          11.0       100.0            5.0    0.597386   \n",
       "\n",
       "    Enviou_forum_z  Viu_tarefa_z  Enviou_tarefa_z  Engajamento     nota  \n",
       "2        -0.248680     -0.568575        -0.321355    -0.255747  5.00000  \n",
       "3        -0.431533     -0.568575        -0.780433    -0.175348  5.45536  \n",
       "5         0.848438     -0.840620        -0.780433     0.197074  6.07664  \n",
       "8         0.482732      1.009288         0.596802     0.912433  7.75362  \n",
       "10        0.482732      1.362947         1.055880     0.874736  8.77805  "
      ]
     },
     "execution_count": 200,
     "metadata": {},
     "output_type": "execute_result"
    }
   ],
   "source": [
    "aprovados = indicadores_nota.query(\"nota >= 5\")\n",
    "aprovados[:5]"
   ]
  },
  {
   "cell_type": "code",
   "execution_count": 201,
   "id": "olympic-loading",
   "metadata": {
    "collapsed": true,
    "jupyter": {
     "outputs_hidden": true
    }
   },
   "outputs": [
    {
     "data": {
      "text/plain": [
       "Text(0, 0.5, 'Nota')"
      ]
     },
     "execution_count": 201,
     "metadata": {},
     "output_type": "execute_result"
    },
    {
     "data": {
      "image/png": "[encoded data removed]",
      "text/plain": [
       "<Figure size 576x432 with 1 Axes>"
      ]
     },
     "metadata": {
      "needs_background": "light"
     },
     "output_type": "display_data"
    }
   ],
   "source": [
    "x = aprovados['Fez_quiz']\n",
    "y = aprovados['nota']\n",
    "plt.figure(figsize=(8, 6))\n",
    "plt.scatter(x, y)\n",
    "plt.title('Quantidade de quizes feitos em relação a nota final')\n",
    "plt.xlabel('Fez_quiz')\n",
    "plt.ylabel('Nota')"
   ]
  },
  {
   "cell_type": "code",
   "execution_count": 202,
   "id": "included-supervisor",
   "metadata": {
    "collapsed": true,
    "jupyter": {
     "outputs_hidden": true,
     "source_hidden": true
    }
   },
   "outputs": [
    {
     "data": {
      "text/plain": [
       "Text(0, 0.5, 'Nota')"
      ]
     },
     "execution_count": 202,
     "metadata": {},
     "output_type": "execute_result"
    },
    {
     "data": {
      "image/png": "[encoded data removed]",
      "text/plain": [
       "<Figure size 576x432 with 1 Axes>"
      ]
     },
     "metadata": {
      "needs_background": "light"
     },
     "output_type": "display_data"
    }
   ],
   "source": [
    "x = aprovados['Fez_quiz']\n",
    "y = aprovados['nota']\n",
    "plt.figure(figsize=(8, 6))\n",
    "plt.bar(x, y)\n",
    "plt.title('Quantidade de quizes feitos em relação a nota final')\n",
    "plt.xlabel('Fez_quiz')\n",
    "plt.ylabel('Nota')"
   ]
  },
  {
   "cell_type": "markdown",
   "id": "medium-notion",
   "metadata": {},
   "source": [
    "**Pode-se notar que as maiores notas não foram adquiridas por quem fez o maior numero de quizes**"
   ]
  },
  {
   "cell_type": "code",
   "execution_count": 203,
   "id": "brazilian-interval",
   "metadata": {
    "collapsed": true,
    "jupyter": {
     "outputs_hidden": true
    }
   },
   "outputs": [
    {
     "data": {
      "text/plain": [
       "Text(0, 0.5, 'Nota')"
      ]
     },
     "execution_count": 203,
     "metadata": {},
     "output_type": "execute_result"
    },
    {
     "data": {
      "image/png": "[encoded data removed]",
      "text/plain": [
       "<Figure size 576x432 with 1 Axes>"
      ]
     },
     "metadata": {
      "needs_background": "light"
     },
     "output_type": "display_data"
    }
   ],
   "source": [
    "x = aprovados['Enviou_tarefa']\n",
    "y = aprovados['nota']\n",
    "plt.figure(figsize=(8, 6))\n",
    "plt.scatter(x, y)\n",
    "plt.title('Quantidade de tarefas feitas em relação a nota final')\n",
    "plt.xlabel('Enviou_tarefa')\n",
    "plt.ylabel('Nota')"
   ]
  },
  {
   "cell_type": "code",
   "execution_count": 204,
   "id": "august-corps",
   "metadata": {
    "collapsed": true,
    "jupyter": {
     "outputs_hidden": true,
     "source_hidden": true
    }
   },
   "outputs": [
    {
     "data": {
      "text/plain": [
       "Text(0, 0.5, 'Nota')"
      ]
     },
     "execution_count": 204,
     "metadata": {},
     "output_type": "execute_result"
    },
    {
     "data": {
      "image/png": "[encoded data removed]",
      "text/plain": [
       "<Figure size 576x432 with 1 Axes>"
      ]
     },
     "metadata": {
      "needs_background": "light"
     },
     "output_type": "display_data"
    }
   ],
   "source": [
    "x = aprovados['Enviou_tarefa']\n",
    "y = aprovados['nota']\n",
    "plt.figure(figsize=(8, 6))\n",
    "plt.bar(x, y)\n",
    "plt.title('Quantidade de tarefas feitas em relação a nota final')\n",
    "plt.xlabel('Enviou_tarefa')\n",
    "plt.ylabel('Nota')"
   ]
  },
  {
   "cell_type": "markdown",
   "id": "healthy-improvement",
   "metadata": {},
   "source": [
    "**Alunos que reprovaram.** "
   ]
  },
  {
   "cell_type": "code",
   "execution_count": 205,
   "id": "oriental-voltage",
   "metadata": {},
   "outputs": [
    {
     "data": {
      "text/html": [
       "<div>\n",
       "<style scoped>\n",
       "    .dataframe tbody tr th:only-of-type {\n",
       "        vertical-align: middle;\n",
       "    }\n",
       "\n",
       "    .dataframe tbody tr th {\n",
       "        vertical-align: top;\n",
       "    }\n",
       "\n",
       "    .dataframe thead th {\n",
       "        text-align: right;\n",
       "    }\n",
       "</style>\n",
       "<table border=\"1\" class=\"dataframe\">\n",
       "  <thead>\n",
       "    <tr style=\"text-align: right;\">\n",
       "      <th></th>\n",
       "      <th>userid</th>\n",
       "      <th>Fez_quiz</th>\n",
       "      <th>Enviou_forum</th>\n",
       "      <th>Viu_tarefa</th>\n",
       "      <th>Enviou_tarefa</th>\n",
       "      <th>Fez_quiz_z</th>\n",
       "      <th>Enviou_forum_z</th>\n",
       "      <th>Viu_tarefa_z</th>\n",
       "      <th>Enviou_tarefa_z</th>\n",
       "      <th>Engajamento</th>\n",
       "      <th>nota</th>\n",
       "    </tr>\n",
       "  </thead>\n",
       "  <tbody>\n",
       "    <tr>\n",
       "      <th>0</th>\n",
       "      <td>1170</td>\n",
       "      <td>2.0</td>\n",
       "      <td>5.0</td>\n",
       "      <td>0.0</td>\n",
       "      <td>0.0</td>\n",
       "      <td>-0.847903</td>\n",
       "      <td>-0.614386</td>\n",
       "      <td>-1.357506</td>\n",
       "      <td>-1.239511</td>\n",
       "      <td>-1.014826</td>\n",
       "      <td>0.73043</td>\n",
       "    </tr>\n",
       "    <tr>\n",
       "      <th>1</th>\n",
       "      <td>2471</td>\n",
       "      <td>1.0</td>\n",
       "      <td>0.0</td>\n",
       "      <td>0.0</td>\n",
       "      <td>0.0</td>\n",
       "      <td>-1.329666</td>\n",
       "      <td>-1.528651</td>\n",
       "      <td>-1.357506</td>\n",
       "      <td>-1.239511</td>\n",
       "      <td>-1.363833</td>\n",
       "      <td>0.26087</td>\n",
       "    </tr>\n",
       "    <tr>\n",
       "      <th>4</th>\n",
       "      <td>4928</td>\n",
       "      <td>2.0</td>\n",
       "      <td>0.0</td>\n",
       "      <td>0.0</td>\n",
       "      <td>0.0</td>\n",
       "      <td>-0.847903</td>\n",
       "      <td>-1.528651</td>\n",
       "      <td>-1.357506</td>\n",
       "      <td>-1.239511</td>\n",
       "      <td>-1.243393</td>\n",
       "      <td>0.41739</td>\n",
       "    </tr>\n",
       "    <tr>\n",
       "      <th>6</th>\n",
       "      <td>6267</td>\n",
       "      <td>2.0</td>\n",
       "      <td>0.0</td>\n",
       "      <td>0.0</td>\n",
       "      <td>0.0</td>\n",
       "      <td>-0.847903</td>\n",
       "      <td>-1.528651</td>\n",
       "      <td>-1.357506</td>\n",
       "      <td>-1.239511</td>\n",
       "      <td>-1.243393</td>\n",
       "      <td>0.26087</td>\n",
       "    </tr>\n",
       "    <tr>\n",
       "      <th>7</th>\n",
       "      <td>12720</td>\n",
       "      <td>3.0</td>\n",
       "      <td>2.0</td>\n",
       "      <td>4.0</td>\n",
       "      <td>0.0</td>\n",
       "      <td>-0.366140</td>\n",
       "      <td>-1.162945</td>\n",
       "      <td>-1.248688</td>\n",
       "      <td>-1.239511</td>\n",
       "      <td>-1.004321</td>\n",
       "      <td>1.26826</td>\n",
       "    </tr>\n",
       "    <tr>\n",
       "      <th>9</th>\n",
       "      <td>24155</td>\n",
       "      <td>2.0</td>\n",
       "      <td>5.0</td>\n",
       "      <td>0.0</td>\n",
       "      <td>0.0</td>\n",
       "      <td>-0.847903</td>\n",
       "      <td>-0.614386</td>\n",
       "      <td>-1.357506</td>\n",
       "      <td>-1.239511</td>\n",
       "      <td>-1.014826</td>\n",
       "      <td>0.73043</td>\n",
       "    </tr>\n",
       "    <tr>\n",
       "      <th>22</th>\n",
       "      <td>58431</td>\n",
       "      <td>0.0</td>\n",
       "      <td>2.0</td>\n",
       "      <td>0.0</td>\n",
       "      <td>0.0</td>\n",
       "      <td>-1.811428</td>\n",
       "      <td>-1.162945</td>\n",
       "      <td>-1.357506</td>\n",
       "      <td>-1.239511</td>\n",
       "      <td>-1.392848</td>\n",
       "      <td>3.58261</td>\n",
       "    </tr>\n",
       "    <tr>\n",
       "      <th>23</th>\n",
       "      <td>60737</td>\n",
       "      <td>2.0</td>\n",
       "      <td>0.0</td>\n",
       "      <td>0.0</td>\n",
       "      <td>0.0</td>\n",
       "      <td>-0.847903</td>\n",
       "      <td>-1.528651</td>\n",
       "      <td>-1.357506</td>\n",
       "      <td>-1.239511</td>\n",
       "      <td>-1.243393</td>\n",
       "      <td>0.52174</td>\n",
       "    </tr>\n",
       "    <tr>\n",
       "      <th>27</th>\n",
       "      <td>76596</td>\n",
       "      <td>0.0</td>\n",
       "      <td>3.0</td>\n",
       "      <td>0.0</td>\n",
       "      <td>0.0</td>\n",
       "      <td>-1.811428</td>\n",
       "      <td>-0.980092</td>\n",
       "      <td>-1.357506</td>\n",
       "      <td>-1.239511</td>\n",
       "      <td>-1.347134</td>\n",
       "      <td>0.13043</td>\n",
       "    </tr>\n",
       "    <tr>\n",
       "      <th>28</th>\n",
       "      <td>76850</td>\n",
       "      <td>1.0</td>\n",
       "      <td>3.0</td>\n",
       "      <td>0.0</td>\n",
       "      <td>0.0</td>\n",
       "      <td>-1.329666</td>\n",
       "      <td>-0.980092</td>\n",
       "      <td>-1.357506</td>\n",
       "      <td>-1.239511</td>\n",
       "      <td>-1.226694</td>\n",
       "      <td>0.46957</td>\n",
       "    </tr>\n",
       "    <tr>\n",
       "      <th>43</th>\n",
       "      <td>224510</td>\n",
       "      <td>1.0</td>\n",
       "      <td>8.0</td>\n",
       "      <td>5.0</td>\n",
       "      <td>0.0</td>\n",
       "      <td>-1.329666</td>\n",
       "      <td>-0.065827</td>\n",
       "      <td>-1.221483</td>\n",
       "      <td>-1.239511</td>\n",
       "      <td>-0.964122</td>\n",
       "      <td>1.26335</td>\n",
       "    </tr>\n",
       "    <tr>\n",
       "      <th>48</th>\n",
       "      <td>307966</td>\n",
       "      <td>1.0</td>\n",
       "      <td>1.0</td>\n",
       "      <td>0.0</td>\n",
       "      <td>0.0</td>\n",
       "      <td>-1.329666</td>\n",
       "      <td>-1.345798</td>\n",
       "      <td>-1.357506</td>\n",
       "      <td>-1.239511</td>\n",
       "      <td>-1.318120</td>\n",
       "      <td>0.76637</td>\n",
       "    </tr>\n",
       "  </tbody>\n",
       "</table>\n",
       "</div>"
      ],
      "text/plain": [
       "    userid  Fez_quiz  Enviou_forum  Viu_tarefa  Enviou_tarefa  Fez_quiz_z  \\\n",
       "0     1170       2.0           5.0         0.0            0.0   -0.847903   \n",
       "1     2471       1.0           0.0         0.0            0.0   -1.329666   \n",
       "4     4928       2.0           0.0         0.0            0.0   -0.847903   \n",
       "6     6267       2.0           0.0         0.0            0.0   -0.847903   \n",
       "7    12720       3.0           2.0         4.0            0.0   -0.366140   \n",
       "9    24155       2.0           5.0         0.0            0.0   -0.847903   \n",
       "22   58431       0.0           2.0         0.0            0.0   -1.811428   \n",
       "23   60737       2.0           0.0         0.0            0.0   -0.847903   \n",
       "27   76596       0.0           3.0         0.0            0.0   -1.811428   \n",
       "28   76850       1.0           3.0         0.0            0.0   -1.329666   \n",
       "43  224510       1.0           8.0         5.0            0.0   -1.329666   \n",
       "48  307966       1.0           1.0         0.0            0.0   -1.329666   \n",
       "\n",
       "    Enviou_forum_z  Viu_tarefa_z  Enviou_tarefa_z  Engajamento     nota  \n",
       "0        -0.614386     -1.357506        -1.239511    -1.014826  0.73043  \n",
       "1        -1.528651     -1.357506        -1.239511    -1.363833  0.26087  \n",
       "4        -1.528651     -1.357506        -1.239511    -1.243393  0.41739  \n",
       "6        -1.528651     -1.357506        -1.239511    -1.243393  0.26087  \n",
       "7        -1.162945     -1.248688        -1.239511    -1.004321  1.26826  \n",
       "9        -0.614386     -1.357506        -1.239511    -1.014826  0.73043  \n",
       "22       -1.162945     -1.357506        -1.239511    -1.392848  3.58261  \n",
       "23       -1.528651     -1.357506        -1.239511    -1.243393  0.52174  \n",
       "27       -0.980092     -1.357506        -1.239511    -1.347134  0.13043  \n",
       "28       -0.980092     -1.357506        -1.239511    -1.226694  0.46957  \n",
       "43       -0.065827     -1.221483        -1.239511    -0.964122  1.26335  \n",
       "48       -1.345798     -1.357506        -1.239511    -1.318120  0.76637  "
      ]
     },
     "execution_count": 205,
     "metadata": {},
     "output_type": "execute_result"
    }
   ],
   "source": [
    "reprovados = indicadores_nota.query(\"nota <5\")\n",
    "reprovados[:50]"
   ]
  },
  {
   "cell_type": "code",
   "execution_count": 206,
   "id": "twenty-hopkins",
   "metadata": {
    "collapsed": true,
    "jupyter": {
     "outputs_hidden": true
    }
   },
   "outputs": [
    {
     "data": {
      "text/plain": [
       "Text(0, 0.5, 'Nota')"
      ]
     },
     "execution_count": 206,
     "metadata": {},
     "output_type": "execute_result"
    },
    {
     "data": {
      "image/png": "[encoded data removed]",
      "text/plain": [
       "<Figure size 576x432 with 1 Axes>"
      ]
     },
     "metadata": {
      "needs_background": "light"
     },
     "output_type": "display_data"
    }
   ],
   "source": [
    "x = reprovados['Fez_quiz']\n",
    "y = reprovados['nota']\n",
    "plt.figure(figsize=(8, 6))\n",
    "plt.scatter(x, y)\n",
    "plt.title('Quantidade de quizes feitos em relação a nota final')\n",
    "plt.xlabel('Fez_quiz')\n",
    "plt.ylabel('Nota')"
   ]
  },
  {
   "cell_type": "code",
   "execution_count": 207,
   "id": "anticipated-above",
   "metadata": {
    "collapsed": true,
    "jupyter": {
     "outputs_hidden": true,
     "source_hidden": true
    }
   },
   "outputs": [
    {
     "data": {
      "text/plain": [
       "Text(0, 0.5, 'Nota')"
      ]
     },
     "execution_count": 207,
     "metadata": {},
     "output_type": "execute_result"
    },
    {
     "data": {
      "image/png": "[encoded data removed]",
      "text/plain": [
       "<Figure size 576x432 with 1 Axes>"
      ]
     },
     "metadata": {
      "needs_background": "light"
     },
     "output_type": "display_data"
    }
   ],
   "source": [
    "x = reprovados['Fez_quiz']\n",
    "y = reprovados['nota']\n",
    "plt.figure(figsize=(8, 6))\n",
    "plt.bar(x, y)\n",
    "plt.title('Quantidade de quizes feitos em relação a nota final')\n",
    "plt.xlabel('Fez_quiz')\n",
    "plt.ylabel('Nota')"
   ]
  },
  {
   "cell_type": "markdown",
   "id": "successful-cursor",
   "metadata": {},
   "source": [
    "**Tem alunos que mesmo não fazendo o quiz, obtiveram 3.5 de nota, isso pode estar atrelado a o outro indicador (Tarefa).**"
   ]
  },
  {
   "cell_type": "code",
   "execution_count": 208,
   "id": "advanced-things",
   "metadata": {
    "collapsed": true,
    "jupyter": {
     "outputs_hidden": true
    }
   },
   "outputs": [
    {
     "data": {
      "text/plain": [
       "Text(0, 0.5, 'Nota')"
      ]
     },
     "execution_count": 208,
     "metadata": {},
     "output_type": "execute_result"
    },
    {
     "data": {
      "image/png": "[encoded data removed]",
      "text/plain": [
       "<Figure size 576x432 with 1 Axes>"
      ]
     },
     "metadata": {
      "needs_background": "light"
     },
     "output_type": "display_data"
    }
   ],
   "source": [
    "x = reprovados['Enviou_tarefa']\n",
    "y = reprovados['nota']\n",
    "plt.figure(figsize=(8, 6))\n",
    "plt.scatter(x, y)\n",
    "plt.title('Quantidade de tarefas feitas em relação a nota final')\n",
    "plt.xlabel('Enviou_tarefa')\n",
    "plt.ylabel('Nota')"
   ]
  },
  {
   "cell_type": "code",
   "execution_count": 209,
   "id": "opposed-discovery",
   "metadata": {
    "collapsed": true,
    "jupyter": {
     "outputs_hidden": true,
     "source_hidden": true
    }
   },
   "outputs": [
    {
     "data": {
      "text/plain": [
       "Text(0, 0.5, 'Nota')"
      ]
     },
     "execution_count": 209,
     "metadata": {},
     "output_type": "execute_result"
    },
    {
     "data": {
      "image/png": "[encoded data removed]",
      "text/plain": [
       "<Figure size 576x432 with 1 Axes>"
      ]
     },
     "metadata": {
      "needs_background": "light"
     },
     "output_type": "display_data"
    }
   ],
   "source": [
    "x = reprovados['Enviou_tarefa']\n",
    "y = reprovados['nota']\n",
    "plt.figure(figsize=(8, 6))\n",
    "plt.bar(x, y)\n",
    "plt.title('Quantidade de tarefas feitas em relação a nota final')\n",
    "plt.xlabel('Enviou_tarefa')\n",
    "plt.ylabel('Nota')"
   ]
  },
  {
   "cell_type": "markdown",
   "id": "social-chemistry",
   "metadata": {},
   "source": [
    "**Todos os alunos que reprovaram não enviaram tarefas (isso pode ser observado na tabela acima).**"
   ]
  },
  {
   "cell_type": "markdown",
   "id": "separate-interface",
   "metadata": {},
   "source": [
    "# Vamos analisar agora quantos cliques temos na disiciplina ao longo do semestre para cada aluno que reprovou."
   ]
  },
  {
   "cell_type": "code",
   "execution_count": 210,
   "id": "wrong-ranch",
   "metadata": {},
   "outputs": [],
   "source": [
    "pd.to_datetime(alunos.timecreated)\n",
    "alunos.set_index('timecreated', inplace = True)"
   ]
  },
  {
   "cell_type": "code",
   "execution_count": 233,
   "id": "valid-patch",
   "metadata": {},
   "outputs": [
    {
     "data": {
      "text/plain": [
       "<AxesSubplot:xlabel='userid,timecreated'>"
      ]
     },
     "execution_count": 233,
     "metadata": {},
     "output_type": "execute_result"
    },
    {
     "data": {
      "image/png": "[encoded data removed]",
      "text/plain": [
       "<Figure size 1296x648 with 1 Axes>"
      ]
     },
     "metadata": {
      "needs_background": "light"
     },
     "output_type": "display_data"
    }
   ],
   "source": [
    "clics_semestre = alunos.query(\"userid in [1170]\")\n",
    "clics_do_aluno = clics_semestre.groupby(['userid','timecreated'])['action'].count()\n",
    "clics_do_aluno.plot(figsize=(18,9))"
   ]
  },
  {
   "cell_type": "markdown",
   "id": "lasting-aviation",
   "metadata": {},
   "source": [
    "**Podemos notar que os meses no eixo X acompanham as interações (clics) de cada aluno, ou seja, caso haja um aluno aprovado para ser analisado, veremos que o eixo X acompanhará até a data final do curso no semestre.**  "
   ]
  },
  {
   "cell_type": "code",
   "execution_count": 212,
   "id": "surface-pendant",
   "metadata": {},
   "outputs": [],
   "source": [
    "#https://stackoverflow.com/questions/51556953/how-to-plot-time-as-x-axis-in-pandas"
   ]
  },
  {
   "cell_type": "code",
   "execution_count": 234,
   "id": "abroad-falls",
   "metadata": {},
   "outputs": [
    {
     "data": {
      "text/plain": [
       "userid  timecreated        \n",
       "1170    2020-08-19 04:01:06    1\n",
       "        2020-08-19 04:01:57    1\n",
       "        2020-08-19 04:02:47    2\n",
       "        2020-08-19 04:02:50    2\n",
       "        2020-08-19 04:04:10    1\n",
       "Name: action, dtype: int64"
      ]
     },
     "execution_count": 234,
     "metadata": {},
     "output_type": "execute_result"
    }
   ],
   "source": [
    "clics_do_aluno[:5]"
   ]
  },
  {
   "cell_type": "code",
   "execution_count": 249,
   "id": "several-christian",
   "metadata": {},
   "outputs": [
    {
     "data": {
      "text/plain": [
       "userid  timecreated        \n",
       "5754    2020-08-17 11:31:43    1\n",
       "        2020-08-17 11:32:41    1\n",
       "        2020-08-17 11:32:56    1\n",
       "        2020-08-17 13:09:54    1\n",
       "        2020-08-17 13:10:11    1\n",
       "Name: action, dtype: int64"
      ]
     },
     "execution_count": 249,
     "metadata": {},
     "output_type": "execute_result"
    }
   ],
   "source": [
    "clics_semestre2 = alunos.query(\"userid in [5754]\")\n",
    "clics_do_aluno2 = clics_semestre2.groupby(['userid','timecreated'])['action'].count()\n",
    "clics_do_aluno2[:5]"
   ]
  },
  {
   "cell_type": "code",
   "execution_count": 254,
   "id": "abroad-hobby",
   "metadata": {},
   "outputs": [
    {
     "data": {
      "text/html": [
       "<div>\n",
       "<style scoped>\n",
       "    .dataframe tbody tr th:only-of-type {\n",
       "        vertical-align: middle;\n",
       "    }\n",
       "\n",
       "    .dataframe tbody tr th {\n",
       "        vertical-align: top;\n",
       "    }\n",
       "\n",
       "    .dataframe thead th {\n",
       "        text-align: right;\n",
       "    }\n",
       "</style>\n",
       "<table border=\"1\" class=\"dataframe\">\n",
       "  <thead>\n",
       "    <tr style=\"text-align: right;\">\n",
       "      <th></th>\n",
       "      <th>action_x</th>\n",
       "      <th>action_y</th>\n",
       "    </tr>\n",
       "    <tr>\n",
       "      <th>timecreated</th>\n",
       "      <th></th>\n",
       "      <th></th>\n",
       "    </tr>\n",
       "  </thead>\n",
       "  <tbody>\n",
       "    <tr>\n",
       "      <th>2020-08-17 11:31:43</th>\n",
       "      <td>1.0</td>\n",
       "      <td>NaN</td>\n",
       "    </tr>\n",
       "    <tr>\n",
       "      <th>2020-08-17 11:32:41</th>\n",
       "      <td>1.0</td>\n",
       "      <td>NaN</td>\n",
       "    </tr>\n",
       "    <tr>\n",
       "      <th>2020-08-17 11:32:56</th>\n",
       "      <td>1.0</td>\n",
       "      <td>NaN</td>\n",
       "    </tr>\n",
       "    <tr>\n",
       "      <th>2020-08-17 13:09:54</th>\n",
       "      <td>1.0</td>\n",
       "      <td>NaN</td>\n",
       "    </tr>\n",
       "    <tr>\n",
       "      <th>2020-08-17 13:10:11</th>\n",
       "      <td>1.0</td>\n",
       "      <td>NaN</td>\n",
       "    </tr>\n",
       "    <tr>\n",
       "      <th>...</th>\n",
       "      <td>...</td>\n",
       "      <td>...</td>\n",
       "    </tr>\n",
       "    <tr>\n",
       "      <th>2020-10-05 13:24:09</th>\n",
       "      <td>NaN</td>\n",
       "      <td>1.0</td>\n",
       "    </tr>\n",
       "    <tr>\n",
       "      <th>2020-10-05 13:24:41</th>\n",
       "      <td>NaN</td>\n",
       "      <td>3.0</td>\n",
       "    </tr>\n",
       "    <tr>\n",
       "      <th>2020-10-05 13:24:55</th>\n",
       "      <td>NaN</td>\n",
       "      <td>1.0</td>\n",
       "    </tr>\n",
       "    <tr>\n",
       "      <th>2020-10-05 13:25:04</th>\n",
       "      <td>NaN</td>\n",
       "      <td>1.0</td>\n",
       "    </tr>\n",
       "    <tr>\n",
       "      <th>2020-10-05 13:30:34</th>\n",
       "      <td>NaN</td>\n",
       "      <td>1.0</td>\n",
       "    </tr>\n",
       "  </tbody>\n",
       "</table>\n",
       "<p>808 rows × 2 columns</p>\n",
       "</div>"
      ],
      "text/plain": [
       "                     action_x  action_y\n",
       "timecreated                            \n",
       "2020-08-17 11:31:43       1.0       NaN\n",
       "2020-08-17 11:32:41       1.0       NaN\n",
       "2020-08-17 11:32:56       1.0       NaN\n",
       "2020-08-17 13:09:54       1.0       NaN\n",
       "2020-08-17 13:10:11       1.0       NaN\n",
       "...                       ...       ...\n",
       "2020-10-05 13:24:09       NaN       1.0\n",
       "2020-10-05 13:24:41       NaN       3.0\n",
       "2020-10-05 13:24:55       NaN       1.0\n",
       "2020-10-05 13:25:04       NaN       1.0\n",
       "2020-10-05 13:30:34       NaN       1.0\n",
       "\n",
       "[808 rows x 2 columns]"
      ]
     },
     "execution_count": 254,
     "metadata": {},
     "output_type": "execute_result"
    }
   ],
   "source": [
    "compara_alunos = pd.merge(clics_do_aluno2, clics_do_aluno, how = 'outer', on = 'timecreated')\n",
    "compara_alunos"
   ]
  },
  {
   "cell_type": "code",
   "execution_count": 255,
   "id": "charged-wiring",
   "metadata": {},
   "outputs": [
    {
     "data": {
      "text/plain": [
       "<AxesSubplot:xlabel='timecreated'>"
      ]
     },
     "execution_count": 255,
     "metadata": {},
     "output_type": "execute_result"
    },
    {
     "data": {
      "image/png": "[encoded data removed]",
      "text/plain": [
       "<Figure size 1296x648 with 1 Axes>"
      ]
     },
     "metadata": {
      "needs_background": "light"
     },
     "output_type": "display_data"
    }
   ],
   "source": [
    "compara_alunos.plot(figsize=(18,9))"
   ]
  },
  {
   "cell_type": "markdown",
   "id": "prompt-store",
   "metadata": {},
   "source": [
    "# Regressão Linear. "
   ]
  },
  {
   "cell_type": "code",
   "execution_count": 213,
   "id": "optical-printer",
   "metadata": {},
   "outputs": [
    {
     "data": {
      "image/png": "[encoded data removed]",
      "text/plain": [
       "<Figure size 432x288 with 1 Axes>"
      ]
     },
     "metadata": {
      "needs_background": "light"
     },
     "output_type": "display_data"
    }
   ],
   "source": [
    "X = indicadores.iloc[:, 0].values.reshape(-1, 1)  # values converts it into a numpy array\n",
    "Y = indicadores.iloc[:, 1].values.reshape(-1, 1)  # -1 means that calculate the dimension of rows, but have 1 column\n",
    "linear_regressor = LinearRegression()  # create object for the class\n",
    "linear_regressor.fit(X, Y)  # perform linear regression\n",
    "Y_pred = linear_regressor.predict(X)  # make predictions\n",
    "plt.scatter(X, Y)\n",
    "plt.plot(X, Y_pred, color='red')\n",
    "plt.show()"
   ]
  },
  {
   "cell_type": "code",
   "execution_count": null,
   "id": "normal-north",
   "metadata": {},
   "outputs": [],
   "source": []
  },
  {
   "cell_type": "code",
   "execution_count": null,
   "id": "boxed-scott",
   "metadata": {},
   "outputs": [],
   "source": []
  },
  {
   "cell_type": "code",
   "execution_count": null,
   "id": "functional-listing",
   "metadata": {},
   "outputs": [],
   "source": []
  },
  {
   "cell_type": "code",
   "execution_count": null,
   "id": "utility-cornell",
   "metadata": {},
   "outputs": [],
   "source": []
  },
  {
   "cell_type": "code",
   "execution_count": null,
   "id": "orange-double",
   "metadata": {},
   "outputs": [],
   "source": []
  },
  {
   "cell_type": "code",
   "execution_count": null,
   "id": "working-owner",
   "metadata": {},
   "outputs": [],
   "source": []
  },
  {
   "cell_type": "markdown",
   "id": "conscious-assembly",
   "metadata": {},
   "source": [
    "**Possiveis alunos desistentes são aqueles alunos que não fizeram os quizes e não enviaram tarfas.**"
   ]
  },
  {
   "cell_type": "code",
   "execution_count": 214,
   "id": "annoying-package",
   "metadata": {},
   "outputs": [],
   "source": [
    "#mais indicadores atribuir peso aos indicadores\n",
    "#criar visualisações através do corr\n",
    "#regressão linear notas finais eixo vertical/ tentativas do questionario horizontal \n",
    "#grafico com pontos em vez de barras (feito)\n",
    "#plotar nº clics por semana em um semestre/trimestre (feito)\n",
    "#investigar time series em pandas com o index (feito)\n",
    "#py stats models\n",
    "#https://www.youtube.com/watch?v=JuG8hwVK5uQ"
   ]
  },
  {
   "cell_type": "code",
   "execution_count": null,
   "id": "incorrect-horror",
   "metadata": {},
   "outputs": [],
   "source": []
  }
 ],
 "metadata": {
  "kernelspec": {
   "display_name": "Python 3",
   "language": "python",
   "name": "python3"
  },
  "language_info": {
   "codemirror_mode": {
    "name": "ipython",
    "version": 3
   },
   "file_extension": ".py",
   "mimetype": "text/x-python",
   "name": "python",
   "nbconvert_exporter": "python",
   "pygments_lexer": "ipython3",
   "version": "3.8.6"
  }
 },
 "nbformat": 4,
 "nbformat_minor": 5
}
