{
 "cells": [
  {
   "cell_type": "markdown",
   "id": "artistic-blend",
   "metadata": {},
   "source": [
    "# **Análise de engajamento dos alunos.**\n",
    "**Este notebook tem como objetivo demonstrar a quantidade de cliques em cada função da disicplina 4300459.**"
   ]
  },
  {
   "cell_type": "code",
   "execution_count": 1,
   "id": "informational-malpractice",
   "metadata": {},
   "outputs": [],
   "source": [
    "import numpy as np\n",
    "import pandas as pd\n",
    "import matplotlib.pyplot as plt\n",
    "import seaborn as sns\n",
    "import plotly.offline as py\n",
    "import plotly.graph_objs as go  \n",
    "import scipy.stats as stats"
   ]
  },
  {
   "cell_type": "code",
   "execution_count": 23,
   "id": "temporal-fifteen",
   "metadata": {},
   "outputs": [
    {
     "data": {
      "text/html": [
       "<div>\n",
       "<style scoped>\n",
       "    .dataframe tbody tr th:only-of-type {\n",
       "        vertical-align: middle;\n",
       "    }\n",
       "\n",
       "    .dataframe tbody tr th {\n",
       "        vertical-align: top;\n",
       "    }\n",
       "\n",
       "    .dataframe thead th {\n",
       "        text-align: right;\n",
       "    }\n",
       "</style>\n",
       "<table border=\"1\" class=\"dataframe\">\n",
       "  <thead>\n",
       "    <tr style=\"text-align: right;\">\n",
       "      <th></th>\n",
       "      <th>userid</th>\n",
       "      <th>nota</th>\n",
       "    </tr>\n",
       "  </thead>\n",
       "  <tbody>\n",
       "  </tbody>\n",
       "</table>\n",
       "</div>"
      ],
      "text/plain": [
       "Empty DataFrame\n",
       "Columns: [userid, nota]\n",
       "Index: []"
      ]
     },
     "execution_count": 23,
     "metadata": {},
     "output_type": "execute_result"
    }
   ],
   "source": [
    "notas = pd.read_table('data/nonpublic/grades-4300459-2020.csv', sep=',')\n",
    "notas.sample(0)"
   ]
  },
  {
   "cell_type": "code",
   "execution_count": 3,
   "id": "informed-barcelona",
   "metadata": {},
   "outputs": [
    {
     "data": {
      "text/html": [
       "<div>\n",
       "<style scoped>\n",
       "    .dataframe tbody tr th:only-of-type {\n",
       "        vertical-align: middle;\n",
       "    }\n",
       "\n",
       "    .dataframe tbody tr th {\n",
       "        vertical-align: top;\n",
       "    }\n",
       "\n",
       "    .dataframe thead th {\n",
       "        text-align: right;\n",
       "    }\n",
       "</style>\n",
       "<table border=\"1\" class=\"dataframe\">\n",
       "  <thead>\n",
       "    <tr style=\"text-align: right;\">\n",
       "      <th></th>\n",
       "      <th>id</th>\n",
       "      <th>eventname</th>\n",
       "      <th>component</th>\n",
       "      <th>action</th>\n",
       "      <th>target</th>\n",
       "      <th>objecttable</th>\n",
       "      <th>objectid</th>\n",
       "      <th>crud</th>\n",
       "      <th>edulevel</th>\n",
       "      <th>contextid</th>\n",
       "      <th>...</th>\n",
       "      <th>contextinstanceid</th>\n",
       "      <th>userid</th>\n",
       "      <th>courseid</th>\n",
       "      <th>relateduserid</th>\n",
       "      <th>anonymous</th>\n",
       "      <th>other</th>\n",
       "      <th>timecreated</th>\n",
       "      <th>origin</th>\n",
       "      <th>ip</th>\n",
       "      <th>realuserid</th>\n",
       "    </tr>\n",
       "  </thead>\n",
       "  <tbody>\n",
       "  </tbody>\n",
       "</table>\n",
       "<p>0 rows × 21 columns</p>\n",
       "</div>"
      ],
      "text/plain": [
       "Empty DataFrame\n",
       "Columns: [id, eventname, component, action, target, objecttable, objectid, crud, edulevel, contextid, contextlevel, contextinstanceid, userid, courseid, relateduserid, anonymous, other, timecreated, origin, ip, realuserid]\n",
       "Index: []\n",
       "\n",
       "[0 rows x 21 columns]"
      ]
     },
     "execution_count": 3,
     "metadata": {},
     "output_type": "execute_result"
    }
   ],
   "source": [
    "tabela = pd.read_table('data/nonpublic/logs-4300459-2021.csv', sep=',')\n",
    "tabela.sample(0)"
   ]
  },
  {
   "cell_type": "code",
   "execution_count": 4,
   "id": "challenging-modification",
   "metadata": {},
   "outputs": [],
   "source": [
    "N=10000\n",
    "alunos = tabela.query(\"userid != 2 & userid != -1 & userid !=6\")"
   ]
  },
  {
   "cell_type": "markdown",
   "id": "first-consistency",
   "metadata": {},
   "source": [
    "**Alunos que mais submeteram o quiz.**"
   ]
  },
  {
   "cell_type": "code",
   "execution_count": 5,
   "id": "automotive-weather",
   "metadata": {},
   "outputs": [
    {
     "data": {
      "text/plain": [
       "userid\n",
       "1170    2\n",
       "2471    1\n",
       "3021    4\n",
       "3596    6\n",
       "4928    2\n",
       "Name: id, dtype: int64"
      ]
     },
     "execution_count": 5,
     "metadata": {},
     "output_type": "execute_result"
    }
   ],
   "source": [
    "quiz = alunos.query(\"component == 'mod_quiz'\")\n",
    "quiz_envios = quiz.query(\"action == 'submitted'\")\n",
    "quiz_envios_por_userid = quiz_envios.groupby('userid')['id'].count()\n",
    "quiz_envios_por_userid[:5]"
   ]
  },
  {
   "cell_type": "code",
   "execution_count": 6,
   "id": "activated-spouse",
   "metadata": {
    "collapsed": true,
    "jupyter": {
     "outputs_hidden": true
    }
   },
   "outputs": [
    {
     "data": {
      "text/plain": [
       "<AxesSubplot:xlabel='count', ylabel='userid'>"
      ]
     },
     "execution_count": 6,
     "metadata": {},
     "output_type": "execute_result"
    },
    {
     "data": {
      "image/png": "[encoded data removed]",
      "text/plain": [
       "<Figure size 432x576 with 1 Axes>"
      ]
     },
     "metadata": {
      "needs_background": "light"
     },
     "output_type": "display_data"
    }
   ],
   "source": [
    "quizes = plt.subplots(figsize=(6, 8))\n",
    "sns.countplot(y=\"userid\", data=quiz_envios, color=\"g\")"
   ]
  },
  {
   "cell_type": "markdown",
   "id": "pleased-curve",
   "metadata": {},
   "source": [
    "**Alunos que mais mandaram mensagens no chat.**"
   ]
  },
  {
   "cell_type": "code",
   "execution_count": 7,
   "id": "greek-valuation",
   "metadata": {},
   "outputs": [
    {
     "data": {
      "text/plain": [
       "viewed      3142\n",
       "created      418\n",
       "uploaded     371\n",
       "deleted       60\n",
       "updated       40\n",
       "Name: action, dtype: int64"
      ]
     },
     "execution_count": 7,
     "metadata": {},
     "output_type": "execute_result"
    }
   ],
   "source": [
    "forum = alunos.query(\"component == 'mod_forum'\")\n",
    "forum['action'].value_counts()"
   ]
  },
  {
   "cell_type": "code",
   "execution_count": 8,
   "id": "biological-arrow",
   "metadata": {},
   "outputs": [
    {
     "data": {
      "text/plain": [
       "userid\n",
       "1170      5\n",
       "3021      7\n",
       "3596      6\n",
       "5754     13\n",
       "12720     2\n",
       "Name: id, dtype: int64"
      ]
     },
     "execution_count": 8,
     "metadata": {},
     "output_type": "execute_result"
    }
   ],
   "source": [
    "forum_envios = forum.query(\"action == 'created'\")\n",
    "forum_envios_por_userid = forum_envios.groupby('userid')['id'].count()\n",
    "forum_envios_por_userid[:5]"
   ]
  },
  {
   "cell_type": "code",
   "execution_count": 9,
   "id": "arranged-airline",
   "metadata": {
    "collapsed": true,
    "jupyter": {
     "outputs_hidden": true
    }
   },
   "outputs": [
    {
     "data": {
      "text/plain": [
       "<AxesSubplot:xlabel='count', ylabel='userid'>"
      ]
     },
     "execution_count": 9,
     "metadata": {},
     "output_type": "execute_result"
    },
    {
     "data": {
      "image/png": "[encoded data removed]",
      "text/plain": [
       "<Figure size 432x576 with 1 Axes>"
      ]
     },
     "metadata": {
      "needs_background": "light"
     },
     "output_type": "display_data"
    }
   ],
   "source": [
    "msgforum = plt.subplots(figsize=(6, 8))\n",
    "sns.countplot(y=\"userid\", data=forum_envios, color=\"g\")"
   ]
  },
  {
   "cell_type": "code",
   "execution_count": 10,
   "id": "existing-stick",
   "metadata": {},
   "outputs": [
    {
     "data": {
      "text/plain": [
       "viewed       2495\n",
       "submitted     135\n",
       "accepted       39\n",
       "updated         1\n",
       "Name: action, dtype: int64"
      ]
     },
     "execution_count": 10,
     "metadata": {},
     "output_type": "execute_result"
    }
   ],
   "source": [
    "assign = alunos.query(\"component == 'mod_assign'\")\n",
    "assign['action'].value_counts()"
   ]
  },
  {
   "cell_type": "code",
   "execution_count": 11,
   "id": "returning-curve",
   "metadata": {},
   "outputs": [
    {
     "data": {
      "text/plain": [
       "userid\n",
       "3021     29\n",
       "3596     29\n",
       "5754     19\n",
       "12720     4\n",
       "19404    87\n",
       "Name: id, dtype: int64"
      ]
     },
     "execution_count": 11,
     "metadata": {},
     "output_type": "execute_result"
    }
   ],
   "source": [
    "assign_visual = assign.query(\"action == 'viewed'\")\n",
    "assign_visual_por_userid = assign_visual.groupby('userid')['id'].count()\n",
    "assign_visual_por_userid[:5]"
   ]
  },
  {
   "cell_type": "code",
   "execution_count": 12,
   "id": "reverse-essay",
   "metadata": {
    "collapsed": true,
    "jupyter": {
     "outputs_hidden": true
    }
   },
   "outputs": [
    {
     "data": {
      "text/plain": [
       "<AxesSubplot:xlabel='count', ylabel='userid'>"
      ]
     },
     "execution_count": 12,
     "metadata": {},
     "output_type": "execute_result"
    },
    {
     "data": {
      "image/png": "[encoded data removed]",
      "text/plain": [
       "<Figure size 432x576 with 1 Axes>"
      ]
     },
     "metadata": {
      "needs_background": "light"
     },
     "output_type": "display_data"
    }
   ],
   "source": [
    "assign_viewed = plt.subplots(figsize=(6, 8))\n",
    "sns.countplot(y=\"userid\", data=assign_visual, color=\"g\")"
   ]
  },
  {
   "cell_type": "code",
   "execution_count": 13,
   "id": "bigger-witch",
   "metadata": {},
   "outputs": [
    {
     "data": {
      "text/plain": [
       "userid\n",
       "3021     2\n",
       "3596     1\n",
       "5754     1\n",
       "19404    4\n",
       "26189    5\n",
       "Name: id, dtype: int64"
      ]
     },
     "execution_count": 13,
     "metadata": {},
     "output_type": "execute_result"
    }
   ],
   "source": [
    "assign_submitted = assign.query(\"action == 'submitted'\")\n",
    "assign_submitted_por_userid = assign_submitted.groupby('userid')['id'].count()\n",
    "assign_submitted_por_userid[:5]"
   ]
  },
  {
   "cell_type": "code",
   "execution_count": 14,
   "id": "changed-enterprise",
   "metadata": {
    "collapsed": true,
    "jupyter": {
     "outputs_hidden": true
    }
   },
   "outputs": [
    {
     "data": {
      "text/plain": [
       "<AxesSubplot:xlabel='count', ylabel='userid'>"
      ]
     },
     "execution_count": 14,
     "metadata": {},
     "output_type": "execute_result"
    },
    {
     "data": {
      "image/png": "[encoded data removed]",
      "text/plain": [
       "<Figure size 432x576 with 1 Axes>"
      ]
     },
     "metadata": {
      "needs_background": "light"
     },
     "output_type": "display_data"
    }
   ],
   "source": [
    "assign_submetido = plt.subplots(figsize=(6, 8))\n",
    "sns.countplot(y=\"userid\", data=assign_submitted, color=\"g\")"
   ]
  },
  {
   "cell_type": "code",
   "execution_count": 15,
   "id": "fifteen-quarter",
   "metadata": {},
   "outputs": [
    {
     "data": {
      "text/html": [
       "<div>\n",
       "<style scoped>\n",
       "    .dataframe tbody tr th:only-of-type {\n",
       "        vertical-align: middle;\n",
       "    }\n",
       "\n",
       "    .dataframe tbody tr th {\n",
       "        vertical-align: top;\n",
       "    }\n",
       "\n",
       "    .dataframe thead th {\n",
       "        text-align: right;\n",
       "    }\n",
       "</style>\n",
       "<table border=\"1\" class=\"dataframe\">\n",
       "  <thead>\n",
       "    <tr style=\"text-align: right;\">\n",
       "      <th></th>\n",
       "      <th>Fez_quiz</th>\n",
       "      <th>Enviou_forum</th>\n",
       "      <th>Viu_tarefa</th>\n",
       "      <th>Enviou_tarefa</th>\n",
       "    </tr>\n",
       "    <tr>\n",
       "      <th>userid</th>\n",
       "      <th></th>\n",
       "      <th></th>\n",
       "      <th></th>\n",
       "      <th></th>\n",
       "    </tr>\n",
       "  </thead>\n",
       "  <tbody>\n",
       "    <tr>\n",
       "      <th>1170</th>\n",
       "      <td>2.0</td>\n",
       "      <td>5.0</td>\n",
       "      <td>0.0</td>\n",
       "      <td>0.0</td>\n",
       "    </tr>\n",
       "    <tr>\n",
       "      <th>2471</th>\n",
       "      <td>1.0</td>\n",
       "      <td>0.0</td>\n",
       "      <td>0.0</td>\n",
       "      <td>0.0</td>\n",
       "    </tr>\n",
       "    <tr>\n",
       "      <th>3021</th>\n",
       "      <td>4.0</td>\n",
       "      <td>7.0</td>\n",
       "      <td>29.0</td>\n",
       "      <td>2.0</td>\n",
       "    </tr>\n",
       "    <tr>\n",
       "      <th>3596</th>\n",
       "      <td>6.0</td>\n",
       "      <td>6.0</td>\n",
       "      <td>29.0</td>\n",
       "      <td>1.0</td>\n",
       "    </tr>\n",
       "    <tr>\n",
       "      <th>4928</th>\n",
       "      <td>2.0</td>\n",
       "      <td>0.0</td>\n",
       "      <td>0.0</td>\n",
       "      <td>0.0</td>\n",
       "    </tr>\n",
       "  </tbody>\n",
       "</table>\n",
       "</div>"
      ],
      "text/plain": [
       "        Fez_quiz  Enviou_forum  Viu_tarefa  Enviou_tarefa\n",
       "userid                                                   \n",
       "1170         2.0           5.0         0.0            0.0\n",
       "2471         1.0           0.0         0.0            0.0\n",
       "3021         4.0           7.0        29.0            2.0\n",
       "3596         6.0           6.0        29.0            1.0\n",
       "4928         2.0           0.0         0.0            0.0"
      ]
     },
     "execution_count": 15,
     "metadata": {},
     "output_type": "execute_result"
    }
   ],
   "source": [
    "indicadores = pd.concat([quiz_envios_por_userid,forum_envios_por_userid,assign_visual_por_userid,assign_submitted_por_userid],axis = 1)\n",
    "indicadores = indicadores.fillna(0)\n",
    "indicadores.columns = ['Fez_quiz','Enviou_forum','Viu_tarefa','Enviou_tarefa']\n",
    "indicadores[:5]"
   ]
  },
  {
   "cell_type": "code",
   "execution_count": 16,
   "id": "suitable-russia",
   "metadata": {},
   "outputs": [
    {
     "data": {
      "text/html": [
       "<div>\n",
       "<style scoped>\n",
       "    .dataframe tbody tr th:only-of-type {\n",
       "        vertical-align: middle;\n",
       "    }\n",
       "\n",
       "    .dataframe tbody tr th {\n",
       "        vertical-align: top;\n",
       "    }\n",
       "\n",
       "    .dataframe thead th {\n",
       "        text-align: right;\n",
       "    }\n",
       "</style>\n",
       "<table border=\"1\" class=\"dataframe\">\n",
       "  <thead>\n",
       "    <tr style=\"text-align: right;\">\n",
       "      <th></th>\n",
       "      <th>Fez_quiz</th>\n",
       "      <th>Enviou_forum</th>\n",
       "      <th>Viu_tarefa</th>\n",
       "      <th>Enviou_tarefa</th>\n",
       "      <th>Fez_quiz_z</th>\n",
       "      <th>Enviou_forum_z</th>\n",
       "      <th>Viu_tarefa_z</th>\n",
       "      <th>Enviou_tarefa_z</th>\n",
       "    </tr>\n",
       "    <tr>\n",
       "      <th>userid</th>\n",
       "      <th></th>\n",
       "      <th></th>\n",
       "      <th></th>\n",
       "      <th></th>\n",
       "      <th></th>\n",
       "      <th></th>\n",
       "      <th></th>\n",
       "      <th></th>\n",
       "    </tr>\n",
       "  </thead>\n",
       "  <tbody>\n",
       "    <tr>\n",
       "      <th>1170</th>\n",
       "      <td>2.0</td>\n",
       "      <td>5.0</td>\n",
       "      <td>0.0</td>\n",
       "      <td>0.0</td>\n",
       "      <td>-0.847903</td>\n",
       "      <td>-0.614386</td>\n",
       "      <td>-1.357506</td>\n",
       "      <td>-1.239511</td>\n",
       "    </tr>\n",
       "    <tr>\n",
       "      <th>2471</th>\n",
       "      <td>1.0</td>\n",
       "      <td>0.0</td>\n",
       "      <td>0.0</td>\n",
       "      <td>0.0</td>\n",
       "      <td>-1.329666</td>\n",
       "      <td>-1.528651</td>\n",
       "      <td>-1.357506</td>\n",
       "      <td>-1.239511</td>\n",
       "    </tr>\n",
       "    <tr>\n",
       "      <th>3021</th>\n",
       "      <td>4.0</td>\n",
       "      <td>7.0</td>\n",
       "      <td>29.0</td>\n",
       "      <td>2.0</td>\n",
       "      <td>0.115623</td>\n",
       "      <td>-0.248680</td>\n",
       "      <td>-0.568575</td>\n",
       "      <td>-0.321355</td>\n",
       "    </tr>\n",
       "    <tr>\n",
       "      <th>3596</th>\n",
       "      <td>6.0</td>\n",
       "      <td>6.0</td>\n",
       "      <td>29.0</td>\n",
       "      <td>1.0</td>\n",
       "      <td>1.079149</td>\n",
       "      <td>-0.431533</td>\n",
       "      <td>-0.568575</td>\n",
       "      <td>-0.780433</td>\n",
       "    </tr>\n",
       "    <tr>\n",
       "      <th>4928</th>\n",
       "      <td>2.0</td>\n",
       "      <td>0.0</td>\n",
       "      <td>0.0</td>\n",
       "      <td>0.0</td>\n",
       "      <td>-0.847903</td>\n",
       "      <td>-1.528651</td>\n",
       "      <td>-1.357506</td>\n",
       "      <td>-1.239511</td>\n",
       "    </tr>\n",
       "  </tbody>\n",
       "</table>\n",
       "</div>"
      ],
      "text/plain": [
       "        Fez_quiz  Enviou_forum  Viu_tarefa  Enviou_tarefa  Fez_quiz_z  \\\n",
       "userid                                                                  \n",
       "1170         2.0           5.0         0.0            0.0   -0.847903   \n",
       "2471         1.0           0.0         0.0            0.0   -1.329666   \n",
       "3021         4.0           7.0        29.0            2.0    0.115623   \n",
       "3596         6.0           6.0        29.0            1.0    1.079149   \n",
       "4928         2.0           0.0         0.0            0.0   -0.847903   \n",
       "\n",
       "        Enviou_forum_z  Viu_tarefa_z  Enviou_tarefa_z  \n",
       "userid                                                 \n",
       "1170         -0.614386     -1.357506        -1.239511  \n",
       "2471         -1.528651     -1.357506        -1.239511  \n",
       "3021         -0.248680     -0.568575        -0.321355  \n",
       "3596         -0.431533     -0.568575        -0.780433  \n",
       "4928         -1.528651     -1.357506        -1.239511  "
      ]
     },
     "execution_count": 16,
     "metadata": {},
     "output_type": "execute_result"
    }
   ],
   "source": [
    "indicadores['Fez_quiz_z'] = stats.zscore(indicadores['Fez_quiz'],ddof=1)\n",
    "indicadores['Enviou_forum_z'] = stats.zscore(indicadores['Enviou_forum'],ddof=1)\n",
    "indicadores['Viu_tarefa_z'] = stats.zscore(indicadores['Viu_tarefa'],ddof=1)\n",
    "indicadores['Enviou_tarefa_z'] = stats.zscore(indicadores['Enviou_tarefa'],ddof=1)\n",
    "indicadores[:5]"
   ]
  },
  {
   "cell_type": "code",
   "execution_count": 17,
   "id": "average-sampling",
   "metadata": {},
   "outputs": [
    {
     "data": {
      "text/html": [
       "<div>\n",
       "<style scoped>\n",
       "    .dataframe tbody tr th:only-of-type {\n",
       "        vertical-align: middle;\n",
       "    }\n",
       "\n",
       "    .dataframe tbody tr th {\n",
       "        vertical-align: top;\n",
       "    }\n",
       "\n",
       "    .dataframe thead th {\n",
       "        text-align: right;\n",
       "    }\n",
       "</style>\n",
       "<table border=\"1\" class=\"dataframe\">\n",
       "  <thead>\n",
       "    <tr style=\"text-align: right;\">\n",
       "      <th></th>\n",
       "      <th>Fez_quiz</th>\n",
       "      <th>Enviou_forum</th>\n",
       "      <th>Viu_tarefa</th>\n",
       "      <th>Enviou_tarefa</th>\n",
       "      <th>Fez_quiz_z</th>\n",
       "      <th>Enviou_forum_z</th>\n",
       "      <th>Viu_tarefa_z</th>\n",
       "      <th>Enviou_tarefa_z</th>\n",
       "      <th>Engajamento</th>\n",
       "    </tr>\n",
       "    <tr>\n",
       "      <th>userid</th>\n",
       "      <th></th>\n",
       "      <th></th>\n",
       "      <th></th>\n",
       "      <th></th>\n",
       "      <th></th>\n",
       "      <th></th>\n",
       "      <th></th>\n",
       "      <th></th>\n",
       "      <th></th>\n",
       "    </tr>\n",
       "  </thead>\n",
       "  <tbody>\n",
       "    <tr>\n",
       "      <th>1170</th>\n",
       "      <td>2.0</td>\n",
       "      <td>5.0</td>\n",
       "      <td>0.0</td>\n",
       "      <td>0.0</td>\n",
       "      <td>-0.847903</td>\n",
       "      <td>-0.614386</td>\n",
       "      <td>-1.357506</td>\n",
       "      <td>-1.239511</td>\n",
       "      <td>-1.014826</td>\n",
       "    </tr>\n",
       "    <tr>\n",
       "      <th>2471</th>\n",
       "      <td>1.0</td>\n",
       "      <td>0.0</td>\n",
       "      <td>0.0</td>\n",
       "      <td>0.0</td>\n",
       "      <td>-1.329666</td>\n",
       "      <td>-1.528651</td>\n",
       "      <td>-1.357506</td>\n",
       "      <td>-1.239511</td>\n",
       "      <td>-1.363833</td>\n",
       "    </tr>\n",
       "    <tr>\n",
       "      <th>3021</th>\n",
       "      <td>4.0</td>\n",
       "      <td>7.0</td>\n",
       "      <td>29.0</td>\n",
       "      <td>2.0</td>\n",
       "      <td>0.115623</td>\n",
       "      <td>-0.248680</td>\n",
       "      <td>-0.568575</td>\n",
       "      <td>-0.321355</td>\n",
       "      <td>-0.255747</td>\n",
       "    </tr>\n",
       "    <tr>\n",
       "      <th>3596</th>\n",
       "      <td>6.0</td>\n",
       "      <td>6.0</td>\n",
       "      <td>29.0</td>\n",
       "      <td>1.0</td>\n",
       "      <td>1.079149</td>\n",
       "      <td>-0.431533</td>\n",
       "      <td>-0.568575</td>\n",
       "      <td>-0.780433</td>\n",
       "      <td>-0.175348</td>\n",
       "    </tr>\n",
       "    <tr>\n",
       "      <th>4928</th>\n",
       "      <td>2.0</td>\n",
       "      <td>0.0</td>\n",
       "      <td>0.0</td>\n",
       "      <td>0.0</td>\n",
       "      <td>-0.847903</td>\n",
       "      <td>-1.528651</td>\n",
       "      <td>-1.357506</td>\n",
       "      <td>-1.239511</td>\n",
       "      <td>-1.243393</td>\n",
       "    </tr>\n",
       "  </tbody>\n",
       "</table>\n",
       "</div>"
      ],
      "text/plain": [
       "        Fez_quiz  Enviou_forum  Viu_tarefa  Enviou_tarefa  Fez_quiz_z  \\\n",
       "userid                                                                  \n",
       "1170         2.0           5.0         0.0            0.0   -0.847903   \n",
       "2471         1.0           0.0         0.0            0.0   -1.329666   \n",
       "3021         4.0           7.0        29.0            2.0    0.115623   \n",
       "3596         6.0           6.0        29.0            1.0    1.079149   \n",
       "4928         2.0           0.0         0.0            0.0   -0.847903   \n",
       "\n",
       "        Enviou_forum_z  Viu_tarefa_z  Enviou_tarefa_z  Engajamento  \n",
       "userid                                                              \n",
       "1170         -0.614386     -1.357506        -1.239511    -1.014826  \n",
       "2471         -1.528651     -1.357506        -1.239511    -1.363833  \n",
       "3021         -0.248680     -0.568575        -0.321355    -0.255747  \n",
       "3596         -0.431533     -0.568575        -0.780433    -0.175348  \n",
       "4928         -1.528651     -1.357506        -1.239511    -1.243393  "
      ]
     },
     "execution_count": 17,
     "metadata": {},
     "output_type": "execute_result"
    }
   ],
   "source": [
    "indicadores['Engajamento'] = (indicadores['Fez_quiz_z'] + \n",
    "                              indicadores['Enviou_forum_z'] + \n",
    "                              indicadores['Viu_tarefa_z'] + \n",
    "                              indicadores['Enviou_tarefa_z'])/4\n",
    "indicadores[:5]"
   ]
  },
  {
   "cell_type": "markdown",
   "id": "cognitive-kingdom",
   "metadata": {},
   "source": [
    "**Correlacionando os indicadores.**"
   ]
  },
  {
   "cell_type": "code",
   "execution_count": 18,
   "id": "major-skiing",
   "metadata": {},
   "outputs": [
    {
     "data": {
      "text/html": [
       "<div>\n",
       "<style scoped>\n",
       "    .dataframe tbody tr th:only-of-type {\n",
       "        vertical-align: middle;\n",
       "    }\n",
       "\n",
       "    .dataframe tbody tr th {\n",
       "        vertical-align: top;\n",
       "    }\n",
       "\n",
       "    .dataframe thead th {\n",
       "        text-align: right;\n",
       "    }\n",
       "</style>\n",
       "<table border=\"1\" class=\"dataframe\">\n",
       "  <thead>\n",
       "    <tr style=\"text-align: right;\">\n",
       "      <th></th>\n",
       "      <th>Fez_quiz</th>\n",
       "      <th>Enviou_forum</th>\n",
       "      <th>Viu_tarefa</th>\n",
       "      <th>Enviou_tarefa</th>\n",
       "      <th>Fez_quiz_z</th>\n",
       "      <th>Enviou_forum_z</th>\n",
       "      <th>Viu_tarefa_z</th>\n",
       "      <th>Enviou_tarefa_z</th>\n",
       "      <th>Engajamento</th>\n",
       "    </tr>\n",
       "  </thead>\n",
       "  <tbody>\n",
       "    <tr>\n",
       "      <th>Fez_quiz</th>\n",
       "      <td>1.000000</td>\n",
       "      <td>0.595644</td>\n",
       "      <td>0.619947</td>\n",
       "      <td>0.615656</td>\n",
       "      <td>1.000000</td>\n",
       "      <td>0.595644</td>\n",
       "      <td>0.619947</td>\n",
       "      <td>0.615656</td>\n",
       "      <td>0.816310</td>\n",
       "    </tr>\n",
       "    <tr>\n",
       "      <th>Enviou_forum</th>\n",
       "      <td>0.595644</td>\n",
       "      <td>1.000000</td>\n",
       "      <td>0.708481</td>\n",
       "      <td>0.622555</td>\n",
       "      <td>0.595644</td>\n",
       "      <td>1.000000</td>\n",
       "      <td>0.708481</td>\n",
       "      <td>0.622555</td>\n",
       "      <td>0.843825</td>\n",
       "    </tr>\n",
       "    <tr>\n",
       "      <th>Viu_tarefa</th>\n",
       "      <td>0.619947</td>\n",
       "      <td>0.708481</td>\n",
       "      <td>1.000000</td>\n",
       "      <td>0.852438</td>\n",
       "      <td>0.619947</td>\n",
       "      <td>0.708481</td>\n",
       "      <td>1.000000</td>\n",
       "      <td>0.852438</td>\n",
       "      <td>0.917112</td>\n",
       "    </tr>\n",
       "    <tr>\n",
       "      <th>Enviou_tarefa</th>\n",
       "      <td>0.615656</td>\n",
       "      <td>0.622555</td>\n",
       "      <td>0.852438</td>\n",
       "      <td>1.000000</td>\n",
       "      <td>0.615656</td>\n",
       "      <td>0.622555</td>\n",
       "      <td>0.852438</td>\n",
       "      <td>1.000000</td>\n",
       "      <td>0.891101</td>\n",
       "    </tr>\n",
       "    <tr>\n",
       "      <th>Fez_quiz_z</th>\n",
       "      <td>1.000000</td>\n",
       "      <td>0.595644</td>\n",
       "      <td>0.619947</td>\n",
       "      <td>0.615656</td>\n",
       "      <td>1.000000</td>\n",
       "      <td>0.595644</td>\n",
       "      <td>0.619947</td>\n",
       "      <td>0.615656</td>\n",
       "      <td>0.816310</td>\n",
       "    </tr>\n",
       "    <tr>\n",
       "      <th>Enviou_forum_z</th>\n",
       "      <td>0.595644</td>\n",
       "      <td>1.000000</td>\n",
       "      <td>0.708481</td>\n",
       "      <td>0.622555</td>\n",
       "      <td>0.595644</td>\n",
       "      <td>1.000000</td>\n",
       "      <td>0.708481</td>\n",
       "      <td>0.622555</td>\n",
       "      <td>0.843825</td>\n",
       "    </tr>\n",
       "    <tr>\n",
       "      <th>Viu_tarefa_z</th>\n",
       "      <td>0.619947</td>\n",
       "      <td>0.708481</td>\n",
       "      <td>1.000000</td>\n",
       "      <td>0.852438</td>\n",
       "      <td>0.619947</td>\n",
       "      <td>0.708481</td>\n",
       "      <td>1.000000</td>\n",
       "      <td>0.852438</td>\n",
       "      <td>0.917112</td>\n",
       "    </tr>\n",
       "    <tr>\n",
       "      <th>Enviou_tarefa_z</th>\n",
       "      <td>0.615656</td>\n",
       "      <td>0.622555</td>\n",
       "      <td>0.852438</td>\n",
       "      <td>1.000000</td>\n",
       "      <td>0.615656</td>\n",
       "      <td>0.622555</td>\n",
       "      <td>0.852438</td>\n",
       "      <td>1.000000</td>\n",
       "      <td>0.891101</td>\n",
       "    </tr>\n",
       "    <tr>\n",
       "      <th>Engajamento</th>\n",
       "      <td>0.816310</td>\n",
       "      <td>0.843825</td>\n",
       "      <td>0.917112</td>\n",
       "      <td>0.891101</td>\n",
       "      <td>0.816310</td>\n",
       "      <td>0.843825</td>\n",
       "      <td>0.917112</td>\n",
       "      <td>0.891101</td>\n",
       "      <td>1.000000</td>\n",
       "    </tr>\n",
       "  </tbody>\n",
       "</table>\n",
       "</div>"
      ],
      "text/plain": [
       "                 Fez_quiz  Enviou_forum  Viu_tarefa  Enviou_tarefa  \\\n",
       "Fez_quiz         1.000000      0.595644    0.619947       0.615656   \n",
       "Enviou_forum     0.595644      1.000000    0.708481       0.622555   \n",
       "Viu_tarefa       0.619947      0.708481    1.000000       0.852438   \n",
       "Enviou_tarefa    0.615656      0.622555    0.852438       1.000000   \n",
       "Fez_quiz_z       1.000000      0.595644    0.619947       0.615656   \n",
       "Enviou_forum_z   0.595644      1.000000    0.708481       0.622555   \n",
       "Viu_tarefa_z     0.619947      0.708481    1.000000       0.852438   \n",
       "Enviou_tarefa_z  0.615656      0.622555    0.852438       1.000000   \n",
       "Engajamento      0.816310      0.843825    0.917112       0.891101   \n",
       "\n",
       "                 Fez_quiz_z  Enviou_forum_z  Viu_tarefa_z  Enviou_tarefa_z  \\\n",
       "Fez_quiz           1.000000        0.595644      0.619947         0.615656   \n",
       "Enviou_forum       0.595644        1.000000      0.708481         0.622555   \n",
       "Viu_tarefa         0.619947        0.708481      1.000000         0.852438   \n",
       "Enviou_tarefa      0.615656        0.622555      0.852438         1.000000   \n",
       "Fez_quiz_z         1.000000        0.595644      0.619947         0.615656   \n",
       "Enviou_forum_z     0.595644        1.000000      0.708481         0.622555   \n",
       "Viu_tarefa_z       0.619947        0.708481      1.000000         0.852438   \n",
       "Enviou_tarefa_z    0.615656        0.622555      0.852438         1.000000   \n",
       "Engajamento        0.816310        0.843825      0.917112         0.891101   \n",
       "\n",
       "                 Engajamento  \n",
       "Fez_quiz            0.816310  \n",
       "Enviou_forum        0.843825  \n",
       "Viu_tarefa          0.917112  \n",
       "Enviou_tarefa       0.891101  \n",
       "Fez_quiz_z          0.816310  \n",
       "Enviou_forum_z      0.843825  \n",
       "Viu_tarefa_z        0.917112  \n",
       "Enviou_tarefa_z     0.891101  \n",
       "Engajamento         1.000000  "
      ]
     },
     "execution_count": 18,
     "metadata": {},
     "output_type": "execute_result"
    }
   ],
   "source": [
    "indicadores.corr()"
   ]
  },
  {
   "cell_type": "markdown",
   "id": "rolled-gather",
   "metadata": {},
   "source": [
    "**Histograma do engajamento dos alunos na disiciplina.**"
   ]
  },
  {
   "cell_type": "code",
   "execution_count": 19,
   "id": "architectural-scenario",
   "metadata": {},
   "outputs": [
    {
     "data": {
      "text/plain": [
       "<AxesSubplot:xlabel='Engajamento', ylabel='Count'>"
      ]
     },
     "execution_count": 19,
     "metadata": {},
     "output_type": "execute_result"
    },
    {
     "data": {
      "image/png": "[encoded data removed]",
      "text/plain": [
       "<Figure size 432x288 with 1 Axes>"
      ]
     },
     "metadata": {
      "needs_background": "light"
     },
     "output_type": "display_data"
    }
   ],
   "source": [
    "sns.histplot(data=indicadores, x=\"Engajamento\", kde=True)"
   ]
  },
  {
   "cell_type": "code",
   "execution_count": 35,
   "id": "raising-chaos",
   "metadata": {},
   "outputs": [
    {
     "data": {
      "text/html": [
       "<div>\n",
       "<style scoped>\n",
       "    .dataframe tbody tr th:only-of-type {\n",
       "        vertical-align: middle;\n",
       "    }\n",
       "\n",
       "    .dataframe tbody tr th {\n",
       "        vertical-align: top;\n",
       "    }\n",
       "\n",
       "    .dataframe thead th {\n",
       "        text-align: right;\n",
       "    }\n",
       "</style>\n",
       "<table border=\"1\" class=\"dataframe\">\n",
       "  <thead>\n",
       "    <tr style=\"text-align: right;\">\n",
       "      <th></th>\n",
       "      <th>userid</th>\n",
       "      <th>Fez_quiz</th>\n",
       "      <th>Enviou_forum</th>\n",
       "      <th>Viu_tarefa</th>\n",
       "      <th>Enviou_tarefa</th>\n",
       "      <th>Fez_quiz_z</th>\n",
       "      <th>Enviou_forum_z</th>\n",
       "      <th>Viu_tarefa_z</th>\n",
       "      <th>Enviou_tarefa_z</th>\n",
       "      <th>Engajamento</th>\n",
       "      <th>nota</th>\n",
       "    </tr>\n",
       "  </thead>\n",
       "  <tbody>\n",
       "    <tr>\n",
       "      <th>0</th>\n",
       "      <td>1170</td>\n",
       "      <td>2.0</td>\n",
       "      <td>5.0</td>\n",
       "      <td>0.0</td>\n",
       "      <td>0.0</td>\n",
       "      <td>-0.847903</td>\n",
       "      <td>-0.614386</td>\n",
       "      <td>-1.357506</td>\n",
       "      <td>-1.239511</td>\n",
       "      <td>-1.014826</td>\n",
       "      <td>0.73043</td>\n",
       "    </tr>\n",
       "    <tr>\n",
       "      <th>1</th>\n",
       "      <td>2471</td>\n",
       "      <td>1.0</td>\n",
       "      <td>0.0</td>\n",
       "      <td>0.0</td>\n",
       "      <td>0.0</td>\n",
       "      <td>-1.329666</td>\n",
       "      <td>-1.528651</td>\n",
       "      <td>-1.357506</td>\n",
       "      <td>-1.239511</td>\n",
       "      <td>-1.363833</td>\n",
       "      <td>0.26087</td>\n",
       "    </tr>\n",
       "    <tr>\n",
       "      <th>2</th>\n",
       "      <td>3021</td>\n",
       "      <td>4.0</td>\n",
       "      <td>7.0</td>\n",
       "      <td>29.0</td>\n",
       "      <td>2.0</td>\n",
       "      <td>0.115623</td>\n",
       "      <td>-0.248680</td>\n",
       "      <td>-0.568575</td>\n",
       "      <td>-0.321355</td>\n",
       "      <td>-0.255747</td>\n",
       "      <td>5.00000</td>\n",
       "    </tr>\n",
       "    <tr>\n",
       "      <th>3</th>\n",
       "      <td>3596</td>\n",
       "      <td>6.0</td>\n",
       "      <td>6.0</td>\n",
       "      <td>29.0</td>\n",
       "      <td>1.0</td>\n",
       "      <td>1.079149</td>\n",
       "      <td>-0.431533</td>\n",
       "      <td>-0.568575</td>\n",
       "      <td>-0.780433</td>\n",
       "      <td>-0.175348</td>\n",
       "      <td>5.45536</td>\n",
       "    </tr>\n",
       "    <tr>\n",
       "      <th>4</th>\n",
       "      <td>4928</td>\n",
       "      <td>2.0</td>\n",
       "      <td>0.0</td>\n",
       "      <td>0.0</td>\n",
       "      <td>0.0</td>\n",
       "      <td>-0.847903</td>\n",
       "      <td>-1.528651</td>\n",
       "      <td>-1.357506</td>\n",
       "      <td>-1.239511</td>\n",
       "      <td>-1.243393</td>\n",
       "      <td>0.41739</td>\n",
       "    </tr>\n",
       "  </tbody>\n",
       "</table>\n",
       "</div>"
      ],
      "text/plain": [
       "   userid  Fez_quiz  Enviou_forum  Viu_tarefa  Enviou_tarefa  Fez_quiz_z  \\\n",
       "0    1170       2.0           5.0         0.0            0.0   -0.847903   \n",
       "1    2471       1.0           0.0         0.0            0.0   -1.329666   \n",
       "2    3021       4.0           7.0        29.0            2.0    0.115623   \n",
       "3    3596       6.0           6.0        29.0            1.0    1.079149   \n",
       "4    4928       2.0           0.0         0.0            0.0   -0.847903   \n",
       "\n",
       "   Enviou_forum_z  Viu_tarefa_z  Enviou_tarefa_z  Engajamento     nota  \n",
       "0       -0.614386     -1.357506        -1.239511    -1.014826  0.73043  \n",
       "1       -1.528651     -1.357506        -1.239511    -1.363833  0.26087  \n",
       "2       -0.248680     -0.568575        -0.321355    -0.255747  5.00000  \n",
       "3       -0.431533     -0.568575        -0.780433    -0.175348  5.45536  \n",
       "4       -1.528651     -1.357506        -1.239511    -1.243393  0.41739  "
      ]
     },
     "execution_count": 35,
     "metadata": {},
     "output_type": "execute_result"
    }
   ],
   "source": [
    "indicadores_nota = pd.merge(indicadores, notas, how = 'inner', on = 'userid')\n",
    "indicadores_nota[:5]"
   ]
  },
  {
   "cell_type": "markdown",
   "id": "capable-antenna",
   "metadata": {},
   "source": [
    "**Alunos que reprovaram.** "
   ]
  },
  {
   "cell_type": "code",
   "execution_count": 41,
   "id": "female-eleven",
   "metadata": {},
   "outputs": [
    {
     "data": {
      "text/plain": [
       "Text(0, 0.5, 'Fez_quiz')"
      ]
     },
     "execution_count": 41,
     "metadata": {},
     "output_type": "execute_result"
    },
    {
     "data": {
      "image/png": "[encoded data removed]",
      "text/plain": [
       "<Figure size 576x432 with 1 Axes>"
      ]
     },
     "metadata": {
      "needs_background": "light"
     },
     "output_type": "display_data"
    }
   ],
   "source": [
    "data = indicadores_nota['nota']\n",
    "plt.figure(figsize=(8, 6))\n",
    "plt.hist(data, bins=range(0, 12,1))\n",
    "plt.title('Comparação entre a quant. de quiz feitos e as notas')\n",
    "plt.xlabel('nota')\n",
    "plt.ylabel('Fez_quiz')"
   ]
  },
  {
   "cell_type": "code",
   "execution_count": null,
   "id": "chicken-package",
   "metadata": {},
   "outputs": [],
   "source": []
  },
  {
   "cell_type": "code",
   "execution_count": null,
   "id": "controlled-syracuse",
   "metadata": {},
   "outputs": [],
   "source": []
  },
  {
   "cell_type": "code",
   "execution_count": null,
   "id": "powered-emphasis",
   "metadata": {},
   "outputs": [],
   "source": []
  },
  {
   "cell_type": "code",
   "execution_count": null,
   "id": "killing-livestock",
   "metadata": {},
   "outputs": [],
   "source": []
  },
  {
   "cell_type": "code",
   "execution_count": null,
   "id": "fifty-pricing",
   "metadata": {},
   "outputs": [],
   "source": []
  },
  {
   "cell_type": "code",
   "execution_count": null,
   "id": "competitive-comparative",
   "metadata": {},
   "outputs": [],
   "source": []
  },
  {
   "cell_type": "markdown",
   "id": "filled-exhibition",
   "metadata": {},
   "source": [
    "**Possiveis alunos desistentes**"
   ]
  },
  {
   "cell_type": "code",
   "execution_count": 21,
   "id": "civil-resident",
   "metadata": {},
   "outputs": [],
   "source": [
    "#mais indicadores atribuir peso aos indicadores\n",
    "#criar visualisações através do corr\n",
    "#regresões lineares\n",
    "#grades-4300459-2020.csv"
   ]
  },
  {
   "cell_type": "code",
   "execution_count": null,
   "id": "registered-beverage",
   "metadata": {},
   "outputs": [],
   "source": []
  },
  {
   "cell_type": "code",
   "execution_count": null,
   "id": "preliminary-prospect",
   "metadata": {},
   "outputs": [],
   "source": []
  },
  {
   "cell_type": "code",
   "execution_count": null,
   "id": "recreational-portuguese",
   "metadata": {},
   "outputs": [],
   "source": []
  }
 ],
 "metadata": {
  "kernelspec": {
   "display_name": "Python 3",
   "language": "python",
   "name": "python3"
  },
  "language_info": {
   "codemirror_mode": {
    "name": "ipython",
    "version": 3
   },
   "file_extension": ".py",
   "mimetype": "text/x-python",
   "name": "python",
   "nbconvert_exporter": "python",
   "pygments_lexer": "ipython3",
   "version": "3.8.6"
  }
 },
 "nbformat": 4,
 "nbformat_minor": 5
}
